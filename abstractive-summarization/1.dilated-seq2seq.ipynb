{
 "cells": [
  {
   "cell_type": "code",
   "execution_count": 1,
   "metadata": {},
   "outputs": [
    {
     "name": "stderr",
     "output_type": "stream",
     "text": [
      "/usr/local/lib/python3.6/dist-packages/sklearn/cross_validation.py:41: DeprecationWarning: This module was deprecated in version 0.18 in favor of the model_selection module into which all the refactored classes and functions are moved. Also note that the interface of the new CV iterators are different from that of this module. This module will be removed in 0.20.\n",
      "  \"This module will be removed in 0.20.\", DeprecationWarning)\n"
     ]
    }
   ],
   "source": [
    "import os\n",
    "import re\n",
    "import tensorflow as tf\n",
    "import numpy as np\n",
    "import json\n",
    "import collections\n",
    "from sklearn.cross_validation import train_test_split\n",
    "from tensor2tensor.utils import beam_search, rouge"
   ]
  },
  {
   "cell_type": "code",
   "execution_count": 2,
   "metadata": {},
   "outputs": [
    {
     "data": {
      "text/plain": [
       "29855"
      ]
     },
     "execution_count": 2,
     "metadata": {},
     "output_type": "execute_result"
    }
   ],
   "source": [
    "with open('news-30k.json') as fopen:\n",
    "    news = json.load(fopen)\n",
    "len(news)"
   ]
  },
  {
   "cell_type": "code",
   "execution_count": 3,
   "metadata": {},
   "outputs": [
    {
     "data": {
      "text/plain": [
       "{'title': 'Ibu saudara Haziq terharu sokongan rakyat Malaysia',\n",
       " 'url': 'https://www.themalaysianinsight.com/bahasa/s/142491',\n",
       " 'news': 'themalaysianinsight',\n",
       " 'language': 'malay',\n",
       " 'top-image': 'https://www.themalaysianinsight.com/resources/stories_images/142491/perhimpunanan_solidarity_kedamaian_03__full.jpg',\n",
       " 'text': 'WARIS keluarga Allahyarham Muhammad Haziq Mohd Tarmizi, 17, yang terkorban dalam tragedi tembakan di Christchurch, New Zealand, pada 15 Mac lepas, melahirkan rasa terharu akan sokongan diberi rakyat Malaysia semasa perhimpunan Solidariti Kedamaian.\\n\\nZarina Shuib , ibu saudara Muhammad Haziq, memanjatkan kesyukuran kepada Allah SWT kerana berkesempatan menyertai rakyat Malaysia dalam perhimpunan itu di Kuala Lumpur hari ini.',\n",
       " 'date': '2019-03-23T03:52:02',\n",
       " 'date_utc': '2019-03-22T19:52:02'}"
      ]
     },
     "execution_count": 3,
     "metadata": {},
     "output_type": "execute_result"
    }
   ],
   "source": [
    "news[0]"
   ]
  },
  {
   "cell_type": "code",
   "execution_count": 4,
   "metadata": {},
   "outputs": [],
   "source": [
    "import malaya\n",
    "tokenizer = malaya.preprocessing._SocialTokenizer().tokenize\n",
    "\n",
    "accept_tokens = ',-.()\"\\''\n",
    "\n",
    "def is_number_regex(s):\n",
    "    if re.match(\"^\\d+?\\.\\d+?$\", s) is None:\n",
    "        return s.isdigit()\n",
    "    return True\n",
    "\n",
    "def detect_money(word):\n",
    "    if word[:2] == 'rm' and is_number_regex(word[2:]):\n",
    "        return True\n",
    "    else:\n",
    "        return False\n",
    "\n",
    "def preprocessing(string):\n",
    "    tokenized = tokenizer(string)\n",
    "    tokenized = [w.lower() for w in tokenized if len(w) > 1 or w in accept_tokens]\n",
    "    tokenized = ['<NUM>' if is_number_regex(w) else w for w in tokenized]\n",
    "    tokenized = ['<MONEY>' if detect_money(w) else w for w in tokenized]\n",
    "    return tokenized\n",
    "\n",
    "def clean_label(label):\n",
    "    string = re.sub('[^A-Za-z\\- ]+', ' ', label)\n",
    "    return re.sub(r'[ ]+', ' ', string.lower()).strip()"
   ]
  },
  {
   "cell_type": "code",
   "execution_count": 5,
   "metadata": {},
   "outputs": [
    {
     "name": "stderr",
     "output_type": "stream",
     "text": [
      "100%|██████████| 29855/29855 [00:45<00:00, 662.58it/s]\n"
     ]
    }
   ],
   "source": [
    "from tqdm import tqdm\n",
    "\n",
    "min_len = 5\n",
    "max_len = 500\n",
    "\n",
    "x, y = [], []\n",
    "for n in tqdm(news):\n",
    "    if len(n['text'].split()) > min_len:\n",
    "        p = preprocessing(n['text'])[:max_len]\n",
    "        x.append(p)\n",
    "        p = preprocessing(n['title'])\n",
    "        y.append(p)"
   ]
  },
  {
   "cell_type": "code",
   "execution_count": 6,
   "metadata": {},
   "outputs": [
    {
     "data": {
      "text/plain": [
       "(29855, 29855)"
      ]
     },
     "execution_count": 6,
     "metadata": {},
     "output_type": "execute_result"
    }
   ],
   "source": [
    "len(x), len(y)"
   ]
  },
  {
   "cell_type": "code",
   "execution_count": 7,
   "metadata": {},
   "outputs": [],
   "source": [
    "def build_dataset(words, n_words):\n",
    "    count = [['PAD', 0], ['GO', 1], ['EOS', 2], ['UNK', 3]]\n",
    "    count.extend(collections.Counter(words).most_common(n_words))\n",
    "    dictionary = dict()\n",
    "    for word, _ in count:\n",
    "        dictionary[word] = len(dictionary)\n",
    "    data = list()\n",
    "    unk_count = 0\n",
    "    for word in words:\n",
    "        index = dictionary.get(word, 0)\n",
    "        if index == 0:\n",
    "            unk_count += 1\n",
    "        data.append(index)\n",
    "    count[0][1] = unk_count\n",
    "    reversed_dictionary = dict(zip(dictionary.values(), dictionary.keys()))\n",
    "    return data, count, dictionary, reversed_dictionary"
   ]
  },
  {
   "cell_type": "code",
   "execution_count": 8,
   "metadata": {},
   "outputs": [
    {
     "name": "stdout",
     "output_type": "stream",
     "text": [
      "vocab from size: 88660\n",
      "Most common words [(',', 388655), ('.', 339847), ('yang', 159163), ('dan', 148885), ('di', 128404), ('-', 123230)]\n",
      "Sample data [4308, 289, 1459, 354, 1533, 117, 3688, 4, 10, 4] ['waris', 'keluarga', 'allahyarham', 'muhammad', 'haziq', 'mohd', 'tarmizi', ',', '<NUM>', ',']\n",
      "filtered vocab size: 88664\n",
      "% of vocab used: 100.0%\n"
     ]
    }
   ],
   "source": [
    "import itertools\n",
    "\n",
    "concat = list(itertools.chain(*x)) + list(itertools.chain(*y))\n",
    "vocabulary_size = len(list(set(concat)))\n",
    "data, count, dictionary, rev_dictionary = build_dataset(concat, vocabulary_size)\n",
    "print('vocab from size: %d'%(vocabulary_size))\n",
    "print('Most common words', count[4:10])\n",
    "print('Sample data', data[:10], [rev_dictionary[i] for i in data[:10]])\n",
    "print('filtered vocab size:',len(dictionary))\n",
    "print(\"% of vocab used: {}%\".format(round(len(dictionary)/vocabulary_size,4)*100))"
   ]
  },
  {
   "cell_type": "code",
   "execution_count": 9,
   "metadata": {},
   "outputs": [],
   "source": [
    "for i in range(len(y)):\n",
    "    y[i].append('EOS')"
   ]
  },
  {
   "cell_type": "code",
   "execution_count": 10,
   "metadata": {},
   "outputs": [],
   "source": [
    "GO = dictionary['GO']\n",
    "PAD = dictionary['PAD']\n",
    "EOS = dictionary['EOS']\n",
    "UNK = dictionary['UNK']"
   ]
  },
  {
   "cell_type": "code",
   "execution_count": 11,
   "metadata": {},
   "outputs": [],
   "source": [
    "def str_idx(corpus, dic, UNK=3):\n",
    "    X = []\n",
    "    for i in corpus:\n",
    "        ints = []\n",
    "        for k in i:\n",
    "            ints.append(dic.get(k, UNK))\n",
    "        X.append(ints)\n",
    "    return X"
   ]
  },
  {
   "cell_type": "code",
   "execution_count": 12,
   "metadata": {},
   "outputs": [],
   "source": [
    "X = str_idx(x, dictionary)\n",
    "Y = str_idx(y, dictionary)"
   ]
  },
  {
   "cell_type": "code",
   "execution_count": 13,
   "metadata": {},
   "outputs": [],
   "source": [
    "train_X, test_X, train_Y, test_Y = train_test_split(X, Y, test_size = 0.1)"
   ]
  },
  {
   "cell_type": "code",
   "execution_count": 14,
   "metadata": {},
   "outputs": [],
   "source": [
    "def embed_seq(x, vocab_sz, embed_dim, name, zero_pad=True): \n",
    "    embedding = tf.get_variable(name, [vocab_sz, embed_dim]) \n",
    "    if zero_pad:\n",
    "        embedding = tf.concat([tf.zeros([1, embed_dim]), embedding[1:, :]], 0) \n",
    "    x = tf.nn.embedding_lookup(embedding, x)\n",
    "    return x\n",
    "\n",
    "def position_encoding(inputs):\n",
    "    T = tf.shape(inputs)[1]\n",
    "    repr_dim = inputs.get_shape()[-1].value\n",
    "    pos = tf.reshape(tf.range(0.0, tf.to_float(T), dtype=tf.float32), [-1, 1])\n",
    "    i = np.arange(0, repr_dim, 2, np.float32)\n",
    "    denom = np.reshape(np.power(10000.0, i / repr_dim), [1, -1])\n",
    "    enc = tf.expand_dims(tf.concat([tf.sin(pos / denom), tf.cos(pos / denom)], 1), 0)\n",
    "    return tf.tile(enc, [tf.shape(inputs)[0], 1, 1])\n",
    "\n",
    "def layer_norm(inputs, epsilon=1e-8):\n",
    "    mean, variance = tf.nn.moments(inputs, [-1], keep_dims=True)\n",
    "    normalized = (inputs - mean) / (tf.sqrt(variance + epsilon))\n",
    "    params_shape = inputs.get_shape()[-1:]\n",
    "    gamma = tf.get_variable('gamma', params_shape, tf.float32, tf.ones_initializer())\n",
    "    beta = tf.get_variable('beta', params_shape, tf.float32, tf.zeros_initializer())\n",
    "    return gamma * normalized + beta\n",
    "\n",
    "\n",
    "def cnn_block(x, dilation_rate, pad_sz, hidden_dim, kernel_size):\n",
    "    x = layer_norm(x)\n",
    "    pad = tf.zeros([tf.shape(x)[0], pad_sz, hidden_dim])\n",
    "    x =  tf.layers.conv1d(inputs = tf.concat([pad, x, pad], 1),\n",
    "                          filters = hidden_dim,\n",
    "                          kernel_size = kernel_size,\n",
    "                          dilation_rate = dilation_rate)\n",
    "    x = x[:, :-pad_sz, :]\n",
    "    x = tf.nn.relu(x)\n",
    "    return x\n",
    "\n",
    "class Summarization:\n",
    "    def __init__(self, size_layer, num_layers, embedded_size, \n",
    "                 dict_size, learning_rate, \n",
    "                 kernel_size = 2, n_attn_heads = 16):\n",
    "\n",
    "        self.X = tf.placeholder(tf.int32, [None, None])\n",
    "        self.Y = tf.placeholder(tf.int32, [None, None])\n",
    "\n",
    "        self.X_seq_len = tf.count_nonzero(self.X, 1, dtype = tf.int32)\n",
    "        self.Y_seq_len = tf.count_nonzero(self.Y, 1, dtype = tf.int32)\n",
    "        batch_size = tf.shape(self.X)[0]\n",
    "        self.batch_size = batch_size\n",
    "        main = tf.strided_slice(self.Y, [0, 0], [batch_size, -1], [1, 1])\n",
    "        decoder_input = tf.concat([tf.fill([batch_size, 1], GO), main], 1)\n",
    "        \n",
    "        self.embedding = tf.Variable(tf.random_uniform([dict_size, embedded_size], -1, 1))\n",
    "        \n",
    "        self.num_layers = num_layers\n",
    "        self.kernel_size = kernel_size\n",
    "        self.size_layer = size_layer\n",
    "        self.n_attn_heads = n_attn_heads\n",
    "        self.dict_size = dict_size\n",
    "        \n",
    "        self.training_logits = self.forward(self.X, decoder_input)\n",
    "\n",
    "        masks = tf.sequence_mask(self.Y_seq_len, tf.reduce_max(self.Y_seq_len), dtype=tf.float32)\n",
    "        self.cost = tf.contrib.seq2seq.sequence_loss(logits = self.training_logits,\n",
    "                                                     targets = self.Y,\n",
    "                                                     weights = masks)\n",
    "        self.optimizer = tf.train.AdamOptimizer(learning_rate = learning_rate).minimize(self.cost)\n",
    "        y_t = tf.argmax(self.training_logits,axis=2)\n",
    "        y_t = tf.cast(y_t, tf.int32)\n",
    "        self.prediction = tf.boolean_mask(y_t, masks)\n",
    "        mask_label = tf.boolean_mask(self.Y, masks)\n",
    "        correct_pred = tf.equal(self.prediction, mask_label)\n",
    "        correct_index = tf.cast(correct_pred, tf.float32)\n",
    "        self.accuracy = tf.reduce_mean(tf.cast(correct_pred, tf.float32))\n",
    "        \n",
    "    def forward(self, x, y, reuse = False):\n",
    "        with tf.variable_scope('forward',reuse=reuse):\n",
    "            with tf.variable_scope('forward',reuse=reuse):\n",
    "                encoder_embedded = tf.nn.embedding_lookup(self.embedding, x)\n",
    "                decoder_embedded = tf.nn.embedding_lookup(self.embedding, y)\n",
    "                encoder_embedded += position_encoding(encoder_embedded)\n",
    "\n",
    "                for i in range(self.num_layers): \n",
    "                    dilation_rate = 2 ** i\n",
    "                    pad_sz = (self.kernel_size - 1) * dilation_rate \n",
    "                    with tf.variable_scope('block_%d'%i,reuse=reuse):\n",
    "                        encoder_embedded += cnn_block(encoder_embedded, dilation_rate, \n",
    "                                                      pad_sz, self.size_layer, self.kernel_size)\n",
    "\n",
    "                g = tf.identity(decoder_embedded)\n",
    "                for i in range(self.num_layers):\n",
    "                    dilation_rate = 2 ** i\n",
    "                    pad_sz = (self.kernel_size - 1) * dilation_rate\n",
    "                    with tf.variable_scope('decode_%d'%i,reuse=reuse):\n",
    "                        attn_res = h = cnn_block(decoder_embedded, dilation_rate, \n",
    "                                                 pad_sz, self.size_layer, self.kernel_size)\n",
    "                        C = []\n",
    "                        for j in range(self.n_attn_heads):\n",
    "                            h_ = tf.layers.dense(h, self.size_layer//self.n_attn_heads)\n",
    "                            g_ = tf.layers.dense(g, self.size_layer//self.n_attn_heads)\n",
    "                            zu_ = tf.layers.dense(encoder_embedded, self.size_layer//self.n_attn_heads)\n",
    "                            ze_ = tf.layers.dense(encoder_embedded, self.size_layer//self.n_attn_heads)\n",
    "\n",
    "                            d = tf.layers.dense(h_, self.size_layer//self.n_attn_heads) + g_\n",
    "                            dz = tf.matmul(d, tf.transpose(zu_, [0, 2, 1]))\n",
    "                            a = tf.nn.softmax(dz)\n",
    "                            c_ = tf.matmul(a, ze_)\n",
    "                            C.append(c_)\n",
    "\n",
    "                        c = tf.concat(C, 2)\n",
    "                        h = tf.layers.dense(attn_res + c, self.size_layer)\n",
    "                        decoder_embedded += h\n",
    "\n",
    "                return tf.layers.dense(decoder_embedded, self.dict_size)"
   ]
  },
  {
   "cell_type": "code",
   "execution_count": 15,
   "metadata": {},
   "outputs": [],
   "source": [
    "size_layer = 256\n",
    "num_layers = 4\n",
    "embedded_size = 256\n",
    "learning_rate = 1e-3\n",
    "batch_size = 12\n",
    "epoch = 20"
   ]
  },
  {
   "cell_type": "code",
   "execution_count": 16,
   "metadata": {},
   "outputs": [],
   "source": [
    "def beam_search_decoding(length = 20, beam_width = 5):\n",
    "    initial_ids = tf.fill([model.batch_size], GO)\n",
    "    \n",
    "    def symbols_to_logits(ids):\n",
    "        x = tf.contrib.seq2seq.tile_batch(model.X, beam_width)\n",
    "        logits = model.forward(x, ids, reuse = True)\n",
    "        return logits[:, tf.shape(ids)[1]-1, :]\n",
    "\n",
    "    final_ids, final_probs = beam_search.beam_search(\n",
    "        symbols_to_logits,\n",
    "        initial_ids,\n",
    "        beam_width,\n",
    "        length,\n",
    "        len(dictionary),\n",
    "        0.0,\n",
    "        eos_id = EOS)\n",
    "    \n",
    "    return final_ids"
   ]
  },
  {
   "cell_type": "code",
   "execution_count": 17,
   "metadata": {},
   "outputs": [],
   "source": [
    "tf.reset_default_graph()\n",
    "sess = tf.InteractiveSession()\n",
    "model = Summarization(size_layer, num_layers, embedded_size, \n",
    "                      len(dictionary), learning_rate)\n",
    "model.generate = beam_search_decoding()\n",
    "sess.run(tf.global_variables_initializer())"
   ]
  },
  {
   "cell_type": "code",
   "execution_count": 18,
   "metadata": {},
   "outputs": [],
   "source": [
    "def pad_sentence_batch(sentence_batch, pad_int):\n",
    "    padded_seqs = []\n",
    "    seq_lens = []\n",
    "    max_sentence_len = max([len(sentence) for sentence in sentence_batch])\n",
    "    for sentence in sentence_batch:\n",
    "        padded_seqs.append(sentence + [pad_int] * (max_sentence_len - len(sentence)))\n",
    "        seq_lens.append(len(sentence))\n",
    "    return padded_seqs, seq_lens"
   ]
  },
  {
   "cell_type": "code",
   "execution_count": 19,
   "metadata": {},
   "outputs": [],
   "source": [
    "batch_x, _ = pad_sentence_batch(train_X[:10], PAD)\n",
    "batch_y, _ = pad_sentence_batch(train_Y[:10], PAD)\n",
    "l, acc, loss, _ = sess.run([model.training_logits, model.accuracy, model.cost, model.optimizer], \n",
    "                                      feed_dict={model.X:batch_x,\n",
    "                                                model.Y:batch_y})"
   ]
  },
  {
   "cell_type": "code",
   "execution_count": 42,
   "metadata": {},
   "outputs": [],
   "source": [
    "from keras.preprocessing import sequence\n",
    "\n",
    "def calculate_rouges(predicted, batch_y):\n",
    "    non = np.count_nonzero(batch_y, axis = 1)\n",
    "    o = []\n",
    "    for n in non:\n",
    "        o.append([True for _ in range(n)])\n",
    "    b = sequence.pad_sequences(o, dtype = np.bool, padding = 'post', value = False)\n",
    "    batch_y = np.array(batch_y)\n",
    "    rouges = []\n",
    "    for i in range(predicted.shape[0]):\n",
    "        a = batch_y[i][b[i]]\n",
    "        p = predicted[i][b[i]]\n",
    "        rouges.append(rouge.rouge_n([p], [a]))\n",
    "    return np.mean(rouges)"
   ]
  },
  {
   "cell_type": "code",
   "execution_count": 43,
   "metadata": {},
   "outputs": [
    {
     "name": "stderr",
     "output_type": "stream",
     "text": [
      "train minibatch loop: 100%|██████████| 2240/2240 [08:49<00:00,  4.58it/s, accuracy=0.167, cost=4.41, rouge_2=0]      \n",
      "test minibatch loop: 100%|██████████| 249/249 [00:27<00:00,  9.73it/s, accuracy=0.277, cost=5.74, rouge_2=0.0973] \n",
      "train minibatch loop:   0%|          | 0/2240 [00:00<?, ?it/s]"
     ]
    },
    {
     "name": "stdout",
     "output_type": "stream",
     "text": [
      "epoch: 0, avg loss: 6.818431, avg accuracy: 0.171947\n",
      "epoch: 0, avg loss test: 6.112989, avg accuracy test: 0.207118\n",
      "epoch: 0, avg train rouge: 0.030709, avg test rouge: 0.065109\n"
     ]
    },
    {
     "name": "stderr",
     "output_type": "stream",
     "text": [
      "train minibatch loop: 100%|██████████| 2240/2240 [08:43<00:00,  4.69it/s, accuracy=0.0714, cost=6.63, rouge_2=0]     \n",
      "test minibatch loop: 100%|██████████| 249/249 [00:25<00:00, 10.17it/s, accuracy=0.186, cost=6.17, rouge_2=0.0222]\n",
      "train minibatch loop:   0%|          | 0/2240 [00:00<?, ?it/s]"
     ]
    },
    {
     "name": "stdout",
     "output_type": "stream",
     "text": [
      "epoch: 1, avg loss: 4.999484, avg accuracy: 0.274408\n",
      "epoch: 1, avg loss test: 5.525000, avg accuracy test: 0.279031\n",
      "epoch: 1, avg train rouge: 0.106283, avg test rouge: 0.117773\n"
     ]
    },
    {
     "name": "stderr",
     "output_type": "stream",
     "text": [
      "train minibatch loop: 100%|██████████| 2240/2240 [08:43<00:00,  4.67it/s, accuracy=0, cost=8.2, rouge_2=0]          \n",
      "test minibatch loop: 100%|██████████| 249/249 [00:25<00:00,  9.86it/s, accuracy=0.191, cost=7.59, rouge_2=0.0507]\n",
      "train minibatch loop:   0%|          | 0/2240 [00:00<?, ?it/s]"
     ]
    },
    {
     "name": "stdout",
     "output_type": "stream",
     "text": [
      "epoch: 2, avg loss: 3.920182, avg accuracy: 0.354289\n",
      "epoch: 2, avg loss test: 5.413165, avg accuracy test: 0.322328\n",
      "epoch: 2, avg train rouge: 0.169454, avg test rouge: 0.159883\n"
     ]
    },
    {
     "name": "stderr",
     "output_type": "stream",
     "text": [
      "train minibatch loop: 100%|██████████| 2240/2240 [08:42<00:00,  4.80it/s, accuracy=0.333, cost=3.99, rouge_2=0.125] \n",
      "test minibatch loop: 100%|██████████| 249/249 [00:25<00:00,  9.83it/s, accuracy=0.326, cost=6.09, rouge_2=0.229]  \n",
      "train minibatch loop:   0%|          | 0/2240 [00:00<?, ?it/s]"
     ]
    },
    {
     "name": "stdout",
     "output_type": "stream",
     "text": [
      "epoch: 3, avg loss: 3.199538, avg accuracy: 0.428540\n",
      "epoch: 3, avg loss test: 5.530151, avg accuracy test: 0.338215\n",
      "epoch: 3, avg train rouge: 0.227199, avg test rouge: 0.178586\n"
     ]
    },
    {
     "name": "stderr",
     "output_type": "stream",
     "text": [
      "train minibatch loop: 100%|██████████| 2240/2240 [08:42<00:00,  5.02it/s, accuracy=0.308, cost=3.17, rouge_2=0.0833]\n",
      "test minibatch loop: 100%|██████████| 249/249 [00:25<00:00, 10.09it/s, accuracy=0.382, cost=6.62, rouge_2=0.206] \n",
      "train minibatch loop:   0%|          | 0/2240 [00:00<?, ?it/s]"
     ]
    },
    {
     "name": "stdout",
     "output_type": "stream",
     "text": [
      "epoch: 4, avg loss: 2.745188, avg accuracy: 0.483630\n",
      "epoch: 4, avg loss test: 5.909317, avg accuracy test: 0.348528\n",
      "epoch: 4, avg train rouge: 0.275914, avg test rouge: 0.187344\n"
     ]
    },
    {
     "name": "stderr",
     "output_type": "stream",
     "text": [
      "train minibatch loop: 100%|██████████| 2240/2240 [08:43<00:00,  4.86it/s, accuracy=0.778, cost=0.666, rouge_2=0.5]  \n",
      "test minibatch loop: 100%|██████████| 249/249 [00:25<00:00, 10.09it/s, accuracy=0.407, cost=6.28, rouge_2=0.217]  \n",
      "train minibatch loop:   0%|          | 0/2240 [00:00<?, ?it/s]"
     ]
    },
    {
     "name": "stdout",
     "output_type": "stream",
     "text": [
      "epoch: 5, avg loss: 2.430390, avg accuracy: 0.524540\n",
      "epoch: 5, avg loss test: 6.273368, avg accuracy test: 0.349211\n",
      "epoch: 5, avg train rouge: 0.316919, avg test rouge: 0.190898\n"
     ]
    },
    {
     "name": "stderr",
     "output_type": "stream",
     "text": [
      "train minibatch loop: 100%|██████████| 2240/2240 [08:42<00:00,  4.86it/s, accuracy=0.667, cost=0.853, rouge_2=0.5]  \n",
      "test minibatch loop: 100%|██████████| 249/249 [00:25<00:00,  9.59it/s, accuracy=0.289, cost=7.63, rouge_2=0.121] \n",
      "train minibatch loop:   0%|          | 0/2240 [00:00<?, ?it/s]"
     ]
    },
    {
     "name": "stdout",
     "output_type": "stream",
     "text": [
      "epoch: 6, avg loss: 2.238658, avg accuracy: 0.551860\n",
      "epoch: 6, avg loss test: 6.578097, avg accuracy test: 0.347707\n",
      "epoch: 6, avg train rouge: 0.344644, avg test rouge: 0.189197\n"
     ]
    },
    {
     "name": "stderr",
     "output_type": "stream",
     "text": [
      "train minibatch loop: 100%|██████████| 2240/2240 [08:42<00:00,  4.92it/s, accuracy=0.889, cost=1.02, rouge_2=0.875] \n",
      "test minibatch loop: 100%|██████████| 249/249 [00:24<00:00,  9.95it/s, accuracy=0.385, cost=6.06, rouge_2=0.314]  \n",
      "train minibatch loop:   0%|          | 0/2240 [00:00<?, ?it/s]"
     ]
    },
    {
     "name": "stdout",
     "output_type": "stream",
     "text": [
      "epoch: 7, avg loss: 2.053173, avg accuracy: 0.580353\n",
      "epoch: 7, avg loss test: 6.919445, avg accuracy test: 0.361813\n",
      "epoch: 7, avg train rouge: 0.377351, avg test rouge: 0.201893\n"
     ]
    },
    {
     "name": "stderr",
     "output_type": "stream",
     "text": [
      "train minibatch loop: 100%|██████████| 2240/2240 [08:42<00:00,  4.62it/s, accuracy=0.714, cost=0.658, rouge_2=0.667]\n",
      "test minibatch loop: 100%|██████████| 249/249 [00:25<00:00,  9.72it/s, accuracy=0.439, cost=6.05, rouge_2=0.263] \n",
      "train minibatch loop:   0%|          | 0/2240 [00:00<?, ?it/s]"
     ]
    },
    {
     "name": "stdout",
     "output_type": "stream",
     "text": [
      "epoch: 8, avg loss: 1.901131, avg accuracy: 0.605320\n",
      "epoch: 8, avg loss test: 7.117372, avg accuracy test: 0.352279\n",
      "epoch: 8, avg train rouge: 0.405827, avg test rouge: 0.208454\n"
     ]
    },
    {
     "name": "stderr",
     "output_type": "stream",
     "text": [
      "train minibatch loop: 100%|██████████| 2240/2240 [08:42<00:00,  4.87it/s, accuracy=0.333, cost=4.09, rouge_2=0.125] \n",
      "test minibatch loop: 100%|██████████| 249/249 [00:24<00:00, 10.14it/s, accuracy=0.495, cost=6.77, rouge_2=0.33]  \n",
      "train minibatch loop:   0%|          | 0/2240 [00:00<?, ?it/s]"
     ]
    },
    {
     "name": "stdout",
     "output_type": "stream",
     "text": [
      "epoch: 9, avg loss: 1.814632, avg accuracy: 0.619794\n",
      "epoch: 9, avg loss test: 7.616632, avg accuracy test: 0.368821\n",
      "epoch: 9, avg train rouge: 0.423145, avg test rouge: 0.217142\n"
     ]
    },
    {
     "name": "stderr",
     "output_type": "stream",
     "text": [
      "train minibatch loop: 100%|██████████| 2240/2240 [08:43<00:00,  4.83it/s, accuracy=0.25, cost=4.28, rouge_2=0]      \n",
      "test minibatch loop: 100%|██████████| 249/249 [00:25<00:00,  9.78it/s, accuracy=0.181, cost=10.7, rouge_2=0.0389]\n",
      "train minibatch loop:   0%|          | 0/2240 [00:00<?, ?it/s]"
     ]
    },
    {
     "name": "stdout",
     "output_type": "stream",
     "text": [
      "epoch: 10, avg loss: 1.716998, avg accuracy: 0.638041\n",
      "epoch: 10, avg loss test: 8.013822, avg accuracy test: 0.356700\n",
      "epoch: 10, avg train rouge: 0.444813, avg test rouge: 0.213070\n"
     ]
    },
    {
     "name": "stderr",
     "output_type": "stream",
     "text": [
      "train minibatch loop: 100%|██████████| 2240/2240 [08:42<00:00,  4.79it/s, accuracy=0, cost=6.24, rouge_2=0]         \n",
      "test minibatch loop: 100%|██████████| 249/249 [00:25<00:00,  9.77it/s, accuracy=0.315, cost=10.5, rouge_2=0.213] \n",
      "train minibatch loop:   0%|          | 0/2240 [00:00<?, ?it/s]"
     ]
    },
    {
     "name": "stdout",
     "output_type": "stream",
     "text": [
      "epoch: 11, avg loss: 1.712711, avg accuracy: 0.642915\n",
      "epoch: 11, avg loss test: 8.331740, avg accuracy test: 0.368230\n",
      "epoch: 11, avg train rouge: 0.451198, avg test rouge: 0.221297\n"
     ]
    },
    {
     "name": "stderr",
     "output_type": "stream",
     "text": [
      "train minibatch loop: 100%|██████████| 2240/2240 [08:42<00:00,  4.89it/s, accuracy=0.444, cost=3.05, rouge_2=0.125] \n",
      "test minibatch loop: 100%|██████████| 249/249 [00:25<00:00,  9.33it/s, accuracy=0.327, cost=11.6, rouge_2=0.242] \n",
      "train minibatch loop:   0%|          | 0/2240 [00:00<?, ?it/s]"
     ]
    },
    {
     "name": "stdout",
     "output_type": "stream",
     "text": [
      "epoch: 12, avg loss: 1.631060, avg accuracy: 0.657665\n",
      "epoch: 12, avg loss test: 8.894247, avg accuracy test: 0.360014\n",
      "epoch: 12, avg train rouge: 0.469315, avg test rouge: 0.210628\n"
     ]
    },
    {
     "name": "stderr",
     "output_type": "stream",
     "text": [
      "train minibatch loop: 100%|██████████| 2240/2240 [08:42<00:00,  5.02it/s, accuracy=0.462, cost=5.47, rouge_2=0.25]  \n",
      "test minibatch loop: 100%|██████████| 249/249 [00:25<00:00,  9.88it/s, accuracy=0.427, cost=7.48, rouge_2=0.218] \n",
      "train minibatch loop:   0%|          | 0/2240 [00:00<?, ?it/s]"
     ]
    },
    {
     "name": "stdout",
     "output_type": "stream",
     "text": [
      "epoch: 13, avg loss: 1.689837, avg accuracy: 0.657037\n",
      "epoch: 13, avg loss test: 9.467714, avg accuracy test: 0.355562\n",
      "epoch: 13, avg train rouge: 0.468034, avg test rouge: 0.207786\n"
     ]
    },
    {
     "name": "stderr",
     "output_type": "stream",
     "text": [
      "train minibatch loop: 100%|██████████| 2240/2240 [08:42<00:00,  4.79it/s, accuracy=0.571, cost=2.48, rouge_2=0.167] \n",
      "test minibatch loop: 100%|██████████| 249/249 [00:25<00:00,  9.94it/s, accuracy=0.484, cost=8.15, rouge_2=0.399] \n",
      "train minibatch loop:   0%|          | 0/2240 [00:00<?, ?it/s]"
     ]
    },
    {
     "name": "stdout",
     "output_type": "stream",
     "text": [
      "epoch: 14, avg loss: 1.637637, avg accuracy: 0.665320\n",
      "epoch: 14, avg loss test: 9.608679, avg accuracy test: 0.354063\n",
      "epoch: 14, avg train rouge: 0.478025, avg test rouge: 0.218937\n"
     ]
    },
    {
     "name": "stderr",
     "output_type": "stream",
     "text": [
      "train minibatch loop: 100%|██████████| 2240/2240 [08:43<00:00,  4.95it/s, accuracy=0.625, cost=4.6, rouge_2=0.286]  \n",
      "test minibatch loop: 100%|██████████| 249/249 [00:25<00:00,  9.84it/s, accuracy=0.592, cost=8.91, rouge_2=0.474] \n",
      "train minibatch loop:   0%|          | 0/2240 [00:00<?, ?it/s]"
     ]
    },
    {
     "name": "stdout",
     "output_type": "stream",
     "text": [
      "epoch: 15, avg loss: 1.577526, avg accuracy: 0.678844\n",
      "epoch: 15, avg loss test: 10.291262, avg accuracy test: 0.355242\n",
      "epoch: 15, avg train rouge: 0.497572, avg test rouge: 0.213384\n"
     ]
    },
    {
     "name": "stderr",
     "output_type": "stream",
     "text": [
      "train minibatch loop: 100%|██████████| 2240/2240 [08:42<00:00,  4.80it/s, accuracy=0.714, cost=1.64, rouge_2=0.5]   \n",
      "test minibatch loop: 100%|██████████| 249/249 [00:24<00:00, 10.32it/s, accuracy=0.411, cost=7.62, rouge_2=0.245] \n",
      "train minibatch loop:   0%|          | 0/2240 [00:00<?, ?it/s]"
     ]
    },
    {
     "name": "stdout",
     "output_type": "stream",
     "text": [
      "epoch: 16, avg loss: 1.452268, avg accuracy: 0.698912\n",
      "epoch: 16, avg loss test: 10.181980, avg accuracy test: 0.362795\n",
      "epoch: 16, avg train rouge: 0.521833, avg test rouge: 0.226739\n"
     ]
    },
    {
     "name": "stderr",
     "output_type": "stream",
     "text": [
      "train minibatch loop: 100%|██████████| 2240/2240 [08:43<00:00,  4.63it/s, accuracy=0.5, cost=2.1, rouge_2=0]        \n",
      "test minibatch loop: 100%|██████████| 249/249 [00:25<00:00,  9.94it/s, accuracy=0.348, cost=10.3, rouge_2=0.209] \n",
      "train minibatch loop:   0%|          | 0/2240 [00:00<?, ?it/s]"
     ]
    },
    {
     "name": "stdout",
     "output_type": "stream",
     "text": [
      "epoch: 17, avg loss: 1.444384, avg accuracy: 0.704302\n",
      "epoch: 17, avg loss test: 10.688622, avg accuracy test: 0.367093\n",
      "epoch: 17, avg train rouge: 0.528785, avg test rouge: 0.231045\n"
     ]
    },
    {
     "name": "stderr",
     "output_type": "stream",
     "text": [
      "train minibatch loop: 100%|██████████| 2240/2240 [08:42<00:00,  4.87it/s, accuracy=0.429, cost=3.31, rouge_2=0.167] \n",
      "test minibatch loop: 100%|██████████| 249/249 [00:25<00:00, 10.04it/s, accuracy=0.312, cost=13, rouge_2=0.206]   \n",
      "train minibatch loop:   0%|          | 0/2240 [00:00<?, ?it/s]"
     ]
    },
    {
     "name": "stdout",
     "output_type": "stream",
     "text": [
      "epoch: 18, avg loss: 1.439127, avg accuracy: 0.710430\n",
      "epoch: 18, avg loss test: 11.118785, avg accuracy test: 0.373973\n",
      "epoch: 18, avg train rouge: 0.537580, avg test rouge: 0.234384\n"
     ]
    },
    {
     "name": "stderr",
     "output_type": "stream",
     "text": [
      "train minibatch loop: 100%|██████████| 2240/2240 [08:42<00:00,  4.82it/s, accuracy=1, cost=0.0376, rouge_2=1]       \n",
      "test minibatch loop: 100%|██████████| 249/249 [00:24<00:00,  9.55it/s, accuracy=0.313, cost=13.9, rouge_2=0.25]   "
     ]
    },
    {
     "name": "stdout",
     "output_type": "stream",
     "text": [
      "epoch: 19, avg loss: 1.424267, avg accuracy: 0.715768\n",
      "epoch: 19, avg loss test: 11.545753, avg accuracy test: 0.373577\n",
      "epoch: 19, avg train rouge: 0.544493, avg test rouge: 0.239260\n"
     ]
    },
    {
     "name": "stderr",
     "output_type": "stream",
     "text": [
      "\n"
     ]
    }
   ],
   "source": [
    "from tqdm import tqdm\n",
    "from sklearn.utils import shuffle\n",
    "import time\n",
    "\n",
    "for EPOCH in range(epoch):\n",
    "    lasttime = time.time()\n",
    "    total_loss, total_accuracy, total_loss_test, total_accuracy_test = 0, 0, 0, 0\n",
    "    rouge_train, rouge_test = 0, 0\n",
    "    train_X, train_Y = shuffle(train_X, train_Y)\n",
    "    test_X, test_Y = shuffle(test_X, test_Y)\n",
    "    pbar = tqdm(range(0, len(train_X), batch_size), desc='train minibatch loop')\n",
    "    for k in pbar:\n",
    "        batch_x, _ = pad_sentence_batch(train_X[k: min(k+batch_size,len(train_X))], PAD)\n",
    "        batch_y, _ = pad_sentence_batch(train_Y[k: min(k+batch_size,len(train_X))], PAD)\n",
    "        l, acc, loss, _ = sess.run([model.training_logits, model.accuracy, model.cost, model.optimizer], \n",
    "                                      feed_dict={model.X:batch_x,\n",
    "                                                model.Y:batch_y})\n",
    "        total_loss += loss\n",
    "        total_accuracy += acc\n",
    "        r = calculate_rouges(np.argmax(l, axis = 2), batch_y)\n",
    "        rouge_train += r\n",
    "        pbar.set_postfix(cost=loss, accuracy = acc, rouge_2 = r)\n",
    "    \n",
    "    pbar = tqdm(range(0, len(test_X), batch_size), desc='test minibatch loop')\n",
    "    for k in pbar:\n",
    "        batch_x, _ = pad_sentence_batch(test_X[k: min(k+batch_size,len(test_X))], PAD)\n",
    "        batch_y, _ = pad_sentence_batch(test_Y[k: min(k+batch_size,len(test_X))], PAD)\n",
    "        l, acc, loss = sess.run([model.training_logits, model.accuracy, model.cost], \n",
    "                                      feed_dict={model.X:batch_x,\n",
    "                                                model.Y:batch_y})\n",
    "        total_loss_test += loss\n",
    "        total_accuracy_test += acc\n",
    "        r = calculate_rouges(np.argmax(l, axis = 2), batch_y)\n",
    "        rouge_test += r\n",
    "        pbar.set_postfix(cost=loss, accuracy = acc, rouge_2 = r)\n",
    "        \n",
    "    total_loss /= (len(train_X) / batch_size)\n",
    "    total_accuracy /= (len(train_X) / batch_size)\n",
    "    total_loss_test /= (len(test_X) / batch_size)\n",
    "    total_accuracy_test /= (len(test_X) / batch_size)\n",
    "    rouge_train /= (len(train_X) / batch_size)\n",
    "    rouge_test /= (len(test_X) / batch_size)\n",
    "        \n",
    "    print('epoch: %d, avg loss: %f, avg accuracy: %f'%(EPOCH, total_loss, total_accuracy))\n",
    "    print('epoch: %d, avg loss test: %f, avg accuracy test: %f'%(EPOCH, total_loss_test, total_accuracy_test))\n",
    "    print('epoch: %d, avg train rouge: %f, avg test rouge: %f'%(EPOCH, rouge_train, rouge_test))"
   ]
  },
  {
   "cell_type": "code",
   "execution_count": 22,
   "metadata": {},
   "outputs": [],
   "source": [
    "generated = sess.run(model.generate, feed_dict = {model.X: [test_X[0]]})[0]"
   ]
  },
  {
   "cell_type": "code",
   "execution_count": 23,
   "metadata": {},
   "outputs": [
    {
     "name": "stdout",
     "output_type": "stream",
     "text": [
      "GO pembantu dirakam ke atas tahan tubuh anggota utara EOS PAD\n",
      "GO pembantu dirakam EOS PAD PAD PAD PAD PAD PAD PAD\n",
      "GO pembantu beragama ke tingkat ekspor anggota ke ke masjid EOS\n",
      "GO pembantu dirakam , cuba rombak polis siasat anggotanya direman EOS\n",
      "GO pembantu beragama ke tingkat ekspor anggota ke tan sri EOS\n"
     ]
    }
   ],
   "source": [
    "for g in generated:\n",
    "    print(' '.join([rev_dictionary[i] for i in g]))"
   ]
  },
  {
   "cell_type": "code",
   "execution_count": 25,
   "metadata": {},
   "outputs": [
    {
     "data": {
      "text/plain": [
       "'pegawai , anggota polis dibebaskan dengan jaminan sprm EOS'"
      ]
     },
     "execution_count": 25,
     "metadata": {},
     "output_type": "execute_result"
    }
   ],
   "source": [
    "' '.join([rev_dictionary[i] for i in test_Y[0]])"
   ]
  },
  {
   "cell_type": "code",
   "execution_count": null,
   "metadata": {},
   "outputs": [],
   "source": []
  }
 ],
 "metadata": {
  "kernelspec": {
   "display_name": "Python 3",
   "language": "python",
   "name": "python3"
  },
  "language_info": {
   "codemirror_mode": {
    "name": "ipython",
    "version": 3
   },
   "file_extension": ".py",
   "mimetype": "text/x-python",
   "name": "python",
   "nbconvert_exporter": "python",
   "pygments_lexer": "ipython3",
   "version": "3.6.8"
  }
 },
 "nbformat": 4,
 "nbformat_minor": 2
}
