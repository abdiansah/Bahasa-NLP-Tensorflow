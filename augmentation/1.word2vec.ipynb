{
 "cells": [
  {
   "cell_type": "markdown",
   "metadata": {},
   "source": [
    "## 1. Download pretrained word2vec from malaya"
   ]
  },
  {
   "cell_type": "code",
   "execution_count": 1,
   "metadata": {},
   "outputs": [
    {
     "name": "stdout",
     "output_type": "stream",
     "text": [
      "--2019-05-11 18:41:18--  https://s3-ap-southeast-1.amazonaws.com/huseinhouse-storage/v13/word2vec/word2vec-wiki-nce-256.p\n",
      "Resolving s3-ap-southeast-1.amazonaws.com (s3-ap-southeast-1.amazonaws.com)... 52.219.32.81\n",
      "Connecting to s3-ap-southeast-1.amazonaws.com (s3-ap-southeast-1.amazonaws.com)|52.219.32.81|:443... connected.\n",
      "HTTP request sent, awaiting response... 200 OK\n",
      "Length: 726360284 (693M) [application/x-www-form-urlencoded]\n",
      "Saving to: ‘word2vec-wiki-nce-256.p’\n",
      "\n",
      "word2vec-wiki-nce-2 100%[===================>] 692.71M  3.60MB/s    in 3m 11s  \n",
      "\n",
      "2019-05-11 18:44:29 (3.62 MB/s) - ‘word2vec-wiki-nce-256.p’ saved [726360284/726360284]\n",
      "\n"
     ]
    }
   ],
   "source": [
    "!wget https://s3-ap-southeast-1.amazonaws.com/huseinhouse-storage/v13/word2vec/word2vec-wiki-nce-256.p"
   ]
  },
  {
   "cell_type": "code",
   "execution_count": 2,
   "metadata": {},
   "outputs": [],
   "source": [
    "import pickle\n",
    "import tensorflow as tf"
   ]
  },
  {
   "cell_type": "code",
   "execution_count": 3,
   "metadata": {},
   "outputs": [],
   "source": [
    "with open('word2vec-wiki-nce-256.p', 'rb') as fopen:\n",
    "    word2vec = pickle.load(fopen)"
   ]
  },
  {
   "cell_type": "code",
   "execution_count": 4,
   "metadata": {},
   "outputs": [
    {
     "data": {
      "text/plain": [
       "dict_keys(['rev_dictionary', 'nce_weights', 'dictionary'])"
      ]
     },
     "execution_count": 4,
     "metadata": {},
     "output_type": "execute_result"
    }
   ],
   "source": [
    "word2vec.keys()"
   ]
  },
  {
   "cell_type": "code",
   "execution_count": 5,
   "metadata": {},
   "outputs": [
    {
     "data": {
      "text/plain": [
       "1187"
      ]
     },
     "execution_count": 5,
     "metadata": {},
     "output_type": "execute_result"
    }
   ],
   "source": [
    "word2vec['dictionary']['ayam']"
   ]
  },
  {
   "cell_type": "code",
   "execution_count": 13,
   "metadata": {},
   "outputs": [],
   "source": [
    "vectors = word2vec['nce_weights']\n",
    "dictionary = word2vec['dictionary']\n",
    "rev_dictionary = word2vec['rev_dictionary']"
   ]
  },
  {
   "cell_type": "code",
   "execution_count": 14,
   "metadata": {},
   "outputs": [],
   "source": [
    "class Model:\n",
    "    def __init__(self):\n",
    "        self._embedding = tf.convert_to_tensor(vectors, dtype = tf.float32)\n",
    "        self.X = tf.placeholder(\n",
    "                tf.float32, [None, vectors.shape[1]]\n",
    "        )\n",
    "        normed_embedding = tf.nn.l2_normalize(self._embedding, axis = 1)\n",
    "        normed_array = tf.nn.l2_normalize(self.X, axis = 1)\n",
    "        self.cosine_similarity = tf.matmul(\n",
    "            normed_array, tf.transpose(normed_embedding, [1, 0])\n",
    "        )"
   ]
  },
  {
   "cell_type": "code",
   "execution_count": 15,
   "metadata": {},
   "outputs": [
    {
     "name": "stderr",
     "output_type": "stream",
     "text": [
      "/usr/local/lib/python3.6/dist-packages/tensorflow/python/client/session.py:1702: UserWarning: An interactive session is already active. This can cause out-of-memory errors in some cases. You must explicitly call `InteractiveSession.close()` to release resources held by the other session(s).\n",
      "  warnings.warn('An interactive session is already active. This can '\n"
     ]
    }
   ],
   "source": [
    "tf.reset_default_graph()\n",
    "model = Model()\n",
    "sess = tf.InteractiveSession()"
   ]
  },
  {
   "cell_type": "code",
   "execution_count": 25,
   "metadata": {},
   "outputs": [],
   "source": [
    "string_positive = 'kerajaan sebenarnya sangat prihatin dengan rakyatnya dapat diskaun dan segalanya'\n",
    "string_negative = 'minyak naik lagi harga klau gaji naik juga takpe juga'"
   ]
  },
  {
   "cell_type": "code",
   "execution_count": 12,
   "metadata": {},
   "outputs": [],
   "source": [
    "import random"
   ]
  },
  {
   "cell_type": "code",
   "execution_count": 16,
   "metadata": {},
   "outputs": [],
   "source": [
    "def augmentation(string, threshold = 0.5, count = 5, k = 8):\n",
    "    string = string.split()\n",
    "    selected = []\n",
    "    while not len(selected):\n",
    "        selected = [(no, w) for no, w in enumerate(string) if random.random() > threshold]\n",
    "    indices, words = [i[0] for i in selected], [i[1] for i in selected]\n",
    "    \n",
    "    batches = vectors[[dictionary[w] for w in words]]\n",
    "    top_k = tf.nn.top_k(model.cosine_similarity, k = k)\n",
    "    results = sess.run(top_k, feed_dict = {model.X: batches})\n",
    "    words = []\n",
    "    for result in results.indices:\n",
    "        words.append([rev_dictionary[i] for i in result])\n",
    "    augmented = []\n",
    "    for i in range(count):\n",
    "        string_ = string[:]\n",
    "        for no in range(len(words)):\n",
    "            index = random.randint(0, len(words[no]) - 1)\n",
    "            string_[indices[no]] = words[no][index]\n",
    "        augmented.append(' '.join(string_))\n",
    "    return augmented   "
   ]
  },
  {
   "cell_type": "code",
   "execution_count": 21,
   "metadata": {},
   "outputs": [
    {
     "name": "stdout",
     "output_type": "stream",
     "text": [
      "CPU times: user 8.54 s, sys: 692 ms, total: 9.23 s\n",
      "Wall time: 9.28 s\n"
     ]
    },
    {
     "data": {
      "text/plain": [
       "['pemerintah sememangnya sangat prihatin kerana warganya dapat sewaan hingga nasibnya',\n",
       " 'pemerintah ternyata sangat prihatin untuk kaumnya dapat keselanjarannya serta segalanya',\n",
       " 'perlembagaan sebenarnya sangat prihatin selepas penyokongnya dapat sewaan dan laguku',\n",
       " 'kabinet sebenarnya sangat prihatin dalam penduduknya dapat taksiran dan nasibnya',\n",
       " 'kerajaan memang sangat prihatin dengan orangnya dapat milodon tetapi nasibnya']"
      ]
     },
     "execution_count": 21,
     "metadata": {},
     "output_type": "execute_result"
    }
   ],
   "source": [
    "%%time\n",
    "augmentation(string_positive)"
   ]
  },
  {
   "cell_type": "markdown",
   "metadata": {},
   "source": [
    "## Malaya implementation\n",
    "\n",
    "You can check stable text augmentation implementation at https://malaya.readthedocs.io/en/latest/Generator.html"
   ]
  },
  {
   "cell_type": "code",
   "execution_count": null,
   "metadata": {},
   "outputs": [],
   "source": []
  }
 ],
 "metadata": {
  "kernelspec": {
   "display_name": "Python 3",
   "language": "python",
   "name": "python3"
  },
  "language_info": {
   "codemirror_mode": {
    "name": "ipython",
    "version": 3
   },
   "file_extension": ".py",
   "mimetype": "text/x-python",
   "name": "python",
   "nbconvert_exporter": "python",
   "pygments_lexer": "ipython3",
   "version": "3.6.8"
  }
 },
 "nbformat": 4,
 "nbformat_minor": 2
}
