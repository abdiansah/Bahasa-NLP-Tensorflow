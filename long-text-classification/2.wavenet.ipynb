{
 "cells": [
  {
   "cell_type": "code",
   "execution_count": 1,
   "metadata": {},
   "outputs": [],
   "source": [
    "import os\n",
    "import tensorflow as tf\n",
    "import malaya\n",
    "import json"
   ]
  },
  {
   "cell_type": "code",
   "execution_count": 2,
   "metadata": {},
   "outputs": [
    {
     "data": {
      "text/plain": [
       "['negative/2.json',\n",
       " 'negative/clean-politifact_real.json',\n",
       " 'negative/clean-gossipcop_real3.json',\n",
       " 'negative/clean-gossipcop_real2.json',\n",
       " 'negative/clean-gossipcop_real1.json',\n",
       " 'negative/1.json']"
      ]
     },
     "execution_count": 2,
     "metadata": {},
     "output_type": "execute_result"
    }
   ],
   "source": [
    "negatives = ['negative/' + i for i in os.listdir('negative') if '.json' in i]\n",
    "positives = ['positive/' + i for i in os.listdir('positive') if '.json' in i]\n",
    "negatives"
   ]
  },
  {
   "cell_type": "code",
   "execution_count": 3,
   "metadata": {},
   "outputs": [],
   "source": [
    "import re\n",
    "\n",
    "tokenizer = malaya.preprocessing._SocialTokenizer().tokenize\n",
    "accept_tokens = ',-.()\"\\''\n",
    "\n",
    "def is_number_regex(s):\n",
    "    if re.match(\"^\\d+?\\.\\d+?$\", s) is None:\n",
    "        return s.isdigit()\n",
    "    return True\n",
    "\n",
    "def detect_money(word):\n",
    "    if word[:2] == 'rm' and is_number_regex(word[2:]):\n",
    "        return True\n",
    "    else:\n",
    "        return False\n",
    "\n",
    "def preprocessing(string):\n",
    "    tokenized = tokenizer(string)\n",
    "    tokenized = [w.lower() for w in tokenized if len(w) > 1 or w in accept_tokens]\n",
    "    tokenized = ['<NUM>' if is_number_regex(w) else w for w in tokenized]\n",
    "    tokenized = ['<MONEY>' if detect_money(w) else w for w in tokenized]\n",
    "    return tokenized\n",
    "\n",
    "def clean_label(label):\n",
    "    string = re.sub('[^A-Za-z\\- ]+', ' ', label)\n",
    "    return re.sub(r'[ ]+', ' ', string.lower()).strip()"
   ]
  },
  {
   "cell_type": "code",
   "execution_count": 4,
   "metadata": {},
   "outputs": [
    {
     "data": {
      "text/plain": [
       "(26832, 26832)"
      ]
     },
     "execution_count": 4,
     "metadata": {},
     "output_type": "execute_result"
    }
   ],
   "source": [
    "X, Y = [], []\n",
    "\n",
    "for n in negatives:\n",
    "    with open(n) as fopen:\n",
    "        x = json.load(fopen)\n",
    "    processed = [preprocessing(s) for s in x]\n",
    "    X.extend(processed)\n",
    "    Y.extend([0] * len(processed))\n",
    "    \n",
    "len(X), len(Y)"
   ]
  },
  {
   "cell_type": "code",
   "execution_count": 5,
   "metadata": {},
   "outputs": [
    {
     "data": {
      "text/plain": [
       "(42023, 42023)"
      ]
     },
     "execution_count": 5,
     "metadata": {},
     "output_type": "execute_result"
    }
   ],
   "source": [
    "for p in positives:\n",
    "    with open(p) as fopen:\n",
    "        x = json.load(fopen)\n",
    "    processed = [preprocessing(s) for s in x]\n",
    "    X.extend(processed)\n",
    "    Y.extend([1] * len(processed))\n",
    "    \n",
    "len(X), len(Y)"
   ]
  },
  {
   "cell_type": "code",
   "execution_count": 6,
   "metadata": {},
   "outputs": [],
   "source": [
    "def build_dataset(words, n_words):\n",
    "    count = [['GO', 0], ['PAD', 1], ['EOS', 2], ['UNK', 3]]\n",
    "    count.extend(collections.Counter(words).most_common(n_words - 1))\n",
    "    dictionary = dict()\n",
    "    for word, _ in count:\n",
    "        dictionary[word] = len(dictionary)\n",
    "    data = list()\n",
    "    unk_count = 0\n",
    "    for word in words:\n",
    "        index = dictionary.get(word, 0)\n",
    "        if index == 0:\n",
    "            unk_count += 1\n",
    "        data.append(index)\n",
    "    count[0][1] = unk_count\n",
    "    reversed_dictionary = dict(zip(dictionary.values(), dictionary.keys()))\n",
    "    return data, count, dictionary, reversed_dictionary"
   ]
  },
  {
   "cell_type": "code",
   "execution_count": 7,
   "metadata": {},
   "outputs": [
    {
     "name": "stdout",
     "output_type": "stream",
     "text": [
      "vocab from size: 199359\n",
      "Most common words [(',', 1088529), ('.', 956019), ('yang', 636546), ('dan', 479145), ('\"', 468691), ('untuk', 319102)]\n",
      "Sample data [436, 2073, 5, 926, 7923, 67, 4, 8, 40, 264] ['demokrat', 'sen', '.', 'al', 'franken', 'berkata', ',', '\"', 'kita', 'harus']\n"
     ]
    }
   ],
   "source": [
    "import itertools\n",
    "import collections\n",
    "\n",
    "concat = list(itertools.chain(*X))\n",
    "vocabulary_size = len(list(set(concat)))\n",
    "data, count, dictionary, rev_dictionary = build_dataset(concat, vocabulary_size)\n",
    "print('vocab from size: %d'%(vocabulary_size))\n",
    "print('Most common words', count[4:10])\n",
    "print('Sample data', data[:10], [rev_dictionary[i] for i in data[:10]])"
   ]
  },
  {
   "cell_type": "code",
   "execution_count": 8,
   "metadata": {},
   "outputs": [],
   "source": [
    "GO = dictionary['GO']\n",
    "PAD = dictionary['PAD']\n",
    "EOS = dictionary['EOS']\n",
    "UNK = dictionary['UNK']"
   ]
  },
  {
   "cell_type": "code",
   "execution_count": 9,
   "metadata": {},
   "outputs": [],
   "source": [
    "import tensorflow as tf\n",
    "import numpy as np"
   ]
  },
  {
   "cell_type": "code",
   "execution_count": 10,
   "metadata": {},
   "outputs": [],
   "source": [
    "def embed_seq(x, vocab_sz, embed_dim, name, zero_pad=True): \n",
    "    embedding = tf.get_variable(name, [vocab_sz, embed_dim]) \n",
    "    if zero_pad:\n",
    "        embedding = tf.concat([tf.zeros([1, embed_dim]), embedding[1:, :]], 0) \n",
    "    x = tf.nn.embedding_lookup(embedding, x)\n",
    "    return x\n",
    "\n",
    "def position_encoding(inputs):\n",
    "    T = tf.shape(inputs)[1]\n",
    "    repr_dim = inputs.get_shape()[-1].value\n",
    "    pos = tf.reshape(tf.range(0.0, tf.to_float(T), dtype=tf.float32), [-1, 1])\n",
    "    i = np.arange(0, repr_dim, 2, np.float32)\n",
    "    denom = np.reshape(np.power(10000.0, i / repr_dim), [1, -1])\n",
    "    enc = tf.expand_dims(tf.concat([tf.sin(pos / denom), tf.cos(pos / denom)], 1), 0)\n",
    "    return tf.tile(enc, [tf.shape(inputs)[0], 1, 1])\n",
    "\n",
    "def layer_norm(inputs, epsilon=1e-8):\n",
    "    mean, variance = tf.nn.moments(inputs, [-1], keep_dims=True)\n",
    "    normalized = (inputs - mean) / (tf.sqrt(variance + epsilon))\n",
    "    params_shape = inputs.get_shape()[-1:]\n",
    "    gamma = tf.get_variable('gamma', params_shape, tf.float32, tf.ones_initializer())\n",
    "    beta = tf.get_variable('beta', params_shape, tf.float32, tf.zeros_initializer())\n",
    "    return gamma * normalized + beta\n",
    "\n",
    "\n",
    "def cnn_block(x, dilation_rate, pad_sz, hidden_dim, kernel_size, activation):\n",
    "    x = layer_norm(x)\n",
    "    pad = tf.zeros([tf.shape(x)[0], pad_sz, hidden_dim])\n",
    "    x =  tf.layers.conv1d(inputs = tf.concat([pad, x, pad], 1),\n",
    "                          filters = hidden_dim,\n",
    "                          kernel_size = kernel_size,\n",
    "                          dilation_rate = dilation_rate,\n",
    "                          activation = activation)\n",
    "    x = x[:, :-pad_sz, :]\n",
    "    return x\n",
    "\n",
    "class Model:\n",
    "    def __init__(self, dict_size, dimension_output, size_layer, num_layers, kernel_size = 7):\n",
    "        self.X = tf.placeholder(tf.int32, [None, None])\n",
    "        self.Y = tf.placeholder(tf.int32, [None])\n",
    "        self.training = tf.placeholder(tf.bool, None)\n",
    "        x = self.X\n",
    "        \n",
    "        with tf.variable_scope('embed'):\n",
    "            x = embed_seq(x, dict_size, size_layer, 'word')\n",
    "        x += position_encoding(x)\n",
    "        \n",
    "        def residual_block(x, size, rate, block):\n",
    "            with tf.variable_scope('block_%d_%d' % (block, rate), reuse = False):\n",
    "                pad_sz = (size - 1) * rate\n",
    "                with tf.variable_scope('block_tanh'):\n",
    "                    conv_filter = cnn_block(x, rate, pad_sz, x.shape[2], size, tf.nn.tanh)\n",
    "                with tf.variable_scope('block_sigmoid'):\n",
    "                    conv_gate = cnn_block(x, rate, pad_sz, x.shape[2], size, tf.nn.sigmoid)\n",
    "                out = tf.multiply(conv_filter, conv_gate)\n",
    "                out = tf.layers.dropout(out, 0.2, training=self.training) \n",
    "                with tf.variable_scope('block_out'):\n",
    "                    out = layer_norm(out)\n",
    "                    out = tf.layers.conv1d(\n",
    "                        out,\n",
    "                        size_layer,\n",
    "                        kernel_size = 1,\n",
    "                        strides = 1,\n",
    "                        padding = 'same',\n",
    "                        activation = tf.nn.tanh,\n",
    "                    )\n",
    "                return tf.add(x, out), out\n",
    "            \n",
    "        forward = tf.layers.conv1d(x, size_layer, kernel_size = 1, strides = 1, padding = 'SAME')\n",
    "        zeros = tf.zeros_like(forward)\n",
    "        for i in range(num_layers):\n",
    "            for r in [1, 2, 4, 8, 16]:\n",
    "                forward, s = residual_block(forward, size=kernel_size, rate=r, block=i)\n",
    "                zeros = tf.add(zeros,s)\n",
    "        zeros = layer_norm(zeros)\n",
    "        self.logits = tf.layers.dense(zeros[:,-1], dimension_output)\n",
    "        self.cost = tf.reduce_mean(\n",
    "            tf.nn.sparse_softmax_cross_entropy_with_logits(\n",
    "                logits = self.logits, labels = self.Y\n",
    "            )\n",
    "        )\n",
    "        self.optimizer = tf.train.AdamOptimizer(\n",
    "            learning_rate = learning_rate\n",
    "        ).minimize(self.cost)\n",
    "        correct_pred = tf.equal(\n",
    "            tf.argmax(self.logits, 1, output_type = tf.int32), self.Y\n",
    "        )\n",
    "        self.accuracy = tf.reduce_mean(tf.cast(correct_pred, tf.float32))"
   ]
  },
  {
   "cell_type": "code",
   "execution_count": 11,
   "metadata": {},
   "outputs": [],
   "source": [
    "maxlen = 1000\n",
    "size_layer = 128\n",
    "num_layers = 2\n",
    "learning_rate = 1e-4\n",
    "batch_size = 32"
   ]
  },
  {
   "cell_type": "code",
   "execution_count": 12,
   "metadata": {},
   "outputs": [],
   "source": [
    "tf.reset_default_graph()\n",
    "sess = tf.InteractiveSession()\n",
    "model = Model(len(dictionary),2,size_layer,num_layers)\n",
    "sess.run(tf.global_variables_initializer())"
   ]
  },
  {
   "cell_type": "code",
   "execution_count": 13,
   "metadata": {},
   "outputs": [],
   "source": [
    "def str_idx(corpus, dic, maxlen, UNK = 3):\n",
    "    X = np.zeros((len(corpus), maxlen))\n",
    "    for i in range(len(corpus)):\n",
    "        for no, k in enumerate(corpus[i][:maxlen][::-1]):\n",
    "            X[i, -1 - no] = dic.get(k, UNK)\n",
    "    return X"
   ]
  },
  {
   "cell_type": "code",
   "execution_count": 14,
   "metadata": {},
   "outputs": [],
   "source": [
    "from sklearn.cross_validation import train_test_split\n",
    "\n",
    "vectors = str_idx(X,dictionary,maxlen)\n",
    "train_X, test_X, train_Y, test_Y = train_test_split(vectors, Y, test_size = 0.2)"
   ]
  },
  {
   "cell_type": "code",
   "execution_count": 15,
   "metadata": {},
   "outputs": [
    {
     "name": "stderr",
     "output_type": "stream",
     "text": [
      "train minibatch loop: 100%|██████████| 1051/1051 [11:14<00:00,  1.61it/s, accuracy=0.611, cost=0.679]\n",
      "test minibatch loop: 100%|██████████| 263/263 [00:47<00:00,  5.39it/s, accuracy=0.81, cost=0.62]  \n",
      "train minibatch loop:   0%|          | 0/1051 [00:00<?, ?it/s]"
     ]
    },
    {
     "name": "stdout",
     "output_type": "stream",
     "text": [
      "epoch: 0, pass acc: 0.000000, current acc: 0.632588\n",
      "time taken: 722.3939571380615\n",
      "epoch: 0, training loss: 0.676048, training acc: 0.619595, valid loss: 0.666471, valid acc: 0.632588\n",
      "\n"
     ]
    },
    {
     "name": "stderr",
     "output_type": "stream",
     "text": [
      "train minibatch loop: 100%|██████████| 1051/1051 [11:13<00:00,  1.75it/s, accuracy=0.611, cost=0.669]\n",
      "test minibatch loop: 100%|██████████| 263/263 [00:47<00:00,  6.08it/s, accuracy=0.81, cost=0.594] \n",
      "train minibatch loop:   0%|          | 0/1051 [00:00<?, ?it/s]"
     ]
    },
    {
     "name": "stdout",
     "output_type": "stream",
     "text": [
      "epoch: 1, pass acc: 0.632588, current acc: 0.638775\n",
      "time taken: 720.1892328262329\n",
      "epoch: 1, training loss: 0.657792, training acc: 0.636372, valid loss: 0.643318, valid acc: 0.638775\n",
      "\n"
     ]
    },
    {
     "name": "stderr",
     "output_type": "stream",
     "text": [
      "train minibatch loop: 100%|██████████| 1051/1051 [11:12<00:00,  1.75it/s, accuracy=0.667, cost=0.52] \n",
      "test minibatch loop: 100%|██████████| 263/263 [00:47<00:00,  6.08it/s, accuracy=0.667, cost=0.644]\n",
      "train minibatch loop:   0%|          | 0/1051 [00:00<?, ?it/s]"
     ]
    },
    {
     "name": "stdout",
     "output_type": "stream",
     "text": [
      "epoch: 2, pass acc: 0.638775, current acc: 0.686774\n",
      "time taken: 719.6794664859772\n",
      "epoch: 2, training loss: 0.570648, training acc: 0.701063, valid loss: 0.567238, valid acc: 0.686774\n",
      "\n"
     ]
    },
    {
     "name": "stderr",
     "output_type": "stream",
     "text": [
      "train minibatch loop: 100%|██████████| 1051/1051 [11:12<00:00,  1.75it/s, accuracy=0.833, cost=0.299]\n",
      "test minibatch loop: 100%|██████████| 263/263 [00:47<00:00,  6.06it/s, accuracy=0.667, cost=0.503]\n",
      "train minibatch loop:   0%|          | 0/1051 [00:00<?, ?it/s]"
     ]
    },
    {
     "name": "stdout",
     "output_type": "stream",
     "text": [
      "epoch: 3, pass acc: 0.686774, current acc: 0.714376\n",
      "time taken: 719.6444115638733\n",
      "epoch: 3, training loss: 0.424048, training acc: 0.808902, valid loss: 0.602261, valid acc: 0.714376\n",
      "\n"
     ]
    },
    {
     "name": "stderr",
     "output_type": "stream",
     "text": [
      "train minibatch loop: 100%|██████████| 1051/1051 [11:12<00:00,  1.75it/s, accuracy=1, cost=0.141]    \n",
      "test minibatch loop: 100%|██████████| 263/263 [00:47<00:00,  6.06it/s, accuracy=0.667, cost=0.598]\n",
      "train minibatch loop:   0%|          | 0/1051 [00:00<?, ?it/s]"
     ]
    },
    {
     "name": "stdout",
     "output_type": "stream",
     "text": [
      "time taken: 719.8631162643433\n",
      "epoch: 4, training loss: 0.318034, training acc: 0.871319, valid loss: 0.681309, valid acc: 0.702241\n",
      "\n"
     ]
    },
    {
     "name": "stderr",
     "output_type": "stream",
     "text": [
      "train minibatch loop: 100%|██████████| 1051/1051 [11:12<00:00,  1.75it/s, accuracy=0.778, cost=0.281] \n",
      "test minibatch loop: 100%|██████████| 263/263 [00:47<00:00,  6.06it/s, accuracy=0.857, cost=0.412]\n",
      "train minibatch loop:   0%|          | 0/1051 [00:00<?, ?it/s]"
     ]
    },
    {
     "name": "stdout",
     "output_type": "stream",
     "text": [
      "epoch: 5, pass acc: 0.714376, current acc: 0.720337\n",
      "time taken: 719.8609416484833\n",
      "epoch: 5, training loss: 0.260255, training acc: 0.898414, valid loss: 0.680093, valid acc: 0.720337\n",
      "\n"
     ]
    },
    {
     "name": "stderr",
     "output_type": "stream",
     "text": [
      "train minibatch loop: 100%|██████████| 1051/1051 [11:12<00:00,  1.75it/s, accuracy=1, cost=0.108]     \n",
      "test minibatch loop: 100%|██████████| 263/263 [00:47<00:00,  6.08it/s, accuracy=0.857, cost=0.591]\n",
      "train minibatch loop:   0%|          | 0/1051 [00:00<?, ?it/s]"
     ]
    },
    {
     "name": "stdout",
     "output_type": "stream",
     "text": [
      "time taken: 720.0212905406952\n",
      "epoch: 6, training loss: 0.230076, training acc: 0.911387, valid loss: 0.683921, valid acc: 0.708439\n",
      "\n"
     ]
    },
    {
     "name": "stderr",
     "output_type": "stream",
     "text": [
      "train minibatch loop: 100%|██████████| 1051/1051 [11:13<00:00,  1.75it/s, accuracy=0.944, cost=0.174] \n",
      "test minibatch loop: 100%|██████████| 263/263 [00:47<00:00,  6.03it/s, accuracy=0.524, cost=1.31] \n",
      "train minibatch loop:   0%|          | 0/1051 [00:00<?, ?it/s]"
     ]
    },
    {
     "name": "stdout",
     "output_type": "stream",
     "text": [
      "time taken: 720.1899311542511\n",
      "epoch: 7, training loss: 0.208620, training acc: 0.920139, valid loss: 0.936518, valid acc: 0.651727\n",
      "\n"
     ]
    },
    {
     "name": "stderr",
     "output_type": "stream",
     "text": [
      "train minibatch loop: 100%|██████████| 1051/1051 [11:12<00:00,  1.75it/s, accuracy=1, cost=0.076]     \n",
      "test minibatch loop: 100%|██████████| 263/263 [00:47<00:00,  6.04it/s, accuracy=0.476, cost=1.41] "
     ]
    },
    {
     "name": "stdout",
     "output_type": "stream",
     "text": [
      "time taken: 720.0596556663513\n",
      "epoch: 8, training loss: 0.172520, training acc: 0.935689, valid loss: 1.036736, valid acc: 0.622753\n",
      "\n",
      "break epoch:9\n",
      "\n"
     ]
    },
    {
     "name": "stderr",
     "output_type": "stream",
     "text": [
      "\n"
     ]
    }
   ],
   "source": [
    "from tqdm import tqdm\n",
    "import time\n",
    "\n",
    "EARLY_STOPPING, CURRENT_CHECKPOINT, CURRENT_ACC, EPOCH = 3, 0, 0, 0\n",
    "\n",
    "while True:\n",
    "    lasttime = time.time()\n",
    "    if CURRENT_CHECKPOINT == EARLY_STOPPING:\n",
    "        print('break epoch:%d\\n' % (EPOCH))\n",
    "        break\n",
    "\n",
    "    train_acc, train_loss, test_acc, test_loss = 0, 0, 0, 0\n",
    "    pbar = tqdm(\n",
    "        range(0, len(train_X), batch_size), desc = 'train minibatch loop'\n",
    "    )\n",
    "    for i in pbar:\n",
    "        batch_x = train_X[i : min(i + batch_size, train_X.shape[0])]\n",
    "        batch_y = train_Y[i : min(i + batch_size, train_X.shape[0])]\n",
    "        acc, cost, _ = sess.run(\n",
    "            [model.accuracy, model.cost, model.optimizer],\n",
    "            feed_dict = {\n",
    "                model.Y: batch_y,\n",
    "                model.X: batch_x,\n",
    "                model.training: True\n",
    "            },\n",
    "        )\n",
    "        assert not np.isnan(cost)\n",
    "        train_loss += cost\n",
    "        train_acc += acc\n",
    "        pbar.set_postfix(cost = cost, accuracy = acc)\n",
    "\n",
    "    pbar = tqdm(range(0, len(test_X), batch_size), desc = 'test minibatch loop')\n",
    "    for i in pbar:\n",
    "        batch_x = test_X[i : min(i + batch_size, test_X.shape[0])]\n",
    "        batch_y = test_Y[i : min(i + batch_size, test_X.shape[0])]\n",
    "        acc, cost = sess.run(\n",
    "            [model.accuracy, model.cost],\n",
    "            feed_dict = {\n",
    "                model.Y: batch_y,\n",
    "                model.X: batch_x,\n",
    "                model.training: False\n",
    "            },\n",
    "        )\n",
    "        test_loss += cost\n",
    "        test_acc += acc\n",
    "        pbar.set_postfix(cost = cost, accuracy = acc)\n",
    "\n",
    "    train_loss /= len(train_X) / batch_size\n",
    "    train_acc /= len(train_X) / batch_size\n",
    "    test_loss /= len(test_X) / batch_size\n",
    "    test_acc /= len(test_X) / batch_size\n",
    "\n",
    "    if test_acc > CURRENT_ACC:\n",
    "        print(\n",
    "            'epoch: %d, pass acc: %f, current acc: %f'\n",
    "            % (EPOCH, CURRENT_ACC, test_acc)\n",
    "        )\n",
    "        CURRENT_ACC = test_acc\n",
    "        CURRENT_CHECKPOINT = 0\n",
    "    else:\n",
    "        CURRENT_CHECKPOINT += 1\n",
    "        \n",
    "    print('time taken:', time.time() - lasttime)\n",
    "    print(\n",
    "        'epoch: %d, training loss: %f, training acc: %f, valid loss: %f, valid acc: %f\\n'\n",
    "        % (EPOCH, train_loss, train_acc, test_loss, test_acc)\n",
    "    )\n",
    "    EPOCH += 1"
   ]
  },
  {
   "cell_type": "code",
   "execution_count": 16,
   "metadata": {},
   "outputs": [
    {
     "name": "stderr",
     "output_type": "stream",
     "text": [
      "test minibatch loop: 100%|██████████| 263/263 [00:47<00:00,  6.11it/s]\n"
     ]
    }
   ],
   "source": [
    "pbar = tqdm(range(0, len(test_X), batch_size), desc = 'test minibatch loop')\n",
    "y_predict = []\n",
    "for i in pbar:\n",
    "    batch_x = test_X[i : min(i + batch_size, test_X.shape[0])]\n",
    "    batch_y = test_Y[i : min(i + batch_size, test_X.shape[0])]\n",
    "    logits = sess.run(model.logits,\n",
    "            feed_dict = {\n",
    "                model.Y: batch_y,\n",
    "                model.X: batch_x,\n",
    "                model.training: False\n",
    "            },\n",
    "        )\n",
    "    logits = np.argmax(logits,1).tolist()\n",
    "    y_predict.extend(logits)"
   ]
  },
  {
   "cell_type": "code",
   "execution_count": 17,
   "metadata": {},
   "outputs": [
    {
     "name": "stdout",
     "output_type": "stream",
     "text": [
      "             precision    recall  f1-score   support\n",
      "\n",
      "          -       0.79      0.54      0.64      5308\n",
      "          +       0.49      0.76      0.60      3097\n",
      "\n",
      "avg / total       0.68      0.62      0.63      8405\n",
      "\n"
     ]
    }
   ],
   "source": [
    "from sklearn import metrics\n",
    "\n",
    "print(metrics.classification_report(test_Y, y_predict, target_names = ['-', '+']))"
   ]
  },
  {
   "cell_type": "code",
   "execution_count": null,
   "metadata": {},
   "outputs": [],
   "source": []
  }
 ],
 "metadata": {
  "kernelspec": {
   "display_name": "Python 3",
   "language": "python",
   "name": "python3"
  },
  "language_info": {
   "codemirror_mode": {
    "name": "ipython",
    "version": 3
   },
   "file_extension": ".py",
   "mimetype": "text/x-python",
   "name": "python",
   "nbconvert_exporter": "python",
   "pygments_lexer": "ipython3",
   "version": "3.6.8"
  }
 },
 "nbformat": 4,
 "nbformat_minor": 2
}
