{
 "cells": [
  {
   "cell_type": "code",
   "execution_count": 1,
   "metadata": {},
   "outputs": [],
   "source": [
    "import numpy as np\n",
    "import os"
   ]
  },
  {
   "cell_type": "code",
   "execution_count": 2,
   "metadata": {},
   "outputs": [
    {
     "data": {
      "text/plain": [
       "17399"
      ]
     },
     "execution_count": 2,
     "metadata": {},
     "output_type": "execute_result"
    }
   ],
   "source": [
    "spectrogram = os.listdir('spectrogram')\n",
    "len(spectrogram)"
   ]
  },
  {
   "cell_type": "code",
   "execution_count": 3,
   "metadata": {},
   "outputs": [],
   "source": [
    "X, Y = [], []\n",
    "for spec in spectrogram:\n",
    "    Y.append(' '.join([i for i in os.path.splitext(spec)[0].split('-') if not i.isdigit()]))\n",
    "    X.append(np.load('spectrogram/' + spec))"
   ]
  },
  {
   "cell_type": "code",
   "execution_count": 4,
   "metadata": {},
   "outputs": [],
   "source": [
    "import tensorflow as tf\n",
    "from tqdm import tqdm"
   ]
  },
  {
   "cell_type": "code",
   "execution_count": null,
   "metadata": {},
   "outputs": [],
   "source": [
    "chars = list(set([c for target in Y for c in target]))\n",
    "num_classes = len(chars) + 2\n",
    "\n",
    "idx2char = {idx + 1: char for idx, char in enumerate(chars)}\n",
    "idx2char[0] = '<PAD>'\n",
    "char2idx = {char: idx for idx, char in idx2char.items()}\n",
    "\n",
    "Y = [[char2idx[c] for c in target] for target in Y]"
   ]
  },
  {
   "cell_type": "code",
   "execution_count": null,
   "metadata": {},
   "outputs": [],
   "source": [
    "def pad_sentence_batch(sentence_batch, pad_int):\n",
    "    padded_seqs = []\n",
    "    seq_lens = []\n",
    "    max_sentence_len = max([len(sentence) for sentence in sentence_batch])\n",
    "    for sentence in sentence_batch:\n",
    "        padded_seqs.append(sentence + [pad_int] * (max_sentence_len - len(sentence)))\n",
    "        seq_lens.append(len(sentence))\n",
    "    return padded_seqs, seq_lens\n",
    "\n",
    "def sparse_tuple_from(sequences, dtype=np.int32):\n",
    "    indices = []\n",
    "    values = []\n",
    "\n",
    "    for n, seq in enumerate(sequences):\n",
    "        indices.extend(zip([n] * len(seq), range(len(seq))))\n",
    "        values.extend(seq)\n",
    "\n",
    "    indices = np.asarray(indices, dtype=np.int64)\n",
    "    values = np.asarray(values, dtype=dtype)\n",
    "    shape = np.asarray([len(sequences), np.asarray(indices).max(0)[1] + 1], dtype=np.int64)\n",
    "\n",
    "    return indices, values, shape"
   ]
  },
  {
   "cell_type": "code",
   "execution_count": null,
   "metadata": {},
   "outputs": [
    {
     "data": {
      "text/plain": [
       "'1.10.0'"
      ]
     },
     "execution_count": 7,
     "metadata": {},
     "output_type": "execute_result"
    }
   ],
   "source": [
    "tf.__version__"
   ]
  },
  {
   "cell_type": "code",
   "execution_count": null,
   "metadata": {},
   "outputs": [],
   "source": [
    "def pad_causal(x, size, rate):\n",
    "    pad_len = (size - 1) * rate\n",
    "    return tf.pad(x, [[0, 0], [pad_len, 0], [0, 0]])\n",
    "\n",
    "def pad_second_dim(x, desired_size):\n",
    "    padding = tf.tile([[0]], tf.stack([tf.shape(x)[0], desired_size - tf.shape(x)[1]], 0))\n",
    "    return tf.concat([x, padding], 1)\n",
    "\n",
    "class Model:\n",
    "    def __init__(\n",
    "        self,\n",
    "        num_layers,\n",
    "        size_layers,\n",
    "        learning_rate,\n",
    "        num_features,\n",
    "        num_blocks = 3,\n",
    "        block_size = 128,\n",
    "        dropout = 1.0,\n",
    "    ):\n",
    "        self.X = tf.placeholder(tf.float32, [None, None, num_features])\n",
    "        self.Y = tf.sparse_placeholder(tf.int32)\n",
    "        seq_lens = tf.count_nonzero(\n",
    "            tf.reduce_sum(self.X, -1), 1, dtype = tf.int32\n",
    "        ) + 10\n",
    "        filled = tf.fill(tf.shape(seq_lens), tf.shape(self.X)[1])\n",
    "        seq_lens = tf.where(seq_lens > tf.shape(self.X)[1], filled, seq_lens)\n",
    "        self.label = tf.placeholder(tf.int32, [None, None])\n",
    "        self.Y_seq_len = tf.placeholder(tf.int32, [None])\n",
    "\n",
    "        def residual_block(x, size, rate, block):\n",
    "            with tf.variable_scope('block_%d_%d' % (block, rate), reuse = False):\n",
    "                conv_filter = tf.layers.conv1d(\n",
    "                    x,\n",
    "                    x.shape[2] // 4,\n",
    "                    kernel_size = size,\n",
    "                    strides = 1,\n",
    "                    padding = 'same',\n",
    "                    dilation_rate = rate,\n",
    "                    activation = tf.nn.tanh,\n",
    "                )\n",
    "                conv_gate = tf.layers.conv1d(\n",
    "                    x,\n",
    "                    x.shape[2] // 4,\n",
    "                    kernel_size = size,\n",
    "                    strides = 1,\n",
    "                    padding = 'same',\n",
    "                    dilation_rate = rate,\n",
    "                    activation = tf.nn.sigmoid,\n",
    "                )\n",
    "                out = tf.multiply(conv_filter, conv_gate)\n",
    "                out = tf.layers.conv1d(\n",
    "                    out,\n",
    "                    block_size,\n",
    "                    kernel_size = 1,\n",
    "                    strides = 1,\n",
    "                    padding = 'same',\n",
    "                    activation = tf.nn.tanh,\n",
    "                )\n",
    "                return tf.add(x, out), out\n",
    "        forward = tf.layers.conv1d(self.X, block_size, kernel_size = 1, strides = 1, padding = 'SAME')\n",
    "        zeros = tf.zeros_like(forward)\n",
    "        for i in range(num_blocks):\n",
    "            for r in [1, 2, 4, 8, 16]:\n",
    "                forward, s = residual_block(forward, size=7, rate=r, block=i)\n",
    "                zeros = tf.add(zeros,s)\n",
    "        logits = tf.layers.conv1d(zeros, num_classes, kernel_size = 1, strides = 1, padding = 'SAME')\n",
    "        time_major = tf.transpose(logits, [1, 0, 2])\n",
    "        decoded, log_prob = tf.nn.ctc_beam_search_decoder(time_major, seq_lens)\n",
    "        decoded = tf.to_int32(decoded[0])\n",
    "        self.preds = tf.sparse_tensor_to_dense(decoded)\n",
    "        self.cost = tf.reduce_mean(\n",
    "            tf.nn.ctc_loss(\n",
    "                self.Y,\n",
    "                time_major,\n",
    "                seq_lens\n",
    "            )\n",
    "        )\n",
    "        self.optimizer = tf.train.AdamOptimizer(\n",
    "            learning_rate = learning_rate\n",
    "        ).minimize(self.cost)\n",
    "        \n",
    "        preds = self.preds[:, :tf.reduce_max(self.Y_seq_len)]\n",
    "        masks = tf.sequence_mask(self.Y_seq_len, tf.reduce_max(self.Y_seq_len), dtype=tf.float32)\n",
    "        preds = pad_second_dim(preds, tf.reduce_max(self.Y_seq_len))\n",
    "        y_t = tf.cast(preds, tf.int32)\n",
    "        self.prediction = tf.boolean_mask(y_t, masks)\n",
    "        mask_label = tf.boolean_mask(self.label, masks)\n",
    "        self.mask_label = mask_label\n",
    "        correct_pred = tf.equal(self.prediction, mask_label)\n",
    "        correct_index = tf.cast(correct_pred, tf.float32)\n",
    "        self.accuracy = tf.reduce_mean(tf.cast(correct_pred, tf.float32))"
   ]
  },
  {
   "cell_type": "code",
   "execution_count": null,
   "metadata": {},
   "outputs": [],
   "source": [
    "tf.reset_default_graph()\n",
    "sess = tf.InteractiveSession()\n",
    "\n",
    "size_layers = 256\n",
    "learning_rate = 1e-4\n",
    "num_layers = 2\n",
    "batch_size = 32\n",
    "epoch = 50\n",
    "\n",
    "model = Model(num_layers, size_layers, learning_rate, X[0].shape[1])\n",
    "sess.run(tf.global_variables_initializer())"
   ]
  },
  {
   "cell_type": "code",
   "execution_count": null,
   "metadata": {},
   "outputs": [],
   "source": [
    "from sklearn.model_selection import train_test_split\n",
    "\n",
    "train_X, test_X, train_Y, test_Y = train_test_split(X, Y)\n",
    "del X"
   ]
  },
  {
   "cell_type": "code",
   "execution_count": null,
   "metadata": {},
   "outputs": [
    {
     "name": "stderr",
     "output_type": "stream",
     "text": [
      "minibatch loop: 100%|██████████| 408/408 [03:38<00:00,  1.92it/s, accuracy=0.252, cost=51.1] \n",
      "testing minibatch loop:   0%|          | 0/136 [00:00<?, ?it/s]"
     ]
    },
    {
     "name": "stdout",
     "output_type": "stream",
     "text": [
      "epoch 1, training average cost 63.704233, training average accuracy 0.131253\n"
     ]
    },
    {
     "name": "stderr",
     "output_type": "stream",
     "text": [
      "testing minibatch loop: 100%|██████████| 136/136 [01:10<00:00,  1.88it/s, accuracy=0.303, cost=36.4]\n",
      "minibatch loop:   0%|          | 0/408 [00:00<?, ?it/s]"
     ]
    },
    {
     "name": "stdout",
     "output_type": "stream",
     "text": [
      "epoch 1, testing average cost 43.260290, testing average accuracy 0.290187\n"
     ]
    },
    {
     "name": "stderr",
     "output_type": "stream",
     "text": [
      "minibatch loop: 100%|██████████| 408/408 [03:39<00:00,  1.96it/s, accuracy=0.387, cost=41.6]\n",
      "testing minibatch loop:   0%|          | 0/136 [00:00<?, ?it/s]"
     ]
    },
    {
     "name": "stdout",
     "output_type": "stream",
     "text": [
      "epoch 2, training average cost 38.157898, training average accuracy 0.378563\n"
     ]
    },
    {
     "name": "stderr",
     "output_type": "stream",
     "text": [
      "testing minibatch loop: 100%|██████████| 136/136 [01:13<00:00,  1.90it/s, accuracy=0.425, cost=28.3]\n",
      "minibatch loop:   0%|          | 0/408 [00:00<?, ?it/s]"
     ]
    },
    {
     "name": "stdout",
     "output_type": "stream",
     "text": [
      "epoch 2, testing average cost 34.860609, testing average accuracy 0.418955\n"
     ]
    },
    {
     "name": "stderr",
     "output_type": "stream",
     "text": [
      "minibatch loop: 100%|██████████| 408/408 [03:45<00:00,  1.90it/s, accuracy=0.428, cost=37.1]\n",
      "testing minibatch loop:   0%|          | 0/136 [00:00<?, ?it/s]"
     ]
    },
    {
     "name": "stdout",
     "output_type": "stream",
     "text": [
      "epoch 3, training average cost 32.953661, training average accuracy 0.453282\n"
     ]
    },
    {
     "name": "stderr",
     "output_type": "stream",
     "text": [
      "testing minibatch loop: 100%|██████████| 136/136 [01:15<00:00,  1.85it/s, accuracy=0.517, cost=24.8]\n",
      "minibatch loop:   0%|          | 0/408 [00:00<?, ?it/s]"
     ]
    },
    {
     "name": "stdout",
     "output_type": "stream",
     "text": [
      "epoch 3, testing average cost 31.226677, testing average accuracy 0.465359\n"
     ]
    },
    {
     "name": "stderr",
     "output_type": "stream",
     "text": [
      "minibatch loop: 100%|██████████| 408/408 [03:50<00:00,  1.87it/s, accuracy=0.434, cost=33.4]\n",
      "testing minibatch loop:   0%|          | 0/136 [00:00<?, ?it/s]"
     ]
    },
    {
     "name": "stdout",
     "output_type": "stream",
     "text": [
      "epoch 4, training average cost 30.002567, training average accuracy 0.482901\n"
     ]
    },
    {
     "name": "stderr",
     "output_type": "stream",
     "text": [
      "testing minibatch loop: 100%|██████████| 136/136 [01:16<00:00,  1.81it/s, accuracy=0.524, cost=22.9]\n",
      "minibatch loop:   0%|          | 0/408 [00:00<?, ?it/s]"
     ]
    },
    {
     "name": "stdout",
     "output_type": "stream",
     "text": [
      "epoch 4, testing average cost 28.731859, testing average accuracy 0.488078\n"
     ]
    },
    {
     "name": "stderr",
     "output_type": "stream",
     "text": [
      "minibatch loop: 100%|██████████| 408/408 [03:54<00:00,  1.84it/s, accuracy=0.454, cost=31.1]\n",
      "testing minibatch loop:   0%|          | 0/136 [00:00<?, ?it/s]"
     ]
    },
    {
     "name": "stdout",
     "output_type": "stream",
     "text": [
      "epoch 5, training average cost 27.769928, training average accuracy 0.501716\n"
     ]
    },
    {
     "name": "stderr",
     "output_type": "stream",
     "text": [
      "testing minibatch loop: 100%|██████████| 136/136 [01:18<00:00,  1.77it/s, accuracy=0.553, cost=20.9]\n",
      "minibatch loop:   0%|          | 0/408 [00:00<?, ?it/s]"
     ]
    },
    {
     "name": "stdout",
     "output_type": "stream",
     "text": [
      "epoch 5, testing average cost 26.753767, testing average accuracy 0.508466\n"
     ]
    },
    {
     "name": "stderr",
     "output_type": "stream",
     "text": [
      "minibatch loop: 100%|██████████| 408/408 [03:56<00:00,  1.83it/s, accuracy=0.464, cost=29.1]\n",
      "testing minibatch loop:   0%|          | 0/136 [00:00<?, ?it/s]"
     ]
    },
    {
     "name": "stdout",
     "output_type": "stream",
     "text": [
      "epoch 6, training average cost 25.912681, training average accuracy 0.517164\n"
     ]
    },
    {
     "name": "stderr",
     "output_type": "stream",
     "text": [
      "testing minibatch loop: 100%|██████████| 136/136 [01:18<00:00,  1.77it/s, accuracy=0.589, cost=19.2]\n",
      "minibatch loop:   0%|          | 0/408 [00:00<?, ?it/s]"
     ]
    },
    {
     "name": "stdout",
     "output_type": "stream",
     "text": [
      "epoch 6, testing average cost 25.031035, testing average accuracy 0.523560\n"
     ]
    },
    {
     "name": "stderr",
     "output_type": "stream",
     "text": [
      "minibatch loop: 100%|██████████| 408/408 [04:00<00:00,  1.80it/s, accuracy=0.472, cost=26.5]\n",
      "testing minibatch loop:   0%|          | 0/136 [00:00<?, ?it/s]"
     ]
    },
    {
     "name": "stdout",
     "output_type": "stream",
     "text": [
      "epoch 7, training average cost 24.292728, training average accuracy 0.532367\n"
     ]
    },
    {
     "name": "stderr",
     "output_type": "stream",
     "text": [
      "testing minibatch loop: 100%|██████████| 136/136 [01:20<00:00,  1.74it/s, accuracy=0.599, cost=18.2]\n",
      "minibatch loop:   0%|          | 0/408 [00:00<?, ?it/s]"
     ]
    },
    {
     "name": "stdout",
     "output_type": "stream",
     "text": [
      "epoch 7, testing average cost 23.545396, testing average accuracy 0.535405\n"
     ]
    },
    {
     "name": "stderr",
     "output_type": "stream",
     "text": [
      "minibatch loop: 100%|██████████| 408/408 [04:04<00:00,  1.76it/s, accuracy=0.487, cost=25.1]\n",
      "testing minibatch loop:   0%|          | 0/136 [00:00<?, ?it/s]"
     ]
    },
    {
     "name": "stdout",
     "output_type": "stream",
     "text": [
      "epoch 8, training average cost 22.828858, training average accuracy 0.545901\n"
     ]
    },
    {
     "name": "stderr",
     "output_type": "stream",
     "text": [
      "testing minibatch loop: 100%|██████████| 136/136 [01:21<00:00,  1.71it/s, accuracy=0.594, cost=17]  \n",
      "minibatch loop:   0%|          | 0/408 [00:00<?, ?it/s]"
     ]
    },
    {
     "name": "stdout",
     "output_type": "stream",
     "text": [
      "epoch 8, testing average cost 22.188690, testing average accuracy 0.547551\n"
     ]
    },
    {
     "name": "stderr",
     "output_type": "stream",
     "text": [
      "minibatch loop: 100%|██████████| 408/408 [04:08<00:00,  1.75it/s, accuracy=0.537, cost=23.6]\n",
      "testing minibatch loop:   0%|          | 0/136 [00:00<?, ?it/s]"
     ]
    },
    {
     "name": "stdout",
     "output_type": "stream",
     "text": [
      "epoch 9, training average cost 21.526225, training average accuracy 0.558248\n"
     ]
    },
    {
     "name": "stderr",
     "output_type": "stream",
     "text": [
      "testing minibatch loop: 100%|██████████| 136/136 [01:22<00:00,  1.68it/s, accuracy=0.628, cost=16]  \n",
      "minibatch loop:   0%|          | 0/408 [00:00<?, ?it/s]"
     ]
    },
    {
     "name": "stdout",
     "output_type": "stream",
     "text": [
      "epoch 9, testing average cost 20.970053, testing average accuracy 0.561718\n"
     ]
    },
    {
     "name": "stderr",
     "output_type": "stream",
     "text": [
      "minibatch loop: 100%|██████████| 408/408 [04:11<00:00,  1.73it/s, accuracy=0.525, cost=22.2]\n",
      "testing minibatch loop:   0%|          | 0/136 [00:00<?, ?it/s]"
     ]
    },
    {
     "name": "stdout",
     "output_type": "stream",
     "text": [
      "epoch 10, training average cost 20.312274, training average accuracy 0.572059\n"
     ]
    },
    {
     "name": "stderr",
     "output_type": "stream",
     "text": [
      "testing minibatch loop: 100%|██████████| 136/136 [01:23<00:00,  1.68it/s, accuracy=0.626, cost=15]  \n",
      "minibatch loop:   0%|          | 0/408 [00:00<?, ?it/s]"
     ]
    },
    {
     "name": "stdout",
     "output_type": "stream",
     "text": [
      "epoch 10, testing average cost 19.822101, testing average accuracy 0.574078\n"
     ]
    },
    {
     "name": "stderr",
     "output_type": "stream",
     "text": [
      "minibatch loop: 100%|██████████| 408/408 [04:13<00:00,  1.71it/s, accuracy=0.543, cost=21.2]\n",
      "testing minibatch loop:   0%|          | 0/136 [00:00<?, ?it/s]"
     ]
    },
    {
     "name": "stdout",
     "output_type": "stream",
     "text": [
      "epoch 11, training average cost 19.213326, training average accuracy 0.583404\n"
     ]
    },
    {
     "name": "stderr",
     "output_type": "stream",
     "text": [
      "testing minibatch loop: 100%|██████████| 136/136 [01:24<00:00,  1.66it/s, accuracy=0.641, cost=13.9]\n",
      "minibatch loop:   0%|          | 0/408 [00:00<?, ?it/s]"
     ]
    },
    {
     "name": "stdout",
     "output_type": "stream",
     "text": [
      "epoch 11, testing average cost 18.787493, testing average accuracy 0.584828\n"
     ]
    },
    {
     "name": "stderr",
     "output_type": "stream",
     "text": [
      "minibatch loop: 100%|██████████| 408/408 [04:16<00:00,  1.69it/s, accuracy=0.531, cost=20.4]\n",
      "testing minibatch loop:   0%|          | 0/136 [00:00<?, ?it/s]"
     ]
    },
    {
     "name": "stdout",
     "output_type": "stream",
     "text": [
      "epoch 12, training average cost 18.195799, training average accuracy 0.592464\n"
     ]
    },
    {
     "name": "stderr",
     "output_type": "stream",
     "text": [
      "testing minibatch loop: 100%|██████████| 136/136 [01:25<00:00,  1.64it/s, accuracy=0.661, cost=13]  \n",
      "minibatch loop:   0%|          | 0/408 [00:00<?, ?it/s]"
     ]
    },
    {
     "name": "stdout",
     "output_type": "stream",
     "text": [
      "epoch 12, testing average cost 17.809989, testing average accuracy 0.593923\n"
     ]
    },
    {
     "name": "stderr",
     "output_type": "stream",
     "text": [
      "minibatch loop: 100%|██████████| 408/408 [04:18<00:00,  1.69it/s, accuracy=0.543, cost=19.1]\n",
      "testing minibatch loop:   0%|          | 0/136 [00:00<?, ?it/s]"
     ]
    },
    {
     "name": "stdout",
     "output_type": "stream",
     "text": [
      "epoch 13, training average cost 17.252686, training average accuracy 0.602320\n"
     ]
    },
    {
     "name": "stderr",
     "output_type": "stream",
     "text": [
      "testing minibatch loop: 100%|██████████| 136/136 [01:25<00:00,  1.63it/s, accuracy=0.668, cost=12.1]\n",
      "minibatch loop:   0%|          | 0/408 [00:00<?, ?it/s]"
     ]
    },
    {
     "name": "stdout",
     "output_type": "stream",
     "text": [
      "epoch 13, testing average cost 16.889668, testing average accuracy 0.604958\n"
     ]
    },
    {
     "name": "stderr",
     "output_type": "stream",
     "text": [
      "minibatch loop: 100%|██████████| 408/408 [04:19<00:00,  1.68it/s, accuracy=0.564, cost=18.3]\n",
      "testing minibatch loop:   0%|          | 0/136 [00:00<?, ?it/s]"
     ]
    },
    {
     "name": "stdout",
     "output_type": "stream",
     "text": [
      "epoch 14, training average cost 16.370016, training average accuracy 0.610656\n"
     ]
    },
    {
     "name": "stderr",
     "output_type": "stream",
     "text": [
      "testing minibatch loop: 100%|██████████| 136/136 [01:25<00:00,  1.63it/s, accuracy=0.691, cost=11.5]\n",
      "minibatch loop:   0%|          | 0/408 [00:00<?, ?it/s]"
     ]
    },
    {
     "name": "stdout",
     "output_type": "stream",
     "text": [
      "epoch 14, testing average cost 16.027165, testing average accuracy 0.613294\n"
     ]
    },
    {
     "name": "stderr",
     "output_type": "stream",
     "text": [
      "minibatch loop: 100%|██████████| 408/408 [04:21<00:00,  1.67it/s, accuracy=0.555, cost=17.2]\n",
      "testing minibatch loop:   0%|          | 0/136 [00:00<?, ?it/s]"
     ]
    },
    {
     "name": "stdout",
     "output_type": "stream",
     "text": [
      "epoch 15, training average cost 15.546713, training average accuracy 0.618359\n"
     ]
    },
    {
     "name": "stderr",
     "output_type": "stream",
     "text": [
      "testing minibatch loop: 100%|██████████| 136/136 [01:26<00:00,  1.61it/s, accuracy=0.687, cost=11]  \n",
      "minibatch loop:   0%|          | 0/408 [00:00<?, ?it/s]"
     ]
    },
    {
     "name": "stdout",
     "output_type": "stream",
     "text": [
      "epoch 15, testing average cost 15.232227, testing average accuracy 0.618411\n"
     ]
    },
    {
     "name": "stderr",
     "output_type": "stream",
     "text": [
      "minibatch loop: 100%|██████████| 408/408 [04:23<00:00,  1.65it/s, accuracy=0.558, cost=16.1]\n",
      "testing minibatch loop:   0%|          | 0/136 [00:00<?, ?it/s]"
     ]
    },
    {
     "name": "stdout",
     "output_type": "stream",
     "text": [
      "epoch 16, training average cost 14.799888, training average accuracy 0.625644\n"
     ]
    },
    {
     "name": "stderr",
     "output_type": "stream",
     "text": [
      "testing minibatch loop: 100%|██████████| 136/136 [01:27<00:00,  1.60it/s, accuracy=0.703, cost=10.5]\n",
      "minibatch loop:   0%|          | 0/408 [00:00<?, ?it/s]"
     ]
    },
    {
     "name": "stdout",
     "output_type": "stream",
     "text": [
      "epoch 16, testing average cost 14.524589, testing average accuracy 0.624917\n"
     ]
    },
    {
     "name": "stderr",
     "output_type": "stream",
     "text": [
      "minibatch loop: 100%|██████████| 408/408 [04:24<00:00,  1.65it/s, accuracy=0.59, cost=15.4] \n",
      "testing minibatch loop:   0%|          | 0/136 [00:00<?, ?it/s]"
     ]
    },
    {
     "name": "stdout",
     "output_type": "stream",
     "text": [
      "epoch 17, training average cost 14.090364, training average accuracy 0.630748\n"
     ]
    },
    {
     "name": "stderr",
     "output_type": "stream",
     "text": [
      "testing minibatch loop: 100%|██████████| 136/136 [01:27<00:00,  1.58it/s, accuracy=0.699, cost=10.1]\n",
      "minibatch loop:   0%|          | 0/408 [00:00<?, ?it/s]"
     ]
    },
    {
     "name": "stdout",
     "output_type": "stream",
     "text": [
      "epoch 17, testing average cost 13.835726, testing average accuracy 0.630068\n"
     ]
    },
    {
     "name": "stderr",
     "output_type": "stream",
     "text": [
      "minibatch loop: 100%|██████████| 408/408 [04:26<00:00,  1.64it/s, accuracy=0.587, cost=14.5]\n",
      "testing minibatch loop:   0%|          | 0/136 [00:00<?, ?it/s]"
     ]
    },
    {
     "name": "stdout",
     "output_type": "stream",
     "text": [
      "epoch 18, training average cost 13.389068, training average accuracy 0.635353\n"
     ]
    },
    {
     "name": "stderr",
     "output_type": "stream",
     "text": [
      "testing minibatch loop: 100%|██████████| 136/136 [01:27<00:00,  1.58it/s, accuracy=0.705, cost=9.68]\n",
      "minibatch loop:   0%|          | 0/408 [00:00<?, ?it/s]"
     ]
    },
    {
     "name": "stdout",
     "output_type": "stream",
     "text": [
      "epoch 18, testing average cost 13.156154, testing average accuracy 0.635583\n"
     ]
    },
    {
     "name": "stderr",
     "output_type": "stream",
     "text": [
      "minibatch loop: 100%|██████████| 408/408 [04:27<00:00,  1.62it/s, accuracy=0.578, cost=13.8]\n",
      "testing minibatch loop:   0%|          | 0/136 [00:00<?, ?it/s]"
     ]
    },
    {
     "name": "stdout",
     "output_type": "stream",
     "text": [
      "epoch 19, training average cost 12.753446, training average accuracy 0.640851\n"
     ]
    },
    {
     "name": "stderr",
     "output_type": "stream",
     "text": [
      "testing minibatch loop: 100%|██████████| 136/136 [01:28<00:00,  1.57it/s, accuracy=0.695, cost=9.03]\n",
      "minibatch loop:   0%|          | 0/408 [00:00<?, ?it/s]"
     ]
    },
    {
     "name": "stdout",
     "output_type": "stream",
     "text": [
      "epoch 19, testing average cost 12.557222, testing average accuracy 0.638520\n"
     ]
    },
    {
     "name": "stderr",
     "output_type": "stream",
     "text": [
      "minibatch loop: 100%|██████████| 408/408 [04:28<00:00,  1.62it/s, accuracy=0.587, cost=12.8]\n",
      "testing minibatch loop:   0%|          | 0/136 [00:00<?, ?it/s]"
     ]
    },
    {
     "name": "stdout",
     "output_type": "stream",
     "text": [
      "epoch 20, training average cost 12.129370, training average accuracy 0.646369\n"
     ]
    },
    {
     "name": "stderr",
     "output_type": "stream",
     "text": [
      "testing minibatch loop: 100%|██████████| 136/136 [01:28<00:00,  1.55it/s, accuracy=0.714, cost=8.61]\n",
      "minibatch loop:   0%|          | 0/408 [00:00<?, ?it/s]"
     ]
    },
    {
     "name": "stdout",
     "output_type": "stream",
     "text": [
      "epoch 20, testing average cost 11.948158, testing average accuracy 0.643731\n"
     ]
    },
    {
     "name": "stderr",
     "output_type": "stream",
     "text": [
      "minibatch loop: 100%|██████████| 408/408 [04:29<00:00,  1.61it/s, accuracy=0.59, cost=11.8] \n",
      "testing minibatch loop:   0%|          | 0/136 [00:00<?, ?it/s]"
     ]
    },
    {
     "name": "stdout",
     "output_type": "stream",
     "text": [
      "epoch 21, training average cost 11.548273, training average accuracy 0.650572\n"
     ]
    },
    {
     "name": "stderr",
     "output_type": "stream",
     "text": [
      "testing minibatch loop: 100%|██████████| 136/136 [01:29<00:00,  1.56it/s, accuracy=0.712, cost=8.14]\n",
      "minibatch loop:   0%|          | 0/408 [00:00<?, ?it/s]"
     ]
    },
    {
     "name": "stdout",
     "output_type": "stream",
     "text": [
      "epoch 21, testing average cost 11.375299, testing average accuracy 0.648017\n"
     ]
    },
    {
     "name": "stderr",
     "output_type": "stream",
     "text": [
      "minibatch loop: 100%|██████████| 408/408 [04:30<00:00,  1.62it/s, accuracy=0.595, cost=11.5]\n",
      "testing minibatch loop:   0%|          | 0/136 [00:00<?, ?it/s]"
     ]
    },
    {
     "name": "stdout",
     "output_type": "stream",
     "text": [
      "epoch 22, training average cost 10.989844, training average accuracy 0.656106\n"
     ]
    },
    {
     "name": "stderr",
     "output_type": "stream",
     "text": [
      "testing minibatch loop: 100%|██████████| 136/136 [01:29<00:00,  1.55it/s, accuracy=0.712, cost=7.86]\n",
      "minibatch loop:   0%|          | 0/408 [00:00<?, ?it/s]"
     ]
    },
    {
     "name": "stdout",
     "output_type": "stream",
     "text": [
      "epoch 22, testing average cost 10.824283, testing average accuracy 0.652666\n"
     ]
    },
    {
     "name": "stderr",
     "output_type": "stream",
     "text": [
      "minibatch loop: 100%|██████████| 408/408 [04:31<00:00,  1.62it/s, accuracy=0.605, cost=10.3]\n",
      "testing minibatch loop:   0%|          | 0/136 [00:00<?, ?it/s]"
     ]
    },
    {
     "name": "stdout",
     "output_type": "stream",
     "text": [
      "epoch 23, training average cost 10.437272, training average accuracy 0.659412\n"
     ]
    },
    {
     "name": "stderr",
     "output_type": "stream",
     "text": [
      "testing minibatch loop: 100%|██████████| 136/136 [01:29<00:00,  1.55it/s, accuracy=0.716, cost=7.39]\n",
      "minibatch loop:   0%|          | 0/408 [00:00<?, ?it/s]"
     ]
    },
    {
     "name": "stdout",
     "output_type": "stream",
     "text": [
      "epoch 23, testing average cost 10.310511, testing average accuracy 0.656126\n"
     ]
    },
    {
     "name": "stderr",
     "output_type": "stream",
     "text": [
      "minibatch loop: 100%|██████████| 408/408 [04:32<00:00,  1.62it/s, accuracy=0.601, cost=10]  \n",
      "testing minibatch loop:   0%|          | 0/136 [00:00<?, ?it/s]"
     ]
    },
    {
     "name": "stdout",
     "output_type": "stream",
     "text": [
      "epoch 24, training average cost 9.932191, training average accuracy 0.663587\n"
     ]
    },
    {
     "name": "stderr",
     "output_type": "stream",
     "text": [
      "testing minibatch loop: 100%|██████████| 136/136 [01:29<00:00,  1.55it/s, accuracy=0.709, cost=7.14]\n",
      "minibatch loop:   0%|          | 0/408 [00:00<?, ?it/s]"
     ]
    },
    {
     "name": "stdout",
     "output_type": "stream",
     "text": [
      "epoch 24, testing average cost 9.807833, testing average accuracy 0.659555\n"
     ]
    },
    {
     "name": "stderr",
     "output_type": "stream",
     "text": [
      "minibatch loop: 100%|██████████| 408/408 [04:33<00:00,  1.61it/s, accuracy=0.593, cost=9.19]\n",
      "testing minibatch loop:   0%|          | 0/136 [00:00<?, ?it/s]"
     ]
    },
    {
     "name": "stdout",
     "output_type": "stream",
     "text": [
      "epoch 25, training average cost 9.449029, training average accuracy 0.666897\n"
     ]
    },
    {
     "name": "stderr",
     "output_type": "stream",
     "text": [
      "testing minibatch loop: 100%|██████████| 136/136 [01:30<00:00,  1.55it/s, accuracy=0.716, cost=6.85]\n",
      "minibatch loop:   0%|          | 0/408 [00:00<?, ?it/s]"
     ]
    },
    {
     "name": "stdout",
     "output_type": "stream",
     "text": [
      "epoch 25, testing average cost 9.337638, testing average accuracy 0.662240\n"
     ]
    },
    {
     "name": "stderr",
     "output_type": "stream",
     "text": [
      "minibatch loop:  89%|████████▉ | 364/408 [04:04<00:28,  1.52it/s, accuracy=0.602, cost=9.35]"
     ]
    }
   ],
   "source": [
    "for e in range(epoch):\n",
    "    pbar = tqdm(\n",
    "        range(0, len(train_X), batch_size), desc = 'minibatch loop')\n",
    "    total_cost, total_accuracy = 0, 0\n",
    "    for i in pbar:\n",
    "        batch_x = train_X[i : min(i + batch_size, len(train_X))]\n",
    "        batch_x = tf.keras.preprocessing.sequence.pad_sequences(batch_x, dtype = 'float32', padding = 'post')\n",
    "        y = train_Y[i : min(i + batch_size, len(train_X))]\n",
    "        batch_y = sparse_tuple_from(y)\n",
    "        batch_label, batch_len = pad_sentence_batch(y, 0)\n",
    "        _, cost, accuracy = sess.run(\n",
    "            [model.optimizer, model.cost, model.accuracy],\n",
    "            feed_dict = {model.X: batch_x, model.Y: batch_y, \n",
    "                         model.label: batch_label, model.Y_seq_len: batch_len},\n",
    "        )\n",
    "        total_cost += cost\n",
    "        total_accuracy += accuracy\n",
    "        pbar.set_postfix(cost = cost, accuracy = accuracy)\n",
    "    total_cost /= (len(train_X) / batch_size)\n",
    "    total_accuracy /= (len(train_X) / batch_size)\n",
    "    print('epoch %d, training average cost %f, training average accuracy %f'%(e + 1, total_cost, total_accuracy))\n",
    "    \n",
    "    pbar = tqdm(\n",
    "        range(0, len(test_X), batch_size), desc = 'testing minibatch loop')\n",
    "    total_cost, total_accuracy = 0, 0\n",
    "    for i in pbar:\n",
    "        batch_x = test_X[i : min(i + batch_size, len(test_X))]\n",
    "        batch_x = tf.keras.preprocessing.sequence.pad_sequences(batch_x, dtype = 'float32', padding = 'post')\n",
    "        y = test_Y[i : min(i + batch_size, len(test_X))]\n",
    "        batch_y = sparse_tuple_from(y)\n",
    "        batch_label, batch_len = pad_sentence_batch(y, 0)\n",
    "        _, cost, accuracy = sess.run(\n",
    "            [model.optimizer, model.cost, model.accuracy],\n",
    "            feed_dict = {model.X: batch_x, model.Y: batch_y, \n",
    "                         model.label: batch_label, model.Y_seq_len: batch_len},\n",
    "        )\n",
    "        total_cost += cost\n",
    "        total_accuracy += accuracy\n",
    "        pbar.set_postfix(cost = cost, accuracy = accuracy)\n",
    "        \n",
    "    total_cost /= (len(test_X) / batch_size)\n",
    "    total_accuracy /= (len(test_X) / batch_size)\n",
    "    print('epoch %d, testing average cost %f, testing average accuracy %f'%(e + 1, total_cost, total_accuracy))"
   ]
  },
  {
   "cell_type": "code",
   "execution_count": 13,
   "metadata": {},
   "outputs": [
    {
     "name": "stdout",
     "output_type": "stream",
     "text": [
      "real: sebut perkataan man pengaktifan\n",
      "predicted: sebut perkatan man aengaki\n"
     ]
    }
   ],
   "source": [
    "import random\n",
    "\n",
    "random_index = random.randint(0, len(test_X) - 1)\n",
    "batch_x = test_X[random_index : random_index + 1]\n",
    "print(\n",
    "    'real:',\n",
    "    ''.join(\n",
    "        [idx2char[no] for no in test_Y[random_index : random_index + 1][0]]\n",
    "    ),\n",
    ")\n",
    "batch_y = sparse_tuple_from(test_Y[random_index : random_index + 1])\n",
    "pred = sess.run(model.preds, feed_dict = {model.X: batch_x})[0]\n",
    "print('predicted:', ''.join([idx2char[no] for no in pred]))"
   ]
  },
  {
   "cell_type": "code",
   "execution_count": null,
   "metadata": {},
   "outputs": [],
   "source": []
  }
 ],
 "metadata": {
  "kernelspec": {
   "display_name": "Python 3",
   "language": "python",
   "name": "python3"
  },
  "language_info": {
   "codemirror_mode": {
    "name": "ipython",
    "version": 3
   },
   "file_extension": ".py",
   "mimetype": "text/x-python",
   "name": "python",
   "nbconvert_exporter": "python",
   "pygments_lexer": "ipython3",
   "version": "3.6.8"
  }
 },
 "nbformat": 4,
 "nbformat_minor": 2
}
