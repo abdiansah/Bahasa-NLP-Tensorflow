{
 "cells": [
  {
   "cell_type": "code",
   "execution_count": 1,
   "metadata": {},
   "outputs": [],
   "source": [
    "import numpy as np\n",
    "import os"
   ]
  },
  {
   "cell_type": "code",
   "execution_count": 2,
   "metadata": {},
   "outputs": [
    {
     "data": {
      "text/plain": [
       "17399"
      ]
     },
     "execution_count": 2,
     "metadata": {},
     "output_type": "execute_result"
    }
   ],
   "source": [
    "spectrogram = os.listdir('spectrogram')\n",
    "len(spectrogram)"
   ]
  },
  {
   "cell_type": "code",
   "execution_count": 3,
   "metadata": {},
   "outputs": [],
   "source": [
    "X, Y = [], []\n",
    "for spec in spectrogram:\n",
    "    Y.append(' '.join([i for i in os.path.splitext(spec)[0].split('-') if not i.isdigit()]))\n",
    "    X.append(np.load('spectrogram/' + spec))"
   ]
  },
  {
   "cell_type": "code",
   "execution_count": 4,
   "metadata": {},
   "outputs": [],
   "source": [
    "import tensorflow as tf\n",
    "from tqdm import tqdm"
   ]
  },
  {
   "cell_type": "code",
   "execution_count": 5,
   "metadata": {},
   "outputs": [],
   "source": [
    "chars = list(set([c for target in Y for c in target]))\n",
    "num_classes = len(chars) + 2\n",
    "\n",
    "idx2char = {idx + 1: char for idx, char in enumerate(chars)}\n",
    "idx2char[0] = '<PAD>'\n",
    "char2idx = {char: idx for idx, char in idx2char.items()}\n",
    "\n",
    "Y = [[char2idx[c] for c in target] for target in Y]"
   ]
  },
  {
   "cell_type": "code",
   "execution_count": 6,
   "metadata": {},
   "outputs": [],
   "source": [
    "def pad_sentence_batch(sentence_batch, pad_int):\n",
    "    padded_seqs = []\n",
    "    seq_lens = []\n",
    "    max_sentence_len = max([len(sentence) for sentence in sentence_batch])\n",
    "    for sentence in sentence_batch:\n",
    "        padded_seqs.append(sentence + [pad_int] * (max_sentence_len - len(sentence)))\n",
    "        seq_lens.append(len(sentence))\n",
    "    return padded_seqs, seq_lens\n",
    "\n",
    "def sparse_tuple_from(sequences, dtype=np.int32):\n",
    "    indices = []\n",
    "    values = []\n",
    "\n",
    "    for n, seq in enumerate(sequences):\n",
    "        indices.extend(zip([n] * len(seq), range(len(seq))))\n",
    "        values.extend(seq)\n",
    "\n",
    "    indices = np.asarray(indices, dtype=np.int64)\n",
    "    values = np.asarray(values, dtype=dtype)\n",
    "    shape = np.asarray([len(sequences), np.asarray(indices).max(0)[1] + 1], dtype=np.int64)\n",
    "\n",
    "    return indices, values, shape"
   ]
  },
  {
   "cell_type": "code",
   "execution_count": 7,
   "metadata": {},
   "outputs": [],
   "source": [
    "def pad_second_dim(x, desired_size):\n",
    "    padding = tf.tile([[0]], tf.stack([tf.shape(x)[0], desired_size - tf.shape(x)[1]], 0))\n",
    "    return tf.concat([x, padding], 1)\n",
    "\n",
    "_BATCH_NORM_EPSILON = 1e-5\n",
    "_BATCH_NORM_DECAY = 0.997\n",
    "_CONV_FILTERS = 32\n",
    "\n",
    "def batch_norm(inputs, training):\n",
    "    return tf.layers.batch_normalization(\n",
    "      inputs=inputs, momentum=_BATCH_NORM_DECAY, epsilon=_BATCH_NORM_EPSILON,\n",
    "      fused=True, training=training)\n",
    "\n",
    "def _conv_bn_layer(inputs, padding, filters, kernel_size, strides, layer_id,\n",
    "                   training):\n",
    "    inputs = tf.pad(\n",
    "      inputs,\n",
    "      [[0, 0], [padding[0], padding[0]], [padding[1], padding[1]], [0, 0]])\n",
    "    inputs = tf.layers.conv2d(\n",
    "      inputs=inputs, filters=filters, kernel_size=kernel_size, strides=strides,\n",
    "      padding=\"valid\", use_bias=False, activation=tf.nn.relu6,\n",
    "      name=\"cnn_{}\".format(layer_id))\n",
    "    return batch_norm(inputs, training)\n",
    "\n",
    "def _rnn_layer(inputs, rnn_cell, rnn_hidden_size, layer_id, is_batch_norm,\n",
    "               is_bidirectional, training):\n",
    "    if is_batch_norm:\n",
    "        inputs = batch_norm(inputs, training)\n",
    "    \n",
    "    fw_cell = rnn_cell(num_units=rnn_hidden_size,\n",
    "                     name=\"rnn_fw_{}\".format(layer_id))\n",
    "    bw_cell = rnn_cell(num_units=rnn_hidden_size,\n",
    "                     name=\"rnn_bw_{}\".format(layer_id))\n",
    "\n",
    "    if is_bidirectional:\n",
    "        outputs, _ = tf.nn.bidirectional_dynamic_rnn(\n",
    "        cell_fw=fw_cell, cell_bw=bw_cell, inputs=inputs, dtype=tf.float32,\n",
    "        swap_memory=True)\n",
    "        rnn_outputs = tf.concat(outputs, -1)\n",
    "    else:\n",
    "        rnn_outputs = tf.nn.dynamic_rnn(\n",
    "        fw_cell, inputs, dtype=tf.float32, swap_memory=True)\n",
    "\n",
    "    return rnn_outputs\n",
    "\n",
    "class Model:\n",
    "    def __init__(\n",
    "        self,\n",
    "        size_layers,\n",
    "        learning_rate,\n",
    "        num_features,\n",
    "        dropout = 1.0,\n",
    "    ):\n",
    "        self.X = tf.placeholder(tf.float32, [None, None, num_features])\n",
    "        self.label = tf.placeholder(tf.int32, [None, None])\n",
    "        self.Y_seq_len = tf.placeholder(tf.int32, [None])\n",
    "        self.training = tf.placeholder(tf.bool, None)\n",
    "        self.Y = tf.sparse_placeholder(tf.int32)\n",
    "        x = tf.expand_dims(self.X, -1)\n",
    "\n",
    "        inputs = _conv_bn_layer(\n",
    "            x, padding=(20, 5), filters=_CONV_FILTERS, kernel_size=(41, 11),\n",
    "            strides=(2, 2), layer_id=1, training=self.training)\n",
    "        \n",
    "        inputs = _conv_bn_layer(\n",
    "            inputs, padding=(10, 5), filters=_CONV_FILTERS, kernel_size=(21, 11),\n",
    "            strides=(2, 1), layer_id=2, training=self.training)\n",
    "        \n",
    "        batch_size = tf.shape(inputs)[0]\n",
    "        feat_size = inputs.get_shape().as_list()[2]\n",
    "        inputs = tf.reshape(\n",
    "            inputs,\n",
    "            [batch_size, -1, feat_size * _CONV_FILTERS // 4])\n",
    "        print(inputs)\n",
    "        \n",
    "        seq_lens = tf.count_nonzero(\n",
    "            tf.reduce_sum(inputs, -1), 1, dtype = tf.int32\n",
    "        ) + 30\n",
    "        filled = tf.fill(tf.shape(seq_lens), tf.shape(inputs)[1])\n",
    "        seq_lens = tf.where(seq_lens > tf.shape(inputs)[1], filled, seq_lens)\n",
    "        \n",
    "        rnn_cell = tf.nn.rnn_cell.GRUCell\n",
    "        for layer_counter in range(5):\n",
    "            is_batch_norm = (layer_counter != 0)\n",
    "            inputs = _rnn_layer(\n",
    "              inputs, rnn_cell, size_layers, layer_counter + 1,\n",
    "              is_batch_norm, True, self.training)\n",
    "        \n",
    "\n",
    "        logits = tf.layers.dense(inputs, num_classes)\n",
    "        self.logits = logits\n",
    "        time_major = tf.transpose(logits, [1, 0, 2])\n",
    "        decoded, log_prob = tf.nn.ctc_beam_search_decoder(time_major, seq_lens)\n",
    "        decoded = tf.to_int32(decoded[0])\n",
    "        self.preds = tf.sparse_tensor_to_dense(decoded)\n",
    "        self.cost = tf.reduce_mean(\n",
    "            tf.nn.ctc_loss(\n",
    "                self.Y,\n",
    "                time_major,\n",
    "                seq_lens\n",
    "            )\n",
    "        )\n",
    "        self.optimizer = tf.train.AdamOptimizer(\n",
    "            learning_rate = learning_rate\n",
    "        ).minimize(self.cost)\n",
    "        \n",
    "        preds = self.preds[:, :tf.reduce_max(self.Y_seq_len)]\n",
    "        masks = tf.sequence_mask(self.Y_seq_len, tf.reduce_max(self.Y_seq_len), dtype=tf.float32)\n",
    "        preds = pad_second_dim(preds, tf.reduce_max(self.Y_seq_len))\n",
    "        y_t = tf.cast(preds, tf.int32)\n",
    "        self.prediction = tf.boolean_mask(y_t, masks)\n",
    "        mask_label = tf.boolean_mask(self.label, masks)\n",
    "        self.mask_label = mask_label\n",
    "        correct_pred = tf.equal(self.prediction, mask_label)\n",
    "        correct_index = tf.cast(correct_pred, tf.float32)\n",
    "        self.accuracy = tf.reduce_mean(tf.cast(correct_pred, tf.float32))"
   ]
  },
  {
   "cell_type": "code",
   "execution_count": 8,
   "metadata": {},
   "outputs": [],
   "source": [
    "from sklearn.model_selection import train_test_split\n",
    "\n",
    "train_X, test_X, train_Y, test_Y = train_test_split(X, Y)\n",
    "del X"
   ]
  },
  {
   "cell_type": "code",
   "execution_count": 9,
   "metadata": {},
   "outputs": [
    {
     "name": "stdout",
     "output_type": "stream",
     "text": [
      "Tensor(\"Reshape:0\", shape=(?, ?, 1600), dtype=float32)\n"
     ]
    }
   ],
   "source": [
    "tf.reset_default_graph()\n",
    "sess = tf.InteractiveSession()\n",
    "\n",
    "size_layers = 128\n",
    "learning_rate = 1e-3\n",
    "num_layers = 2\n",
    "batch_size = 32\n",
    "epoch = 50\n",
    "\n",
    "model = Model(size_layers, learning_rate, train_X[0].shape[1])\n",
    "sess.run(tf.global_variables_initializer())"
   ]
  },
  {
   "cell_type": "code",
   "execution_count": 10,
   "metadata": {},
   "outputs": [
    {
     "name": "stderr",
     "output_type": "stream",
     "text": [
      "minibatch loop: 100%|██████████| 408/408 [07:45<00:00,  1.08s/it, accuracy=0.513, cost=27.8]\n",
      "testing minibatch loop:   0%|          | 0/136 [00:00<?, ?it/s]"
     ]
    },
    {
     "name": "stdout",
     "output_type": "stream",
     "text": [
      "epoch 1, training average cost 36.752024, training average accuracy 0.456052\n"
     ]
    },
    {
     "name": "stderr",
     "output_type": "stream",
     "text": [
      "testing minibatch loop: 100%|██████████| 136/136 [02:04<00:00,  1.29s/it, accuracy=0.516, cost=29.3]\n",
      "minibatch loop:   0%|          | 0/408 [00:00<?, ?it/s]"
     ]
    },
    {
     "name": "stdout",
     "output_type": "stream",
     "text": [
      "epoch 1, testing average cost 33.640314, testing average accuracy 0.507403\n"
     ]
    },
    {
     "name": "stderr",
     "output_type": "stream",
     "text": [
      "minibatch loop: 100%|██████████| 408/408 [06:33<00:00,  1.15it/s, accuracy=0.51, cost=29.7] \n",
      "testing minibatch loop:   0%|          | 0/136 [00:00<?, ?it/s]"
     ]
    },
    {
     "name": "stdout",
     "output_type": "stream",
     "text": [
      "epoch 2, training average cost 30.094582, training average accuracy 0.515432\n"
     ]
    },
    {
     "name": "stderr",
     "output_type": "stream",
     "text": [
      "testing minibatch loop: 100%|██████████| 136/136 [01:59<00:00,  1.15it/s, accuracy=0.527, cost=32.4]\n",
      "minibatch loop:   0%|          | 0/408 [00:00<?, ?it/s]"
     ]
    },
    {
     "name": "stdout",
     "output_type": "stream",
     "text": [
      "epoch 2, testing average cost 37.333108, testing average accuracy 0.458463\n"
     ]
    },
    {
     "name": "stderr",
     "output_type": "stream",
     "text": [
      "minibatch loop: 100%|██████████| 408/408 [06:36<00:00,  1.15it/s, accuracy=0.522, cost=27.7]\n",
      "testing minibatch loop:   0%|          | 0/136 [00:00<?, ?it/s]"
     ]
    },
    {
     "name": "stdout",
     "output_type": "stream",
     "text": [
      "epoch 3, training average cost 27.579464, training average accuracy 0.537504\n"
     ]
    },
    {
     "name": "stderr",
     "output_type": "stream",
     "text": [
      "testing minibatch loop: 100%|██████████| 136/136 [02:06<00:00,  1.10it/s, accuracy=0.535, cost=26.3]\n",
      "minibatch loop:   0%|          | 0/408 [00:00<?, ?it/s]"
     ]
    },
    {
     "name": "stdout",
     "output_type": "stream",
     "text": [
      "epoch 3, testing average cost 28.931763, testing average accuracy 0.531215\n"
     ]
    },
    {
     "name": "stderr",
     "output_type": "stream",
     "text": [
      "minibatch loop: 100%|██████████| 408/408 [06:38<00:00,  1.15it/s, accuracy=0.534, cost=25.2]\n",
      "testing minibatch loop:   0%|          | 0/136 [00:00<?, ?it/s]"
     ]
    },
    {
     "name": "stdout",
     "output_type": "stream",
     "text": [
      "epoch 4, training average cost 25.968172, training average accuracy 0.542431\n"
     ]
    },
    {
     "name": "stderr",
     "output_type": "stream",
     "text": [
      "testing minibatch loop: 100%|██████████| 136/136 [02:05<00:00,  1.10it/s, accuracy=0.534, cost=26.4]\n",
      "minibatch loop:   0%|          | 0/408 [00:00<?, ?it/s]"
     ]
    },
    {
     "name": "stdout",
     "output_type": "stream",
     "text": [
      "epoch 4, testing average cost 28.168363, testing average accuracy 0.524012\n"
     ]
    },
    {
     "name": "stderr",
     "output_type": "stream",
     "text": [
      "minibatch loop: 100%|██████████| 408/408 [06:38<00:00,  1.14it/s, accuracy=0.53, cost=25]   \n",
      "testing minibatch loop:   0%|          | 0/136 [00:00<?, ?it/s]"
     ]
    },
    {
     "name": "stdout",
     "output_type": "stream",
     "text": [
      "epoch 5, training average cost 26.039027, training average accuracy 0.544076\n"
     ]
    },
    {
     "name": "stderr",
     "output_type": "stream",
     "text": [
      "testing minibatch loop: 100%|██████████| 136/136 [02:05<00:00,  1.10it/s, accuracy=0.512, cost=26.8]\n",
      "minibatch loop:   0%|          | 0/408 [00:00<?, ?it/s]"
     ]
    },
    {
     "name": "stdout",
     "output_type": "stream",
     "text": [
      "epoch 5, testing average cost 28.446586, testing average accuracy 0.525597\n"
     ]
    },
    {
     "name": "stderr",
     "output_type": "stream",
     "text": [
      "minibatch loop: 100%|██████████| 408/408 [06:37<00:00,  1.17it/s, accuracy=0.521, cost=44.5]\n",
      "testing minibatch loop:   0%|          | 0/136 [00:00<?, ?it/s]"
     ]
    },
    {
     "name": "stdout",
     "output_type": "stream",
     "text": [
      "epoch 6, training average cost 26.125627, training average accuracy 0.540791\n"
     ]
    },
    {
     "name": "stderr",
     "output_type": "stream",
     "text": [
      "testing minibatch loop: 100%|██████████| 136/136 [02:06<00:00,  1.07it/s, accuracy=0.519, cost=26.9]\n",
      "minibatch loop:   0%|          | 0/408 [00:00<?, ?it/s]"
     ]
    },
    {
     "name": "stdout",
     "output_type": "stream",
     "text": [
      "epoch 6, testing average cost 31.205849, testing average accuracy 0.523598\n"
     ]
    },
    {
     "name": "stderr",
     "output_type": "stream",
     "text": [
      "minibatch loop: 100%|██████████| 408/408 [06:37<00:00,  1.14it/s, accuracy=0.538, cost=25.1]\n",
      "testing minibatch loop:   0%|          | 0/136 [00:00<?, ?it/s]"
     ]
    },
    {
     "name": "stdout",
     "output_type": "stream",
     "text": [
      "epoch 7, training average cost 26.007193, training average accuracy 0.543724\n"
     ]
    },
    {
     "name": "stderr",
     "output_type": "stream",
     "text": [
      "testing minibatch loop: 100%|██████████| 136/136 [02:06<00:00,  1.08it/s, accuracy=0.524, cost=27.6]\n",
      "minibatch loop:   0%|          | 0/408 [00:00<?, ?it/s]"
     ]
    },
    {
     "name": "stdout",
     "output_type": "stream",
     "text": [
      "epoch 7, testing average cost 29.100722, testing average accuracy 0.526114\n"
     ]
    },
    {
     "name": "stderr",
     "output_type": "stream",
     "text": [
      "minibatch loop: 100%|██████████| 408/408 [06:43<00:00,  1.12it/s, accuracy=0.522, cost=29.3]\n",
      "testing minibatch loop:   0%|          | 0/136 [00:00<?, ?it/s]"
     ]
    },
    {
     "name": "stdout",
     "output_type": "stream",
     "text": [
      "epoch 8, training average cost 25.417636, training average accuracy 0.547043\n"
     ]
    },
    {
     "name": "stderr",
     "output_type": "stream",
     "text": [
      "testing minibatch loop: 100%|██████████| 136/136 [02:08<00:00,  1.06it/s, accuracy=0.522, cost=27.4]\n",
      "minibatch loop:   0%|          | 0/408 [00:00<?, ?it/s]"
     ]
    },
    {
     "name": "stdout",
     "output_type": "stream",
     "text": [
      "epoch 8, testing average cost 27.934610, testing average accuracy 0.537651\n"
     ]
    },
    {
     "name": "stderr",
     "output_type": "stream",
     "text": [
      "minibatch loop: 100%|██████████| 408/408 [06:42<00:00,  1.12it/s, accuracy=0.535, cost=25.4]\n",
      "testing minibatch loop:   0%|          | 0/136 [00:00<?, ?it/s]"
     ]
    },
    {
     "name": "stdout",
     "output_type": "stream",
     "text": [
      "epoch 9, training average cost 25.171894, training average accuracy 0.549813\n"
     ]
    },
    {
     "name": "stderr",
     "output_type": "stream",
     "text": [
      "testing minibatch loop: 100%|██████████| 136/136 [02:09<00:00,  1.05it/s, accuracy=0.552, cost=28.6]\n",
      "minibatch loop:   0%|          | 0/408 [00:00<?, ?it/s]"
     ]
    },
    {
     "name": "stdout",
     "output_type": "stream",
     "text": [
      "epoch 9, testing average cost 27.845916, testing average accuracy 0.541474\n"
     ]
    },
    {
     "name": "stderr",
     "output_type": "stream",
     "text": [
      "minibatch loop: 100%|██████████| 408/408 [06:40<00:00,  1.15it/s, accuracy=0.506, cost=24.9]\n",
      "testing minibatch loop:   0%|          | 0/136 [00:00<?, ?it/s]"
     ]
    },
    {
     "name": "stdout",
     "output_type": "stream",
     "text": [
      "epoch 10, training average cost 26.472092, training average accuracy 0.543774\n"
     ]
    },
    {
     "name": "stderr",
     "output_type": "stream",
     "text": [
      "testing minibatch loop: 100%|██████████| 136/136 [02:08<00:00,  1.06it/s, accuracy=0.528, cost=25.9]\n",
      "minibatch loop:   0%|          | 0/408 [00:00<?, ?it/s]"
     ]
    },
    {
     "name": "stdout",
     "output_type": "stream",
     "text": [
      "epoch 10, testing average cost 27.515047, testing average accuracy 0.529547\n"
     ]
    },
    {
     "name": "stderr",
     "output_type": "stream",
     "text": [
      "minibatch loop: 100%|██████████| 408/408 [06:42<00:00,  1.12it/s, accuracy=0.532, cost=25.6]\n",
      "testing minibatch loop:   0%|          | 0/136 [00:00<?, ?it/s]"
     ]
    },
    {
     "name": "stdout",
     "output_type": "stream",
     "text": [
      "epoch 11, training average cost 25.976122, training average accuracy 0.537544\n"
     ]
    },
    {
     "name": "stderr",
     "output_type": "stream",
     "text": [
      "testing minibatch loop: 100%|██████████| 136/136 [01:54<00:00,  1.22it/s, accuracy=0.392, cost=42.5]\n",
      "minibatch loop:   0%|          | 0/408 [00:00<?, ?it/s]"
     ]
    },
    {
     "name": "stdout",
     "output_type": "stream",
     "text": [
      "epoch 11, testing average cost 42.596304, testing average accuracy 0.365450\n"
     ]
    },
    {
     "name": "stderr",
     "output_type": "stream",
     "text": [
      "minibatch loop: 100%|██████████| 408/408 [06:43<00:00,  1.11it/s, accuracy=0.532, cost=24.2]\n",
      "testing minibatch loop:   0%|          | 0/136 [00:00<?, ?it/s]"
     ]
    },
    {
     "name": "stdout",
     "output_type": "stream",
     "text": [
      "epoch 12, training average cost 25.979080, training average accuracy 0.534540\n"
     ]
    },
    {
     "name": "stderr",
     "output_type": "stream",
     "text": [
      "testing minibatch loop: 100%|██████████| 136/136 [01:55<00:00,  1.19it/s, accuracy=0.446, cost=36]  \n",
      "minibatch loop:   0%|          | 0/408 [00:00<?, ?it/s]"
     ]
    },
    {
     "name": "stdout",
     "output_type": "stream",
     "text": [
      "epoch 12, testing average cost 36.840041, testing average accuracy 0.436922\n"
     ]
    },
    {
     "name": "stderr",
     "output_type": "stream",
     "text": [
      "minibatch loop: 100%|██████████| 408/408 [06:47<00:00,  1.10it/s, accuracy=0.532, cost=24.4]\n",
      "testing minibatch loop:   0%|          | 0/136 [00:00<?, ?it/s]"
     ]
    },
    {
     "name": "stdout",
     "output_type": "stream",
     "text": [
      "epoch 13, training average cost 24.662609, training average accuracy 0.546592\n"
     ]
    },
    {
     "name": "stderr",
     "output_type": "stream",
     "text": [
      "testing minibatch loop: 100%|██████████| 136/136 [02:03<00:00,  1.17it/s, accuracy=0.466, cost=38.4]\n",
      "minibatch loop:   0%|          | 0/408 [00:00<?, ?it/s]"
     ]
    },
    {
     "name": "stdout",
     "output_type": "stream",
     "text": [
      "epoch 13, testing average cost 33.145787, testing average accuracy 0.484086\n"
     ]
    },
    {
     "name": "stderr",
     "output_type": "stream",
     "text": [
      "minibatch loop: 100%|██████████| 408/408 [06:29<00:00,  1.17it/s, accuracy=0.516, cost=29.4]\n",
      "testing minibatch loop:   0%|          | 0/136 [00:00<?, ?it/s]"
     ]
    },
    {
     "name": "stdout",
     "output_type": "stream",
     "text": [
      "epoch 14, training average cost 28.649057, training average accuracy 0.533446\n"
     ]
    },
    {
     "name": "stderr",
     "output_type": "stream",
     "text": [
      "testing minibatch loop: 100%|██████████| 136/136 [02:00<00:00,  1.12it/s, accuracy=0.522, cost=29.9]\n",
      "minibatch loop:   0%|          | 0/408 [00:00<?, ?it/s]"
     ]
    },
    {
     "name": "stdout",
     "output_type": "stream",
     "text": [
      "epoch 14, testing average cost 34.036805, testing average accuracy 0.490773\n"
     ]
    },
    {
     "name": "stderr",
     "output_type": "stream",
     "text": [
      "minibatch loop: 100%|██████████| 408/408 [06:42<00:00,  1.11it/s, accuracy=0.505, cost=28.6]\n",
      "testing minibatch loop:   0%|          | 0/136 [00:00<?, ?it/s]"
     ]
    },
    {
     "name": "stdout",
     "output_type": "stream",
     "text": [
      "epoch 15, training average cost 26.851015, training average accuracy 0.533074\n"
     ]
    },
    {
     "name": "stderr",
     "output_type": "stream",
     "text": [
      "testing minibatch loop: 100%|██████████| 136/136 [02:06<00:00,  1.07it/s, accuracy=0.519, cost=26.3]\n",
      "minibatch loop:   0%|          | 0/408 [00:00<?, ?it/s]"
     ]
    },
    {
     "name": "stdout",
     "output_type": "stream",
     "text": [
      "epoch 15, testing average cost 29.728860, testing average accuracy 0.507824\n"
     ]
    },
    {
     "name": "stderr",
     "output_type": "stream",
     "text": [
      "minibatch loop: 100%|██████████| 408/408 [06:46<00:00,  1.12it/s, accuracy=0.51, cost=40.1] \n",
      "testing minibatch loop:   0%|          | 0/136 [00:00<?, ?it/s]"
     ]
    },
    {
     "name": "stdout",
     "output_type": "stream",
     "text": [
      "epoch 16, training average cost 25.958708, training average accuracy 0.541158\n"
     ]
    },
    {
     "name": "stderr",
     "output_type": "stream",
     "text": [
      "testing minibatch loop: 100%|██████████| 136/136 [02:08<00:00,  1.06it/s, accuracy=0.524, cost=25.7]\n",
      "minibatch loop:   0%|          | 0/408 [00:00<?, ?it/s]"
     ]
    },
    {
     "name": "stdout",
     "output_type": "stream",
     "text": [
      "epoch 16, testing average cost 27.419113, testing average accuracy 0.524222\n"
     ]
    },
    {
     "name": "stderr",
     "output_type": "stream",
     "text": [
      "minibatch loop: 100%|██████████| 408/408 [06:48<00:00,  1.13it/s, accuracy=0.484, cost=41.2]\n",
      "testing minibatch loop:   0%|          | 0/136 [00:00<?, ?it/s]"
     ]
    },
    {
     "name": "stdout",
     "output_type": "stream",
     "text": [
      "epoch 17, training average cost 25.708249, training average accuracy 0.541830\n"
     ]
    },
    {
     "name": "stderr",
     "output_type": "stream",
     "text": [
      "testing minibatch loop: 100%|██████████| 136/136 [02:07<00:00,  1.08it/s, accuracy=0.54, cost=25.9] \n",
      "minibatch loop:   0%|          | 0/408 [00:00<?, ?it/s]"
     ]
    },
    {
     "name": "stdout",
     "output_type": "stream",
     "text": [
      "epoch 17, testing average cost 27.128519, testing average accuracy 0.530642\n"
     ]
    },
    {
     "name": "stderr",
     "output_type": "stream",
     "text": [
      "minibatch loop: 100%|██████████| 408/408 [06:47<00:00,  1.15it/s, accuracy=0.538, cost=28.4]\n",
      "testing minibatch loop:   0%|          | 0/136 [00:00<?, ?it/s]"
     ]
    },
    {
     "name": "stdout",
     "output_type": "stream",
     "text": [
      "epoch 18, training average cost 25.132680, training average accuracy 0.543422\n"
     ]
    },
    {
     "name": "stderr",
     "output_type": "stream",
     "text": [
      "testing minibatch loop: 100%|██████████| 136/136 [02:08<00:00,  1.08it/s, accuracy=0.524, cost=25.7]\n",
      "minibatch loop:   0%|          | 0/408 [00:00<?, ?it/s]"
     ]
    },
    {
     "name": "stdout",
     "output_type": "stream",
     "text": [
      "epoch 18, testing average cost 26.821565, testing average accuracy 0.533072\n"
     ]
    },
    {
     "name": "stderr",
     "output_type": "stream",
     "text": [
      "minibatch loop: 100%|██████████| 408/408 [06:40<00:00,  1.13it/s, accuracy=0.503, cost=24.8]\n",
      "testing minibatch loop:   0%|          | 0/136 [00:00<?, ?it/s]"
     ]
    },
    {
     "name": "stdout",
     "output_type": "stream",
     "text": [
      "epoch 19, training average cost 24.921819, training average accuracy 0.546520\n"
     ]
    },
    {
     "name": "stderr",
     "output_type": "stream",
     "text": [
      "testing minibatch loop: 100%|██████████| 136/136 [02:08<00:00,  1.05it/s, accuracy=0.526, cost=25.5]\n",
      "minibatch loop:   0%|          | 0/408 [00:00<?, ?it/s]"
     ]
    },
    {
     "name": "stdout",
     "output_type": "stream",
     "text": [
      "epoch 19, testing average cost 27.040295, testing average accuracy 0.530802\n"
     ]
    },
    {
     "name": "stderr",
     "output_type": "stream",
     "text": [
      "minibatch loop: 100%|██████████| 408/408 [06:44<00:00,  1.11it/s, accuracy=0.527, cost=24.6]\n",
      "testing minibatch loop:   0%|          | 0/136 [00:00<?, ?it/s]"
     ]
    },
    {
     "name": "stdout",
     "output_type": "stream",
     "text": [
      "epoch 20, training average cost 24.546176, training average accuracy 0.548377\n"
     ]
    },
    {
     "name": "stderr",
     "output_type": "stream",
     "text": [
      "testing minibatch loop: 100%|██████████| 136/136 [02:10<00:00,  1.05it/s, accuracy=0.53, cost=25.7] \n",
      "minibatch loop:   0%|          | 0/408 [00:00<?, ?it/s]"
     ]
    },
    {
     "name": "stdout",
     "output_type": "stream",
     "text": [
      "epoch 20, testing average cost 26.543279, testing average accuracy 0.533349\n"
     ]
    },
    {
     "name": "stderr",
     "output_type": "stream",
     "text": [
      "minibatch loop: 100%|██████████| 408/408 [06:42<00:00,  1.11it/s, accuracy=0.543, cost=23.3]\n",
      "testing minibatch loop:   0%|          | 0/136 [00:00<?, ?it/s]"
     ]
    },
    {
     "name": "stdout",
     "output_type": "stream",
     "text": [
      "epoch 21, training average cost 25.980238, training average accuracy 0.533431\n"
     ]
    },
    {
     "name": "stderr",
     "output_type": "stream",
     "text": [
      "testing minibatch loop: 100%|██████████| 136/136 [02:09<00:00,  1.06it/s, accuracy=0.534, cost=26.2]\n",
      "minibatch loop:   0%|          | 0/408 [00:00<?, ?it/s]"
     ]
    },
    {
     "name": "stdout",
     "output_type": "stream",
     "text": [
      "epoch 21, testing average cost 27.228009, testing average accuracy 0.532554\n"
     ]
    },
    {
     "name": "stderr",
     "output_type": "stream",
     "text": [
      "minibatch loop: 100%|██████████| 408/408 [06:49<00:00,  1.11it/s, accuracy=0.54, cost=24.5] \n",
      "testing minibatch loop:   0%|          | 0/136 [00:00<?, ?it/s]"
     ]
    },
    {
     "name": "stdout",
     "output_type": "stream",
     "text": [
      "epoch 22, training average cost 24.028051, training average accuracy 0.548604\n"
     ]
    },
    {
     "name": "stderr",
     "output_type": "stream",
     "text": [
      "testing minibatch loop: 100%|██████████| 136/136 [02:11<00:00,  1.04it/s, accuracy=0.531, cost=25.7]\n",
      "minibatch loop:   0%|          | 0/408 [00:00<?, ?it/s]"
     ]
    },
    {
     "name": "stdout",
     "output_type": "stream",
     "text": [
      "epoch 22, testing average cost 26.191744, testing average accuracy 0.536704\n"
     ]
    },
    {
     "name": "stderr",
     "output_type": "stream",
     "text": [
      "minibatch loop: 100%|██████████| 408/408 [06:46<00:00,  1.12it/s, accuracy=0.498, cost=29]  \n",
      "testing minibatch loop:   0%|          | 0/136 [00:00<?, ?it/s]"
     ]
    },
    {
     "name": "stdout",
     "output_type": "stream",
     "text": [
      "epoch 23, training average cost 25.538108, training average accuracy 0.541082\n"
     ]
    },
    {
     "name": "stderr",
     "output_type": "stream",
     "text": [
      "testing minibatch loop: 100%|██████████| 136/136 [02:05<00:00,  1.09it/s, accuracy=0.485, cost=28.5]\n",
      "minibatch loop:   0%|          | 0/408 [00:00<?, ?it/s]"
     ]
    },
    {
     "name": "stdout",
     "output_type": "stream",
     "text": [
      "epoch 23, testing average cost 32.756211, testing average accuracy 0.457898\n"
     ]
    },
    {
     "name": "stderr",
     "output_type": "stream",
     "text": [
      "minibatch loop: 100%|██████████| 408/408 [06:43<00:00,  1.12it/s, accuracy=0.518, cost=26.2]\n",
      "testing minibatch loop:   0%|          | 0/136 [00:00<?, ?it/s]"
     ]
    },
    {
     "name": "stdout",
     "output_type": "stream",
     "text": [
      "epoch 24, training average cost 26.042714, training average accuracy 0.532300\n"
     ]
    },
    {
     "name": "stderr",
     "output_type": "stream",
     "text": [
      "testing minibatch loop: 100%|██████████| 136/136 [02:08<00:00,  1.05it/s, accuracy=0.538, cost=25.9]\n",
      "minibatch loop:   0%|          | 0/408 [00:00<?, ?it/s]"
     ]
    },
    {
     "name": "stdout",
     "output_type": "stream",
     "text": [
      "epoch 24, testing average cost 28.349028, testing average accuracy 0.512891\n"
     ]
    },
    {
     "name": "stderr",
     "output_type": "stream",
     "text": [
      "minibatch loop: 100%|██████████| 408/408 [06:50<00:00,  1.12it/s, accuracy=0.529, cost=25.2]\n",
      "testing minibatch loop:   0%|          | 0/136 [00:00<?, ?it/s]"
     ]
    },
    {
     "name": "stdout",
     "output_type": "stream",
     "text": [
      "epoch 25, training average cost 25.226255, training average accuracy 0.540316\n"
     ]
    },
    {
     "name": "stderr",
     "output_type": "stream",
     "text": [
      "testing minibatch loop: 100%|██████████| 136/136 [02:11<00:00,  1.05it/s, accuracy=0.511, cost=26.4]\n",
      "minibatch loop:   0%|          | 0/408 [00:00<?, ?it/s]"
     ]
    },
    {
     "name": "stdout",
     "output_type": "stream",
     "text": [
      "epoch 25, testing average cost 27.327009, testing average accuracy 0.536709\n"
     ]
    },
    {
     "name": "stderr",
     "output_type": "stream",
     "text": [
      "minibatch loop: 100%|██████████| 408/408 [06:44<00:00,  1.11it/s, accuracy=0.534, cost=25]  \n",
      "testing minibatch loop:   0%|          | 0/136 [00:00<?, ?it/s]"
     ]
    },
    {
     "name": "stdout",
     "output_type": "stream",
     "text": [
      "epoch 26, training average cost 25.752866, training average accuracy 0.537330\n"
     ]
    },
    {
     "name": "stderr",
     "output_type": "stream",
     "text": [
      "testing minibatch loop: 100%|██████████| 136/136 [02:10<00:00,  1.04it/s, accuracy=0.523, cost=26.2]\n",
      "minibatch loop:   0%|          | 0/408 [00:00<?, ?it/s]"
     ]
    },
    {
     "name": "stdout",
     "output_type": "stream",
     "text": [
      "epoch 26, testing average cost 30.584996, testing average accuracy 0.508819\n"
     ]
    },
    {
     "name": "stderr",
     "output_type": "stream",
     "text": [
      "minibatch loop: 100%|██████████| 408/408 [06:49<00:00,  1.12it/s, accuracy=0.511, cost=26]  \n",
      "testing minibatch loop:   0%|          | 0/136 [00:00<?, ?it/s]"
     ]
    },
    {
     "name": "stdout",
     "output_type": "stream",
     "text": [
      "epoch 27, training average cost 24.857859, training average accuracy 0.543317\n"
     ]
    },
    {
     "name": "stderr",
     "output_type": "stream",
     "text": [
      "testing minibatch loop: 100%|██████████| 136/136 [02:12<00:00,  1.03it/s, accuracy=0.535, cost=25.2]\n",
      "minibatch loop:   0%|          | 0/408 [00:00<?, ?it/s]"
     ]
    },
    {
     "name": "stdout",
     "output_type": "stream",
     "text": [
      "epoch 27, testing average cost 27.045523, testing average accuracy 0.534652\n"
     ]
    },
    {
     "name": "stderr",
     "output_type": "stream",
     "text": [
      "minibatch loop: 100%|██████████| 408/408 [06:53<00:00,  1.09it/s, accuracy=0.514, cost=24.1]\n",
      "testing minibatch loop:   0%|          | 0/136 [00:00<?, ?it/s]"
     ]
    },
    {
     "name": "stdout",
     "output_type": "stream",
     "text": [
      "epoch 28, training average cost 24.428232, training average accuracy 0.545972\n"
     ]
    },
    {
     "name": "stderr",
     "output_type": "stream",
     "text": [
      "testing minibatch loop: 100%|██████████| 136/136 [02:11<00:00,  1.06it/s, accuracy=0.534, cost=26.2]\n",
      "minibatch loop:   0%|          | 0/408 [00:00<?, ?it/s]"
     ]
    },
    {
     "name": "stdout",
     "output_type": "stream",
     "text": [
      "epoch 28, testing average cost 26.908188, testing average accuracy 0.531669\n"
     ]
    },
    {
     "name": "stderr",
     "output_type": "stream",
     "text": [
      "minibatch loop: 100%|██████████| 408/408 [06:49<00:00,  1.11it/s, accuracy=0.55, cost=24.1] \n",
      "testing minibatch loop:   0%|          | 0/136 [00:00<?, ?it/s]"
     ]
    },
    {
     "name": "stdout",
     "output_type": "stream",
     "text": [
      "epoch 29, training average cost 24.236248, training average accuracy 0.548529\n"
     ]
    },
    {
     "name": "stderr",
     "output_type": "stream",
     "text": [
      "testing minibatch loop: 100%|██████████| 136/136 [02:12<00:00,  1.05it/s, accuracy=0.536, cost=25.2]\n",
      "minibatch loop:   0%|          | 0/408 [00:00<?, ?it/s]"
     ]
    },
    {
     "name": "stdout",
     "output_type": "stream",
     "text": [
      "epoch 29, testing average cost 25.945242, testing average accuracy 0.541550\n"
     ]
    },
    {
     "name": "stderr",
     "output_type": "stream",
     "text": [
      "minibatch loop: 100%|██████████| 408/408 [06:50<00:00,  1.12it/s, accuracy=0.537, cost=23.1]\n",
      "testing minibatch loop:   0%|          | 0/136 [00:00<?, ?it/s]"
     ]
    },
    {
     "name": "stdout",
     "output_type": "stream",
     "text": [
      "epoch 30, training average cost 24.198934, training average accuracy 0.546330\n"
     ]
    },
    {
     "name": "stderr",
     "output_type": "stream",
     "text": [
      "testing minibatch loop: 100%|██████████| 136/136 [02:11<00:00,  1.04it/s, accuracy=0.535, cost=25]  \n",
      "minibatch loop:   0%|          | 0/408 [00:00<?, ?it/s]"
     ]
    },
    {
     "name": "stdout",
     "output_type": "stream",
     "text": [
      "epoch 30, testing average cost 25.825635, testing average accuracy 0.541802\n"
     ]
    },
    {
     "name": "stderr",
     "output_type": "stream",
     "text": [
      "minibatch loop: 100%|██████████| 408/408 [06:44<00:00,  1.13it/s, accuracy=0.516, cost=23.7]\n",
      "testing minibatch loop:   0%|          | 0/136 [00:00<?, ?it/s]"
     ]
    },
    {
     "name": "stdout",
     "output_type": "stream",
     "text": [
      "epoch 31, training average cost 24.635504, training average accuracy 0.539723\n"
     ]
    },
    {
     "name": "stderr",
     "output_type": "stream",
     "text": [
      "testing minibatch loop: 100%|██████████| 136/136 [02:11<00:00,  1.04it/s, accuracy=0.536, cost=24.9]\n",
      "minibatch loop:   0%|          | 0/408 [00:00<?, ?it/s]"
     ]
    },
    {
     "name": "stdout",
     "output_type": "stream",
     "text": [
      "epoch 31, testing average cost 25.675878, testing average accuracy 0.540868\n"
     ]
    },
    {
     "name": "stderr",
     "output_type": "stream",
     "text": [
      "minibatch loop: 100%|██████████| 408/408 [06:48<00:00,  1.11it/s, accuracy=0.543, cost=23.3]\n",
      "testing minibatch loop:   0%|          | 0/136 [00:00<?, ?it/s]"
     ]
    },
    {
     "name": "stdout",
     "output_type": "stream",
     "text": [
      "epoch 32, training average cost 23.618196, training average accuracy 0.550834\n"
     ]
    },
    {
     "name": "stderr",
     "output_type": "stream",
     "text": [
      "testing minibatch loop: 100%|██████████| 136/136 [02:12<00:00,  1.03it/s, accuracy=0.54, cost=24.8] \n",
      "minibatch loop:   0%|          | 0/408 [00:00<?, ?it/s]"
     ]
    },
    {
     "name": "stdout",
     "output_type": "stream",
     "text": [
      "epoch 32, testing average cost 25.606857, testing average accuracy 0.542191\n"
     ]
    },
    {
     "name": "stderr",
     "output_type": "stream",
     "text": [
      "minibatch loop: 100%|██████████| 408/408 [06:43<00:00,  1.13it/s, accuracy=0.503, cost=25.7]\n",
      "testing minibatch loop:   0%|          | 0/136 [00:00<?, ?it/s]"
     ]
    },
    {
     "name": "stdout",
     "output_type": "stream",
     "text": [
      "epoch 33, training average cost 25.539253, training average accuracy 0.525561\n"
     ]
    },
    {
     "name": "stderr",
     "output_type": "stream",
     "text": [
      "testing minibatch loop: 100%|██████████| 136/136 [02:09<00:00,  1.06it/s, accuracy=0.523, cost=26.7]\n",
      "minibatch loop:   0%|          | 0/408 [00:00<?, ?it/s]"
     ]
    },
    {
     "name": "stdout",
     "output_type": "stream",
     "text": [
      "epoch 33, testing average cost 28.340582, testing average accuracy 0.515883\n"
     ]
    },
    {
     "name": "stderr",
     "output_type": "stream",
     "text": [
      "minibatch loop: 100%|██████████| 408/408 [06:43<00:00,  1.12it/s, accuracy=0.519, cost=24.4]\n",
      "testing minibatch loop:   0%|          | 0/136 [00:00<?, ?it/s]"
     ]
    },
    {
     "name": "stdout",
     "output_type": "stream",
     "text": [
      "epoch 34, training average cost 25.344793, training average accuracy 0.534519\n"
     ]
    },
    {
     "name": "stderr",
     "output_type": "stream",
     "text": [
      "testing minibatch loop: 100%|██████████| 136/136 [02:10<00:00,  1.05it/s, accuracy=0.52, cost=28.3] \n",
      "minibatch loop:   0%|          | 0/408 [00:00<?, ?it/s]"
     ]
    },
    {
     "name": "stdout",
     "output_type": "stream",
     "text": [
      "epoch 34, testing average cost 26.501031, testing average accuracy 0.536163\n"
     ]
    },
    {
     "name": "stderr",
     "output_type": "stream",
     "text": [
      "minibatch loop: 100%|██████████| 408/408 [06:42<00:00,  1.12it/s, accuracy=0.506, cost=26.5]\n",
      "testing minibatch loop:   0%|          | 0/136 [00:00<?, ?it/s]"
     ]
    },
    {
     "name": "stdout",
     "output_type": "stream",
     "text": [
      "epoch 35, training average cost 26.818328, training average accuracy 0.516273\n"
     ]
    },
    {
     "name": "stderr",
     "output_type": "stream",
     "text": [
      "testing minibatch loop: 100%|██████████| 136/136 [02:09<00:00,  1.04it/s, accuracy=0.538, cost=26.2]\n",
      "minibatch loop:   0%|          | 0/408 [00:00<?, ?it/s]"
     ]
    },
    {
     "name": "stdout",
     "output_type": "stream",
     "text": [
      "epoch 35, testing average cost 26.938709, testing average accuracy 0.526300\n"
     ]
    },
    {
     "name": "stderr",
     "output_type": "stream",
     "text": [
      "minibatch loop: 100%|██████████| 408/408 [06:46<00:00,  1.11it/s, accuracy=0.486, cost=25.2]\n",
      "testing minibatch loop:   0%|          | 0/136 [00:00<?, ?it/s]"
     ]
    },
    {
     "name": "stdout",
     "output_type": "stream",
     "text": [
      "epoch 36, training average cost 24.931254, training average accuracy 0.537251\n"
     ]
    },
    {
     "name": "stderr",
     "output_type": "stream",
     "text": [
      "testing minibatch loop: 100%|██████████| 136/136 [02:10<00:00,  1.04it/s, accuracy=0.519, cost=27.4]\n",
      "minibatch loop:   0%|          | 0/408 [00:00<?, ?it/s]"
     ]
    },
    {
     "name": "stdout",
     "output_type": "stream",
     "text": [
      "epoch 36, testing average cost 25.948590, testing average accuracy 0.536244\n"
     ]
    },
    {
     "name": "stderr",
     "output_type": "stream",
     "text": [
      "minibatch loop: 100%|██████████| 408/408 [06:49<00:00,  1.11it/s, accuracy=0.503, cost=24]  \n",
      "testing minibatch loop:   0%|          | 0/136 [00:00<?, ?it/s]"
     ]
    },
    {
     "name": "stdout",
     "output_type": "stream",
     "text": [
      "epoch 37, training average cost 24.390002, training average accuracy 0.543256\n"
     ]
    },
    {
     "name": "stderr",
     "output_type": "stream",
     "text": [
      "testing minibatch loop: 100%|██████████| 136/136 [02:10<00:00,  1.04it/s, accuracy=0.535, cost=25.1]\n",
      "minibatch loop:   0%|          | 0/408 [00:00<?, ?it/s]"
     ]
    },
    {
     "name": "stdout",
     "output_type": "stream",
     "text": [
      "epoch 37, testing average cost 26.933435, testing average accuracy 0.533734\n"
     ]
    },
    {
     "name": "stderr",
     "output_type": "stream",
     "text": [
      "minibatch loop: 100%|██████████| 408/408 [06:50<00:00,  1.12it/s, accuracy=0.53, cost=23.5] \n",
      "testing minibatch loop:   0%|          | 0/136 [00:00<?, ?it/s]"
     ]
    },
    {
     "name": "stdout",
     "output_type": "stream",
     "text": [
      "epoch 38, training average cost 24.073428, training average accuracy 0.546168\n"
     ]
    },
    {
     "name": "stderr",
     "output_type": "stream",
     "text": [
      "testing minibatch loop: 100%|██████████| 136/136 [02:11<00:00,  1.05it/s, accuracy=0.538, cost=25.3]\n",
      "minibatch loop:   0%|          | 0/408 [00:00<?, ?it/s]"
     ]
    },
    {
     "name": "stdout",
     "output_type": "stream",
     "text": [
      "epoch 38, testing average cost 25.426755, testing average accuracy 0.542408\n"
     ]
    },
    {
     "name": "stderr",
     "output_type": "stream",
     "text": [
      "minibatch loop: 100%|██████████| 408/408 [06:48<00:00,  1.11it/s, accuracy=0.534, cost=23.6]\n",
      "testing minibatch loop:   0%|          | 0/136 [00:00<?, ?it/s]"
     ]
    },
    {
     "name": "stdout",
     "output_type": "stream",
     "text": [
      "epoch 39, training average cost 24.661502, training average accuracy 0.538350\n"
     ]
    },
    {
     "name": "stderr",
     "output_type": "stream",
     "text": [
      "testing minibatch loop: 100%|██████████| 136/136 [02:11<00:00,  1.05it/s, accuracy=0.535, cost=25.9]\n",
      "minibatch loop:   0%|          | 0/408 [00:00<?, ?it/s]"
     ]
    },
    {
     "name": "stdout",
     "output_type": "stream",
     "text": [
      "epoch 39, testing average cost 26.573199, testing average accuracy 0.532927\n"
     ]
    },
    {
     "name": "stderr",
     "output_type": "stream",
     "text": [
      "minibatch loop: 100%|██████████| 408/408 [06:47<00:00,  1.13it/s, accuracy=0.489, cost=26.3]\n",
      "testing minibatch loop:   0%|          | 0/136 [00:00<?, ?it/s]"
     ]
    },
    {
     "name": "stdout",
     "output_type": "stream",
     "text": [
      "epoch 40, training average cost 24.408776, training average accuracy 0.542005\n"
     ]
    },
    {
     "name": "stderr",
     "output_type": "stream",
     "text": [
      "testing minibatch loop: 100%|██████████| 136/136 [02:10<00:00,  1.05it/s, accuracy=0.509, cost=25.6]\n",
      "minibatch loop:   0%|          | 0/408 [00:00<?, ?it/s]"
     ]
    },
    {
     "name": "stdout",
     "output_type": "stream",
     "text": [
      "epoch 40, testing average cost 26.283798, testing average accuracy 0.534594\n"
     ]
    },
    {
     "name": "stderr",
     "output_type": "stream",
     "text": [
      "minibatch loop: 100%|██████████| 408/408 [06:49<00:00,  1.11it/s, accuracy=0.511, cost=25.4]\n",
      "testing minibatch loop:   0%|          | 0/136 [00:00<?, ?it/s]"
     ]
    },
    {
     "name": "stdout",
     "output_type": "stream",
     "text": [
      "epoch 41, training average cost 24.090039, training average accuracy 0.544600\n"
     ]
    },
    {
     "name": "stderr",
     "output_type": "stream",
     "text": [
      "testing minibatch loop: 100%|██████████| 136/136 [02:11<00:00,  1.04it/s, accuracy=0.542, cost=25.6]\n",
      "minibatch loop:   0%|          | 0/408 [00:00<?, ?it/s]"
     ]
    },
    {
     "name": "stdout",
     "output_type": "stream",
     "text": [
      "epoch 41, testing average cost 26.151459, testing average accuracy 0.533629\n"
     ]
    },
    {
     "name": "stderr",
     "output_type": "stream",
     "text": [
      "minibatch loop: 100%|██████████| 408/408 [06:48<00:00,  1.12it/s, accuracy=0.51, cost=27.1] \n",
      "testing minibatch loop:   0%|          | 0/136 [00:00<?, ?it/s]"
     ]
    },
    {
     "name": "stdout",
     "output_type": "stream",
     "text": [
      "epoch 42, training average cost 23.878734, training average accuracy 0.546651\n"
     ]
    },
    {
     "name": "stderr",
     "output_type": "stream",
     "text": [
      "testing minibatch loop: 100%|██████████| 136/136 [02:05<00:00,  1.21it/s, accuracy=0.413, cost=45.2]\n",
      "minibatch loop:   0%|          | 0/408 [00:00<?, ?it/s]"
     ]
    },
    {
     "name": "stdout",
     "output_type": "stream",
     "text": [
      "epoch 42, testing average cost 36.357576, testing average accuracy 0.493341\n"
     ]
    },
    {
     "name": "stderr",
     "output_type": "stream",
     "text": [
      "minibatch loop: 100%|██████████| 408/408 [06:49<00:00,  1.10it/s, accuracy=0.521, cost=25.7]\n",
      "testing minibatch loop:   0%|          | 0/136 [00:00<?, ?it/s]"
     ]
    },
    {
     "name": "stdout",
     "output_type": "stream",
     "text": [
      "epoch 43, training average cost 23.938177, training average accuracy 0.546060\n"
     ]
    },
    {
     "name": "stderr",
     "output_type": "stream",
     "text": [
      "testing minibatch loop: 100%|██████████| 136/136 [01:55<00:00,  1.19it/s, accuracy=0.449, cost=38.1]\n",
      "minibatch loop:   0%|          | 0/408 [00:00<?, ?it/s]"
     ]
    },
    {
     "name": "stdout",
     "output_type": "stream",
     "text": [
      "epoch 43, testing average cost 39.626057, testing average accuracy 0.441842\n"
     ]
    },
    {
     "name": "stderr",
     "output_type": "stream",
     "text": [
      "minibatch loop: 100%|██████████| 408/408 [06:48<00:00,  1.11it/s, accuracy=0.516, cost=26.5]\n",
      "testing minibatch loop:   0%|          | 0/136 [00:00<?, ?it/s]"
     ]
    },
    {
     "name": "stdout",
     "output_type": "stream",
     "text": [
      "epoch 44, training average cost 24.276792, training average accuracy 0.541622\n"
     ]
    },
    {
     "name": "stderr",
     "output_type": "stream",
     "text": [
      "testing minibatch loop: 100%|██████████| 136/136 [01:57<00:00,  1.15it/s, accuracy=0.454, cost=35.4]\n",
      "minibatch loop:   0%|          | 0/408 [00:00<?, ?it/s]"
     ]
    },
    {
     "name": "stdout",
     "output_type": "stream",
     "text": [
      "epoch 44, testing average cost 36.042488, testing average accuracy 0.464050\n"
     ]
    },
    {
     "name": "stderr",
     "output_type": "stream",
     "text": [
      "minibatch loop: 100%|██████████| 408/408 [06:48<00:00,  1.11it/s, accuracy=0.53, cost=23.4] \n",
      "testing minibatch loop:   0%|          | 0/136 [00:00<?, ?it/s]"
     ]
    },
    {
     "name": "stdout",
     "output_type": "stream",
     "text": [
      "epoch 45, training average cost 24.566175, training average accuracy 0.538092\n"
     ]
    },
    {
     "name": "stderr",
     "output_type": "stream",
     "text": [
      "testing minibatch loop: 100%|██████████| 136/136 [02:03<00:00,  1.11it/s, accuracy=0.492, cost=30.7]\n",
      "minibatch loop:   0%|          | 0/408 [00:00<?, ?it/s]"
     ]
    },
    {
     "name": "stdout",
     "output_type": "stream",
     "text": [
      "epoch 45, testing average cost 31.810730, testing average accuracy 0.493199\n"
     ]
    },
    {
     "name": "stderr",
     "output_type": "stream",
     "text": [
      "minibatch loop: 100%|██████████| 408/408 [06:47<00:00,  1.12it/s, accuracy=0.527, cost=24.4]\n",
      "testing minibatch loop:   0%|          | 0/136 [00:00<?, ?it/s]"
     ]
    },
    {
     "name": "stdout",
     "output_type": "stream",
     "text": [
      "epoch 46, training average cost 24.888103, training average accuracy 0.537207\n"
     ]
    },
    {
     "name": "stderr",
     "output_type": "stream",
     "text": [
      "testing minibatch loop: 100%|██████████| 136/136 [02:06<00:00,  1.09it/s, accuracy=0.519, cost=28]  \n",
      "minibatch loop:   0%|          | 0/408 [00:00<?, ?it/s]"
     ]
    },
    {
     "name": "stdout",
     "output_type": "stream",
     "text": [
      "epoch 46, testing average cost 29.633164, testing average accuracy 0.515880\n"
     ]
    },
    {
     "name": "stderr",
     "output_type": "stream",
     "text": [
      "minibatch loop: 100%|██████████| 408/408 [06:48<00:00,  1.10it/s, accuracy=0.537, cost=24]  \n",
      "testing minibatch loop:   0%|          | 0/136 [00:00<?, ?it/s]"
     ]
    },
    {
     "name": "stdout",
     "output_type": "stream",
     "text": [
      "epoch 47, training average cost 24.600575, training average accuracy 0.542261\n"
     ]
    },
    {
     "name": "stderr",
     "output_type": "stream",
     "text": [
      "testing minibatch loop: 100%|██████████| 136/136 [02:06<00:00,  1.06it/s, accuracy=0.542, cost=27.7]\n",
      "minibatch loop:   0%|          | 0/408 [00:00<?, ?it/s]"
     ]
    },
    {
     "name": "stdout",
     "output_type": "stream",
     "text": [
      "epoch 47, testing average cost 29.646563, testing average accuracy 0.516951\n"
     ]
    },
    {
     "name": "stderr",
     "output_type": "stream",
     "text": [
      "minibatch loop: 100%|██████████| 408/408 [06:49<00:00,  1.11it/s, accuracy=0.532, cost=25.1]\n",
      "testing minibatch loop:   0%|          | 0/136 [00:00<?, ?it/s]"
     ]
    },
    {
     "name": "stdout",
     "output_type": "stream",
     "text": [
      "epoch 48, training average cost 25.749699, training average accuracy 0.537923\n"
     ]
    },
    {
     "name": "stderr",
     "output_type": "stream",
     "text": [
      "testing minibatch loop: 100%|██████████| 136/136 [02:09<00:00,  1.05it/s, accuracy=0.523, cost=27.8]\n",
      "minibatch loop:   0%|          | 0/408 [00:00<?, ?it/s]"
     ]
    },
    {
     "name": "stdout",
     "output_type": "stream",
     "text": [
      "epoch 48, testing average cost 29.105401, testing average accuracy 0.528117\n"
     ]
    },
    {
     "name": "stderr",
     "output_type": "stream",
     "text": [
      "minibatch loop: 100%|██████████| 408/408 [06:52<00:00,  1.09it/s, accuracy=0.521, cost=27.3]\n",
      "testing minibatch loop:   0%|          | 0/136 [00:00<?, ?it/s]"
     ]
    },
    {
     "name": "stdout",
     "output_type": "stream",
     "text": [
      "epoch 49, training average cost 24.689240, training average accuracy 0.544517\n"
     ]
    },
    {
     "name": "stderr",
     "output_type": "stream",
     "text": [
      "testing minibatch loop: 100%|██████████| 136/136 [02:08<00:00,  1.08it/s, accuracy=0.534, cost=27]  \n",
      "minibatch loop:   0%|          | 0/408 [00:00<?, ?it/s]"
     ]
    },
    {
     "name": "stdout",
     "output_type": "stream",
     "text": [
      "epoch 49, testing average cost 29.081414, testing average accuracy 0.527855\n"
     ]
    },
    {
     "name": "stderr",
     "output_type": "stream",
     "text": [
      "minibatch loop: 100%|██████████| 408/408 [06:45<00:00,  1.10it/s, accuracy=0.524, cost=32.3]\n",
      "testing minibatch loop:   0%|          | 0/136 [00:00<?, ?it/s]"
     ]
    },
    {
     "name": "stdout",
     "output_type": "stream",
     "text": [
      "epoch 50, training average cost 29.715384, training average accuracy 0.517801\n"
     ]
    },
    {
     "name": "stderr",
     "output_type": "stream",
     "text": [
      "testing minibatch loop: 100%|██████████| 136/136 [01:59<00:00,  1.15it/s, accuracy=0.523, cost=32.9]"
     ]
    },
    {
     "name": "stdout",
     "output_type": "stream",
     "text": [
      "epoch 50, testing average cost 36.579830, testing average accuracy 0.483868\n"
     ]
    },
    {
     "name": "stderr",
     "output_type": "stream",
     "text": [
      "\n"
     ]
    }
   ],
   "source": [
    "for e in range(epoch):\n",
    "    pbar = tqdm(\n",
    "        range(0, len(train_X), batch_size), desc = 'minibatch loop')\n",
    "    total_cost, total_accuracy = 0, 0\n",
    "    for i in pbar:\n",
    "        batch_x = train_X[i : min(i + batch_size, len(train_X))]\n",
    "        batch_x = tf.keras.preprocessing.sequence.pad_sequences(batch_x, dtype = 'float32', padding = 'post')\n",
    "        y = train_Y[i : min(i + batch_size, len(train_X))]\n",
    "        batch_y = sparse_tuple_from(y)\n",
    "        batch_label, batch_len = pad_sentence_batch(y, 0)\n",
    "        _, cost, accuracy = sess.run(\n",
    "            [model.optimizer, model.cost, model.accuracy],\n",
    "            feed_dict = {model.X: batch_x, model.Y: batch_y, \n",
    "                         model.label: batch_label, model.Y_seq_len: batch_len,\n",
    "                        model.training: True},\n",
    "        )\n",
    "        total_cost += cost\n",
    "        total_accuracy += accuracy\n",
    "        pbar.set_postfix(cost = cost, accuracy = accuracy)\n",
    "    total_cost /= (len(train_X) / batch_size)\n",
    "    total_accuracy /= (len(train_X) / batch_size)\n",
    "    print('epoch %d, training average cost %f, training average accuracy %f'%(e + 1, total_cost, total_accuracy))\n",
    "    \n",
    "    pbar = tqdm(\n",
    "        range(0, len(test_X), batch_size), desc = 'testing minibatch loop')\n",
    "    total_cost, total_accuracy = 0, 0\n",
    "    for i in pbar:\n",
    "        batch_x = test_X[i : min(i + batch_size, len(test_X))]\n",
    "        batch_x = tf.keras.preprocessing.sequence.pad_sequences(batch_x, dtype = 'float32', padding = 'post')\n",
    "        y = test_Y[i : min(i + batch_size, len(test_X))]\n",
    "        batch_y = sparse_tuple_from(y)\n",
    "        batch_label, batch_len = pad_sentence_batch(y, 0)\n",
    "        _, cost, accuracy = sess.run(\n",
    "            [model.optimizer, model.cost, model.accuracy],\n",
    "            feed_dict = {model.X: batch_x, model.Y: batch_y, \n",
    "                         model.label: batch_label, model.Y_seq_len: batch_len,\n",
    "                        model.training:False},\n",
    "        )\n",
    "        total_cost += cost\n",
    "        total_accuracy += accuracy\n",
    "        pbar.set_postfix(cost = cost, accuracy = accuracy)\n",
    "        \n",
    "    total_cost /= (len(test_X) / batch_size)\n",
    "    total_accuracy /= (len(test_X) / batch_size)\n",
    "    print('epoch %d, testing average cost %f, testing average accuracy %f'%(e + 1, total_cost, total_accuracy))"
   ]
  },
  {
   "cell_type": "code",
   "execution_count": 12,
   "metadata": {},
   "outputs": [
    {
     "name": "stdout",
     "output_type": "stream",
     "text": [
      "real: tolong sebut poulard\n",
      "predicted: tolong sebut a\n"
     ]
    }
   ],
   "source": [
    "import random\n",
    "\n",
    "random_index = random.randint(0, len(test_X) - 1)\n",
    "batch_x = test_X[random_index : random_index + 1]\n",
    "print(\n",
    "    'real:',\n",
    "    ''.join(\n",
    "        [idx2char[no] for no in test_Y[random_index : random_index + 1][0]]\n",
    "    ),\n",
    ")\n",
    "batch_y = sparse_tuple_from(test_Y[random_index : random_index + 1])\n",
    "pred = sess.run(model.preds, feed_dict = {model.X: batch_x, model.training: False})[0]\n",
    "print('predicted:', ''.join([idx2char[no] for no in pred]))"
   ]
  },
  {
   "cell_type": "code",
   "execution_count": null,
   "metadata": {},
   "outputs": [],
   "source": []
  }
 ],
 "metadata": {
  "kernelspec": {
   "display_name": "Python 3",
   "language": "python",
   "name": "python3"
  },
  "language_info": {
   "codemirror_mode": {
    "name": "ipython",
    "version": 3
   },
   "file_extension": ".py",
   "mimetype": "text/x-python",
   "name": "python",
   "nbconvert_exporter": "python",
   "pygments_lexer": "ipython3",
   "version": "3.6.8"
  }
 },
 "nbformat": 4,
 "nbformat_minor": 2
}
