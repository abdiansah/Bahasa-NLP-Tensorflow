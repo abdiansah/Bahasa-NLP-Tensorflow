{
 "cells": [
  {
   "cell_type": "code",
   "execution_count": 1,
   "metadata": {},
   "outputs": [],
   "source": [
    "import numpy as np\n",
    "import os\n",
    "import glob"
   ]
  },
  {
   "cell_type": "code",
   "execution_count": 2,
   "metadata": {},
   "outputs": [],
   "source": [
    "os.environ['CUDA_VISIBLE_DEVICES'] = '1'\n",
    "# I have multi-gpus"
   ]
  },
  {
   "cell_type": "code",
   "execution_count": 3,
   "metadata": {},
   "outputs": [
    {
     "data": {
      "text/plain": [
       "8184"
      ]
     },
     "execution_count": 3,
     "metadata": {},
     "output_type": "execute_result"
    }
   ],
   "source": [
    "spectrogram = glob.glob('spectrogram-train/*npy')\n",
    "len(spectrogram)"
   ]
  },
  {
   "cell_type": "code",
   "execution_count": 4,
   "metadata": {},
   "outputs": [
    {
     "data": {
      "text/plain": [
       "'tolong sebut pariahship'"
      ]
     },
     "execution_count": 4,
     "metadata": {},
     "output_type": "execute_result"
    }
   ],
   "source": [
    "def filter_text(string):\n",
    "    string = string.lower()\n",
    "    splitted = string.split('/')[1].split('.')[0].replace('<>','-').split('-')\n",
    "    splitted = [w for w in splitted if not w.isdigit() and w not in ['man', 'woman', 'augment']]\n",
    "    return ' '.join(splitted)\n",
    "\n",
    "filter_text(spectrogram[-1])"
   ]
  },
  {
   "cell_type": "code",
   "execution_count": 5,
   "metadata": {},
   "outputs": [],
   "source": [
    "train_X, train_Y = [], []\n",
    "for spec in spectrogram:\n",
    "    train_Y.append(filter_text(spec))\n",
    "    train_X.append(np.load(spec))"
   ]
  },
  {
   "cell_type": "code",
   "execution_count": 6,
   "metadata": {},
   "outputs": [
    {
     "data": {
      "text/plain": [
       "293"
      ]
     },
     "execution_count": 6,
     "metadata": {},
     "output_type": "execute_result"
    }
   ],
   "source": [
    "spectrogram = glob.glob('spectrogram-test/*npy')\n",
    "len(spectrogram)"
   ]
  },
  {
   "cell_type": "code",
   "execution_count": 7,
   "metadata": {},
   "outputs": [],
   "source": [
    "test_X, test_Y = [], []\n",
    "for spec in spectrogram:\n",
    "    test_Y.append(filter_text(spec))\n",
    "    test_X.append(np.load(spec))"
   ]
  },
  {
   "cell_type": "code",
   "execution_count": 8,
   "metadata": {},
   "outputs": [
    {
     "name": "stderr",
     "output_type": "stream",
     "text": [
      "/home/husein/.local/lib/python3.6/site-packages/tensorflow/python/framework/dtypes.py:516: FutureWarning: Passing (type, 1) or '1type' as a synonym of type is deprecated; in a future version of numpy, it will be understood as (type, (1,)) / '(1,)type'.\n",
      "  _np_qint8 = np.dtype([(\"qint8\", np.int8, 1)])\n",
      "/home/husein/.local/lib/python3.6/site-packages/tensorflow/python/framework/dtypes.py:517: FutureWarning: Passing (type, 1) or '1type' as a synonym of type is deprecated; in a future version of numpy, it will be understood as (type, (1,)) / '(1,)type'.\n",
      "  _np_quint8 = np.dtype([(\"quint8\", np.uint8, 1)])\n",
      "/home/husein/.local/lib/python3.6/site-packages/tensorflow/python/framework/dtypes.py:518: FutureWarning: Passing (type, 1) or '1type' as a synonym of type is deprecated; in a future version of numpy, it will be understood as (type, (1,)) / '(1,)type'.\n",
      "  _np_qint16 = np.dtype([(\"qint16\", np.int16, 1)])\n",
      "/home/husein/.local/lib/python3.6/site-packages/tensorflow/python/framework/dtypes.py:519: FutureWarning: Passing (type, 1) or '1type' as a synonym of type is deprecated; in a future version of numpy, it will be understood as (type, (1,)) / '(1,)type'.\n",
      "  _np_quint16 = np.dtype([(\"quint16\", np.uint16, 1)])\n",
      "/home/husein/.local/lib/python3.6/site-packages/tensorflow/python/framework/dtypes.py:520: FutureWarning: Passing (type, 1) or '1type' as a synonym of type is deprecated; in a future version of numpy, it will be understood as (type, (1,)) / '(1,)type'.\n",
      "  _np_qint32 = np.dtype([(\"qint32\", np.int32, 1)])\n",
      "/home/husein/.local/lib/python3.6/site-packages/tensorflow/python/framework/dtypes.py:525: FutureWarning: Passing (type, 1) or '1type' as a synonym of type is deprecated; in a future version of numpy, it will be understood as (type, (1,)) / '(1,)type'.\n",
      "  np_resource = np.dtype([(\"resource\", np.ubyte, 1)])\n",
      "/home/husein/.local/lib/python3.6/site-packages/tensorboard/compat/tensorflow_stub/dtypes.py:541: FutureWarning: Passing (type, 1) or '1type' as a synonym of type is deprecated; in a future version of numpy, it will be understood as (type, (1,)) / '(1,)type'.\n",
      "  _np_qint8 = np.dtype([(\"qint8\", np.int8, 1)])\n",
      "/home/husein/.local/lib/python3.6/site-packages/tensorboard/compat/tensorflow_stub/dtypes.py:542: FutureWarning: Passing (type, 1) or '1type' as a synonym of type is deprecated; in a future version of numpy, it will be understood as (type, (1,)) / '(1,)type'.\n",
      "  _np_quint8 = np.dtype([(\"quint8\", np.uint8, 1)])\n",
      "/home/husein/.local/lib/python3.6/site-packages/tensorboard/compat/tensorflow_stub/dtypes.py:543: FutureWarning: Passing (type, 1) or '1type' as a synonym of type is deprecated; in a future version of numpy, it will be understood as (type, (1,)) / '(1,)type'.\n",
      "  _np_qint16 = np.dtype([(\"qint16\", np.int16, 1)])\n",
      "/home/husein/.local/lib/python3.6/site-packages/tensorboard/compat/tensorflow_stub/dtypes.py:544: FutureWarning: Passing (type, 1) or '1type' as a synonym of type is deprecated; in a future version of numpy, it will be understood as (type, (1,)) / '(1,)type'.\n",
      "  _np_quint16 = np.dtype([(\"quint16\", np.uint16, 1)])\n",
      "/home/husein/.local/lib/python3.6/site-packages/tensorboard/compat/tensorflow_stub/dtypes.py:545: FutureWarning: Passing (type, 1) or '1type' as a synonym of type is deprecated; in a future version of numpy, it will be understood as (type, (1,)) / '(1,)type'.\n",
      "  _np_qint32 = np.dtype([(\"qint32\", np.int32, 1)])\n",
      "/home/husein/.local/lib/python3.6/site-packages/tensorboard/compat/tensorflow_stub/dtypes.py:550: FutureWarning: Passing (type, 1) or '1type' as a synonym of type is deprecated; in a future version of numpy, it will be understood as (type, (1,)) / '(1,)type'.\n",
      "  np_resource = np.dtype([(\"resource\", np.ubyte, 1)])\n"
     ]
    }
   ],
   "source": [
    "import tensorflow as tf\n",
    "from tqdm import tqdm"
   ]
  },
  {
   "cell_type": "code",
   "execution_count": 9,
   "metadata": {},
   "outputs": [],
   "source": [
    "train_X = tf.keras.preprocessing.sequence.pad_sequences(\n",
    "    train_X, dtype = 'float32', padding = 'post'\n",
    ")\n",
    "\n",
    "test_X = tf.keras.preprocessing.sequence.pad_sequences(\n",
    "    test_X, dtype = 'float32', padding = 'post'\n",
    ")"
   ]
  },
  {
   "cell_type": "code",
   "execution_count": 10,
   "metadata": {},
   "outputs": [],
   "source": [
    "chars = list(set([c for target in train_Y + test_Y for c in target]))\n",
    "num_classes = len(chars) + 2\n",
    "\n",
    "idx2char = {idx + 1: char for idx, char in enumerate(chars)}\n",
    "idx2char[0] = '<PAD>'\n",
    "char2idx = {char: idx for idx, char in idx2char.items()}"
   ]
  },
  {
   "cell_type": "code",
   "execution_count": 11,
   "metadata": {},
   "outputs": [],
   "source": [
    "train_Y = [[char2idx[c] for c in target] for target in train_Y]\n",
    "test_Y = [[char2idx[c] for c in target] for target in test_Y]"
   ]
  },
  {
   "cell_type": "code",
   "execution_count": 12,
   "metadata": {},
   "outputs": [],
   "source": [
    "def pad_sentence_batch(sentence_batch, pad_int):\n",
    "    padded_seqs = []\n",
    "    seq_lens = []\n",
    "    max_sentence_len = max([len(sentence) for sentence in sentence_batch])\n",
    "    for sentence in sentence_batch:\n",
    "        padded_seqs.append(sentence + [pad_int] * (max_sentence_len - len(sentence)))\n",
    "        seq_lens.append(len(sentence))\n",
    "    return padded_seqs, seq_lens\n",
    "\n",
    "def sparse_tuple_from(sequences, dtype=np.int32):\n",
    "    indices = []\n",
    "    values = []\n",
    "\n",
    "    for n, seq in enumerate(sequences):\n",
    "        indices.extend(zip([n] * len(seq), range(len(seq))))\n",
    "        values.extend(seq)\n",
    "\n",
    "    indices = np.asarray(indices, dtype=np.int64)\n",
    "    values = np.asarray(values, dtype=dtype)\n",
    "    shape = np.asarray([len(sequences), np.asarray(indices).max(0)[1] + 1], dtype=np.int64)\n",
    "\n",
    "    return indices, values, shape"
   ]
  },
  {
   "cell_type": "code",
   "execution_count": 13,
   "metadata": {},
   "outputs": [],
   "source": [
    "def pad_second_dim(x, desired_size):\n",
    "    padding = tf.tile([[0]], tf.stack([tf.shape(x)[0], desired_size - tf.shape(x)[1]], 0))\n",
    "    return tf.concat([x, padding], 1)\n",
    "\n",
    "_BATCH_NORM_EPSILON = 1e-5\n",
    "_BATCH_NORM_DECAY = 0.997\n",
    "_CONV_FILTERS = 32\n",
    "\n",
    "def batch_norm(inputs, training):\n",
    "    return tf.layers.batch_normalization(\n",
    "      inputs=inputs, momentum=_BATCH_NORM_DECAY, epsilon=_BATCH_NORM_EPSILON,\n",
    "      fused=True, training=training)\n",
    "\n",
    "def _conv_bn_layer(inputs, padding, filters, kernel_size, strides, layer_id,\n",
    "                   training):\n",
    "    inputs = tf.pad(\n",
    "      inputs,\n",
    "      [[0, 0], [padding[0], padding[0]], [padding[1], padding[1]], [0, 0]])\n",
    "    inputs = tf.layers.conv2d(\n",
    "      inputs=inputs, filters=filters, kernel_size=kernel_size, strides=strides,\n",
    "      padding=\"valid\", use_bias=False, activation=tf.nn.relu6,\n",
    "      name=\"cnn_{}\".format(layer_id))\n",
    "    return batch_norm(inputs, training)\n",
    "\n",
    "def _rnn_layer(inputs, rnn_cell, rnn_hidden_size, layer_id, is_batch_norm,\n",
    "               is_bidirectional, training):\n",
    "    if is_batch_norm:\n",
    "        inputs = batch_norm(inputs, training)\n",
    "    \n",
    "    fw_cell = rnn_cell(num_units=rnn_hidden_size,\n",
    "                     name=\"rnn_fw_{}\".format(layer_id))\n",
    "    bw_cell = rnn_cell(num_units=rnn_hidden_size,\n",
    "                     name=\"rnn_bw_{}\".format(layer_id))\n",
    "\n",
    "    if is_bidirectional:\n",
    "        outputs, _ = tf.nn.bidirectional_dynamic_rnn(\n",
    "        cell_fw=fw_cell, cell_bw=bw_cell, inputs=inputs, dtype=tf.float32,\n",
    "        swap_memory=True)\n",
    "        rnn_outputs = tf.concat(outputs, -1)\n",
    "    else:\n",
    "        rnn_outputs = tf.nn.dynamic_rnn(\n",
    "        fw_cell, inputs, dtype=tf.float32, swap_memory=True)\n",
    "\n",
    "    return rnn_outputs\n",
    "\n",
    "class Model:\n",
    "    def __init__(\n",
    "        self,\n",
    "        size_layers,\n",
    "        learning_rate,\n",
    "        num_features,\n",
    "        dropout = 1.0,\n",
    "    ):\n",
    "        self.X = tf.placeholder(tf.float32, [None, None, num_features])\n",
    "        self.label = tf.placeholder(tf.int32, [None, None])\n",
    "        self.Y_seq_len = tf.placeholder(tf.int32, [None])\n",
    "        self.training = tf.placeholder(tf.bool, None)\n",
    "        self.Y = tf.sparse_placeholder(tf.int32)\n",
    "        x = tf.expand_dims(self.X, -1)\n",
    "\n",
    "        inputs = _conv_bn_layer(\n",
    "            x, padding=(20, 5), filters=_CONV_FILTERS, kernel_size=(41, 11),\n",
    "            strides=(2, 2), layer_id=1, training=self.training)\n",
    "        \n",
    "        inputs = _conv_bn_layer(\n",
    "            inputs, padding=(10, 5), filters=_CONV_FILTERS, kernel_size=(21, 11),\n",
    "            strides=(2, 1), layer_id=2, training=self.training)\n",
    "        \n",
    "        batch_size = tf.shape(inputs)[0]\n",
    "        feat_size = inputs.get_shape().as_list()[2]\n",
    "        inputs = tf.reshape(\n",
    "            inputs,\n",
    "            [batch_size, -1, feat_size * _CONV_FILTERS // 4])\n",
    "        print(inputs)\n",
    "        \n",
    "        seq_lens = tf.count_nonzero(\n",
    "            tf.reduce_sum(inputs, -1), 1, dtype = tf.int32\n",
    "        ) + 30\n",
    "        filled = tf.fill(tf.shape(seq_lens), tf.shape(inputs)[1])\n",
    "        seq_lens = tf.where(seq_lens > tf.shape(inputs)[1], filled, seq_lens)\n",
    "        \n",
    "        rnn_cell = tf.nn.rnn_cell.GRUCell\n",
    "        for layer_counter in range(5):\n",
    "            is_batch_norm = (layer_counter != 0)\n",
    "            inputs = _rnn_layer(\n",
    "              inputs, rnn_cell, size_layers, layer_counter + 1,\n",
    "              is_batch_norm, True, self.training)\n",
    "        \n",
    "\n",
    "        logits = tf.layers.dense(inputs, num_classes)\n",
    "        self.logits = logits\n",
    "        time_major = tf.transpose(logits, [1, 0, 2])\n",
    "        decoded, log_prob = tf.nn.ctc_beam_search_decoder(time_major, seq_lens)\n",
    "        decoded = tf.to_int32(decoded[0])\n",
    "        self.preds = tf.sparse_tensor_to_dense(decoded)\n",
    "        self.cost = tf.reduce_mean(\n",
    "            tf.nn.ctc_loss(\n",
    "                self.Y,\n",
    "                time_major,\n",
    "                seq_lens\n",
    "            )\n",
    "        )\n",
    "        self.optimizer = tf.train.AdamOptimizer(\n",
    "            learning_rate = learning_rate\n",
    "        ).minimize(self.cost)\n",
    "        \n",
    "        preds = self.preds[:, :tf.reduce_max(self.Y_seq_len)]\n",
    "        masks = tf.sequence_mask(self.Y_seq_len, tf.reduce_max(self.Y_seq_len), dtype=tf.float32)\n",
    "        preds = pad_second_dim(preds, tf.reduce_max(self.Y_seq_len))\n",
    "        y_t = tf.cast(preds, tf.int32)\n",
    "        self.prediction = tf.boolean_mask(y_t, masks)\n",
    "        mask_label = tf.boolean_mask(self.label, masks)\n",
    "        self.mask_label = mask_label\n",
    "        correct_pred = tf.equal(self.prediction, mask_label)\n",
    "        correct_index = tf.cast(correct_pred, tf.float32)\n",
    "        self.accuracy = tf.reduce_mean(tf.cast(correct_pred, tf.float32))"
   ]
  },
  {
   "cell_type": "code",
   "execution_count": 14,
   "metadata": {},
   "outputs": [
    {
     "name": "stderr",
     "output_type": "stream",
     "text": [
      "WARNING: Logging before flag parsing goes to stderr.\n",
      "W0818 00:21:09.685058 140441058170688 deprecation.py:323] From <ipython-input-13-82342b2245c7>:22: conv2d (from tensorflow.python.layers.convolutional) is deprecated and will be removed in a future version.\n",
      "Instructions for updating:\n",
      "Use `tf.keras.layers.Conv2D` instead.\n",
      "W0818 00:21:09.689858 140441058170688 deprecation.py:506] From /home/husein/.local/lib/python3.6/site-packages/tensorflow/python/ops/init_ops.py:1251: calling VarianceScaling.__init__ (from tensorflow.python.ops.init_ops) with dtype is deprecated and will be removed in a future version.\n",
      "Instructions for updating:\n",
      "Call initializer instance with the dtype argument instead of passing it to the constructor\n",
      "W0818 00:21:09.915712 140441058170688 deprecation.py:323] From <ipython-input-13-82342b2245c7>:12: batch_normalization (from tensorflow.python.layers.normalization) is deprecated and will be removed in a future version.\n",
      "Instructions for updating:\n",
      "Use keras.layers.BatchNormalization instead.  In particular, `tf.control_dependencies(tf.GraphKeys.UPDATE_OPS)` should not be used (consult the `tf.keras.layers.batch_normalization` documentation).\n",
      "W0818 00:21:10.098645 140441058170688 deprecation.py:506] From /home/husein/.local/lib/python3.6/site-packages/tensorflow/python/util/deprecation.py:507: calling count_nonzero (from tensorflow.python.ops.math_ops) with axis is deprecated and will be removed in a future version.\n",
      "Instructions for updating:\n",
      "reduction_indices is deprecated, use axis instead\n",
      "W0818 00:21:10.115337 140441058170688 deprecation.py:323] From <ipython-input-13-82342b2245c7>:80: add_dispatch_support.<locals>.wrapper (from tensorflow.python.ops.array_ops) is deprecated and will be removed in a future version.\n",
      "Instructions for updating:\n",
      "Use tf.where in 2.0, which has the same broadcast rule as np.where\n",
      "W0818 00:21:10.117051 140441058170688 deprecation.py:323] From <ipython-input-13-82342b2245c7>:31: GRUCell.__init__ (from tensorflow.python.ops.rnn_cell_impl) is deprecated and will be removed in a future version.\n",
      "Instructions for updating:\n",
      "This class is equivalent as tf.keras.layers.GRUCell, and will be replaced by that in Tensorflow 2.0.\n",
      "W0818 00:21:10.118572 140441058170688 deprecation.py:323] From <ipython-input-13-82342b2245c7>:38: bidirectional_dynamic_rnn (from tensorflow.python.ops.rnn) is deprecated and will be removed in a future version.\n",
      "Instructions for updating:\n",
      "Please use `keras.layers.Bidirectional(keras.layers.RNN(cell))`, which is equivalent to this API\n",
      "W0818 00:21:10.119624 140441058170688 deprecation.py:323] From /home/husein/.local/lib/python3.6/site-packages/tensorflow/python/ops/rnn.py:464: dynamic_rnn (from tensorflow.python.ops.rnn) is deprecated and will be removed in a future version.\n",
      "Instructions for updating:\n",
      "Please use `keras.layers.RNN(cell)`, which is equivalent to this API\n",
      "W0818 00:21:10.189555 140441058170688 deprecation.py:506] From /home/husein/.local/lib/python3.6/site-packages/tensorflow/python/ops/rnn_cell_impl.py:564: calling Constant.__init__ (from tensorflow.python.ops.init_ops) with dtype is deprecated and will be removed in a future version.\n",
      "Instructions for updating:\n",
      "Call initializer instance with the dtype argument instead of passing it to the constructor\n",
      "W0818 00:21:10.204020 140441058170688 deprecation.py:506] From /home/husein/.local/lib/python3.6/site-packages/tensorflow/python/ops/rnn_cell_impl.py:574: calling Zeros.__init__ (from tensorflow.python.ops.init_ops) with dtype is deprecated and will be removed in a future version.\n",
      "Instructions for updating:\n",
      "Call initializer instance with the dtype argument instead of passing it to the constructor\n"
     ]
    },
    {
     "name": "stdout",
     "output_type": "stream",
     "text": [
      "Tensor(\"Reshape:0\", shape=(?, ?, 1600), dtype=float32)\n"
     ]
    },
    {
     "name": "stderr",
     "output_type": "stream",
     "text": [
      "W0818 00:21:11.819599 140441058170688 deprecation.py:323] From <ipython-input-13-82342b2245c7>:90: dense (from tensorflow.python.layers.core) is deprecated and will be removed in a future version.\n",
      "Instructions for updating:\n",
      "Use keras.layers.dense instead.\n",
      "W0818 00:21:12.094319 140441058170688 deprecation.py:323] From <ipython-input-13-82342b2245c7>:94: to_int32 (from tensorflow.python.ops.math_ops) is deprecated and will be removed in a future version.\n",
      "Instructions for updating:\n",
      "Use `tf.cast` instead.\n"
     ]
    }
   ],
   "source": [
    "tf.reset_default_graph()\n",
    "sess = tf.InteractiveSession()\n",
    "\n",
    "size_layers = 512\n",
    "learning_rate = 1e-3\n",
    "num_layers = 2\n",
    "batch_size = 128\n",
    "epoch = 20\n",
    "\n",
    "model = Model(size_layers, learning_rate, train_X[0].shape[1])\n",
    "sess.run(tf.global_variables_initializer())"
   ]
  },
  {
   "cell_type": "code",
   "execution_count": 15,
   "metadata": {},
   "outputs": [
    {
     "name": "stderr",
     "output_type": "stream",
     "text": [
      "minibatch loop: 100%|██████████| 64/64 [03:55<00:00,  3.63s/it, accuracy=0.507, cost=29.7] \n",
      "testing minibatch loop: 100%|██████████| 3/3 [00:06<00:00,  2.39s/it, accuracy=0.527, cost=29.7]\n",
      "minibatch loop:   0%|          | 0/64 [00:00<?, ?it/s]"
     ]
    },
    {
     "name": "stdout",
     "output_type": "stream",
     "text": [
      "epoch 1, training avg cost 56.826046, training avg accuracy 0.291741\n",
      "epoch 1, testing avg cost 33.655415, testing avg accuracy 0.528531\n"
     ]
    },
    {
     "name": "stderr",
     "output_type": "stream",
     "text": [
      "minibatch loop: 100%|██████████| 64/64 [03:55<00:00,  3.63s/it, accuracy=0.571, cost=26.2]\n",
      "testing minibatch loop: 100%|██████████| 3/3 [00:06<00:00,  2.21s/it, accuracy=0.575, cost=28.2]\n",
      "minibatch loop:   0%|          | 0/64 [00:00<?, ?it/s]"
     ]
    },
    {
     "name": "stdout",
     "output_type": "stream",
     "text": [
      "epoch 2, training avg cost 28.403610, training avg accuracy 0.556301\n",
      "epoch 2, testing avg cost 30.760641, testing avg accuracy 0.567929\n"
     ]
    },
    {
     "name": "stderr",
     "output_type": "stream",
     "text": [
      "minibatch loop: 100%|██████████| 64/64 [03:57<00:00,  3.67s/it, accuracy=0.568, cost=24.7]\n",
      "testing minibatch loop: 100%|██████████| 3/3 [00:06<00:00,  2.27s/it, accuracy=0.562, cost=27.5]\n",
      "minibatch loop:   0%|          | 0/64 [00:00<?, ?it/s]"
     ]
    },
    {
     "name": "stdout",
     "output_type": "stream",
     "text": [
      "epoch 3, training avg cost 26.134878, training avg accuracy 0.562667\n",
      "epoch 3, testing avg cost 29.765184, testing avg accuracy 0.563527\n"
     ]
    },
    {
     "name": "stderr",
     "output_type": "stream",
     "text": [
      "minibatch loop: 100%|██████████| 64/64 [03:58<00:00,  3.66s/it, accuracy=0.57, cost=24.1] \n",
      "testing minibatch loop: 100%|██████████| 3/3 [00:06<00:00,  2.24s/it, accuracy=0.544, cost=27.1]\n",
      "minibatch loop:   0%|          | 0/64 [00:00<?, ?it/s]"
     ]
    },
    {
     "name": "stdout",
     "output_type": "stream",
     "text": [
      "epoch 4, training avg cost 25.135914, training avg accuracy 0.566498\n",
      "epoch 4, testing avg cost 29.284140, testing avg accuracy 0.546186\n"
     ]
    },
    {
     "name": "stderr",
     "output_type": "stream",
     "text": [
      "minibatch loop: 100%|██████████| 64/64 [03:59<00:00,  3.69s/it, accuracy=0.572, cost=23.1]\n",
      "testing minibatch loop: 100%|██████████| 3/3 [00:06<00:00,  2.26s/it, accuracy=0.565, cost=28.5]\n",
      "minibatch loop:   0%|          | 0/64 [00:00<?, ?it/s]"
     ]
    },
    {
     "name": "stdout",
     "output_type": "stream",
     "text": [
      "epoch 5, training avg cost 24.079517, training avg accuracy 0.567874\n",
      "epoch 5, testing avg cost 28.961710, testing avg accuracy 0.556997\n"
     ]
    },
    {
     "name": "stderr",
     "output_type": "stream",
     "text": [
      "minibatch loop: 100%|██████████| 64/64 [04:00<00:00,  3.71s/it, accuracy=0.573, cost=22.4]\n",
      "testing minibatch loop: 100%|██████████| 3/3 [00:06<00:00,  2.24s/it, accuracy=0.545, cost=26.8]\n",
      "minibatch loop:   0%|          | 0/64 [00:00<?, ?it/s]"
     ]
    },
    {
     "name": "stdout",
     "output_type": "stream",
     "text": [
      "epoch 6, training avg cost 23.452354, training avg accuracy 0.569967\n",
      "epoch 6, testing avg cost 28.446762, testing avg accuracy 0.543706\n"
     ]
    },
    {
     "name": "stderr",
     "output_type": "stream",
     "text": [
      "minibatch loop: 100%|██████████| 64/64 [04:00<00:00,  3.70s/it, accuracy=0.576, cost=21.9]\n",
      "testing minibatch loop: 100%|██████████| 3/3 [00:06<00:00,  2.25s/it, accuracy=0.561, cost=28.1]\n",
      "minibatch loop:   0%|          | 0/64 [00:00<?, ?it/s]"
     ]
    },
    {
     "name": "stdout",
     "output_type": "stream",
     "text": [
      "epoch 7, training avg cost 23.057459, training avg accuracy 0.571221\n",
      "epoch 7, testing avg cost 29.153875, testing avg accuracy 0.552550\n"
     ]
    },
    {
     "name": "stderr",
     "output_type": "stream",
     "text": [
      "minibatch loop: 100%|██████████| 64/64 [04:00<00:00,  3.69s/it, accuracy=0.572, cost=21.6]\n",
      "testing minibatch loop: 100%|██████████| 3/3 [00:06<00:00,  2.25s/it, accuracy=0.575, cost=28.6]\n",
      "minibatch loop:   0%|          | 0/64 [00:00<?, ?it/s]"
     ]
    },
    {
     "name": "stdout",
     "output_type": "stream",
     "text": [
      "epoch 8, training avg cost 22.712942, training avg accuracy 0.570491\n",
      "epoch 8, testing avg cost 27.985113, testing avg accuracy 0.564273\n"
     ]
    },
    {
     "name": "stderr",
     "output_type": "stream",
     "text": [
      "minibatch loop: 100%|██████████| 64/64 [04:02<00:00,  3.73s/it, accuracy=0.574, cost=21.5]\n",
      "testing minibatch loop: 100%|██████████| 3/3 [00:06<00:00,  2.29s/it, accuracy=0.583, cost=27.5]\n",
      "minibatch loop:   0%|          | 0/64 [00:00<?, ?it/s]"
     ]
    },
    {
     "name": "stdout",
     "output_type": "stream",
     "text": [
      "epoch 9, training avg cost 21.943815, training avg accuracy 0.574517\n",
      "epoch 9, testing avg cost 27.629715, testing avg accuracy 0.566216\n"
     ]
    },
    {
     "name": "stderr",
     "output_type": "stream",
     "text": [
      "minibatch loop: 100%|██████████| 64/64 [04:03<00:00,  3.75s/it, accuracy=0.587, cost=20.7]\n",
      "testing minibatch loop: 100%|██████████| 3/3 [00:06<00:00,  2.27s/it, accuracy=0.57, cost=24.5] \n",
      "minibatch loop:   0%|          | 0/64 [00:00<?, ?it/s]"
     ]
    },
    {
     "name": "stdout",
     "output_type": "stream",
     "text": [
      "epoch 10, training avg cost 21.678368, training avg accuracy 0.574352\n",
      "epoch 10, testing avg cost 27.116419, testing avg accuracy 0.559392\n"
     ]
    },
    {
     "name": "stderr",
     "output_type": "stream",
     "text": [
      "minibatch loop: 100%|██████████| 64/64 [04:03<00:00,  3.71s/it, accuracy=0.578, cost=20.2]\n",
      "testing minibatch loop: 100%|██████████| 3/3 [00:06<00:00,  2.26s/it, accuracy=0.572, cost=27.6]\n",
      "minibatch loop:   0%|          | 0/64 [00:00<?, ?it/s]"
     ]
    },
    {
     "name": "stdout",
     "output_type": "stream",
     "text": [
      "epoch 11, training avg cost 21.170765, training avg accuracy 0.577402\n",
      "epoch 11, testing avg cost 27.250391, testing avg accuracy 0.563014\n"
     ]
    },
    {
     "name": "stderr",
     "output_type": "stream",
     "text": [
      "minibatch loop: 100%|██████████| 64/64 [04:03<00:00,  3.77s/it, accuracy=0.59, cost=19.7] \n",
      "testing minibatch loop: 100%|██████████| 3/3 [00:06<00:00,  2.28s/it, accuracy=0.572, cost=27.5]\n",
      "minibatch loop:   0%|          | 0/64 [00:00<?, ?it/s]"
     ]
    },
    {
     "name": "stdout",
     "output_type": "stream",
     "text": [
      "epoch 12, training avg cost 20.354532, training avg accuracy 0.581516\n",
      "epoch 12, testing avg cost 27.418417, testing avg accuracy 0.564796\n"
     ]
    },
    {
     "name": "stderr",
     "output_type": "stream",
     "text": [
      "minibatch loop: 100%|██████████| 64/64 [04:03<00:00,  3.77s/it, accuracy=0.593, cost=19.2]\n",
      "testing minibatch loop: 100%|██████████| 3/3 [00:06<00:00,  2.32s/it, accuracy=0.573, cost=28]  \n",
      "minibatch loop:   0%|          | 0/64 [00:00<?, ?it/s]"
     ]
    },
    {
     "name": "stdout",
     "output_type": "stream",
     "text": [
      "epoch 13, training avg cost 19.635582, training avg accuracy 0.582762\n",
      "epoch 13, testing avg cost 28.595886, testing avg accuracy 0.564175\n"
     ]
    },
    {
     "name": "stderr",
     "output_type": "stream",
     "text": [
      "minibatch loop: 100%|██████████| 64/64 [04:04<00:00,  3.74s/it, accuracy=0.595, cost=18.6]\n",
      "testing minibatch loop: 100%|██████████| 3/3 [00:06<00:00,  2.27s/it, accuracy=0.575, cost=27.9]\n",
      "minibatch loop:   0%|          | 0/64 [00:00<?, ?it/s]"
     ]
    },
    {
     "name": "stdout",
     "output_type": "stream",
     "text": [
      "epoch 14, training avg cost 19.300629, training avg accuracy 0.584145\n",
      "epoch 14, testing avg cost 27.463984, testing avg accuracy 0.567382\n"
     ]
    },
    {
     "name": "stderr",
     "output_type": "stream",
     "text": [
      "minibatch loop: 100%|██████████| 64/64 [04:04<00:00,  3.75s/it, accuracy=0.597, cost=17.7]\n",
      "testing minibatch loop: 100%|██████████| 3/3 [00:06<00:00,  2.27s/it, accuracy=0.583, cost=26.9]\n",
      "minibatch loop:   0%|          | 0/64 [00:00<?, ?it/s]"
     ]
    },
    {
     "name": "stdout",
     "output_type": "stream",
     "text": [
      "epoch 15, training avg cost 18.425629, training avg accuracy 0.586362\n",
      "epoch 15, testing avg cost 27.066568, testing avg accuracy 0.571014\n"
     ]
    },
    {
     "name": "stderr",
     "output_type": "stream",
     "text": [
      "minibatch loop: 100%|██████████| 64/64 [04:05<00:00,  3.78s/it, accuracy=0.595, cost=17.6]\n",
      "testing minibatch loop: 100%|██████████| 3/3 [00:06<00:00,  2.31s/it, accuracy=0.567, cost=28.8]\n",
      "minibatch loop:   0%|          | 0/64 [00:00<?, ?it/s]"
     ]
    },
    {
     "name": "stdout",
     "output_type": "stream",
     "text": [
      "epoch 16, training avg cost 17.594818, training avg accuracy 0.589440\n",
      "epoch 16, testing avg cost 27.866278, testing avg accuracy 0.564799\n"
     ]
    },
    {
     "name": "stderr",
     "output_type": "stream",
     "text": [
      "minibatch loop: 100%|██████████| 64/64 [04:05<00:00,  3.76s/it, accuracy=0.602, cost=16.5]\n",
      "testing minibatch loop: 100%|██████████| 3/3 [00:06<00:00,  2.32s/it, accuracy=0.575, cost=26.7]\n",
      "minibatch loop:   0%|          | 0/64 [00:00<?, ?it/s]"
     ]
    },
    {
     "name": "stdout",
     "output_type": "stream",
     "text": [
      "epoch 17, training avg cost 17.199781, training avg accuracy 0.591143\n",
      "epoch 17, testing avg cost 27.648123, testing avg accuracy 0.569038\n"
     ]
    },
    {
     "name": "stderr",
     "output_type": "stream",
     "text": [
      "minibatch loop: 100%|██████████| 64/64 [04:06<00:00,  3.78s/it, accuracy=0.602, cost=16.1]\n",
      "testing minibatch loop: 100%|██████████| 3/3 [00:06<00:00,  2.32s/it, accuracy=0.567, cost=26.1]\n",
      "minibatch loop:   0%|          | 0/64 [00:00<?, ?it/s]"
     ]
    },
    {
     "name": "stdout",
     "output_type": "stream",
     "text": [
      "epoch 18, training avg cost 16.425949, training avg accuracy 0.593123\n",
      "epoch 18, testing avg cost 28.353882, testing avg accuracy 0.567812\n"
     ]
    },
    {
     "name": "stderr",
     "output_type": "stream",
     "text": [
      "minibatch loop: 100%|██████████| 64/64 [04:06<00:00,  3.77s/it, accuracy=0.609, cost=15.7]\n",
      "testing minibatch loop: 100%|██████████| 3/3 [00:06<00:00,  2.36s/it, accuracy=0.579, cost=28.5]\n",
      "minibatch loop:   0%|          | 0/64 [00:00<?, ?it/s]"
     ]
    },
    {
     "name": "stdout",
     "output_type": "stream",
     "text": [
      "epoch 19, training avg cost 15.584755, training avg accuracy 0.596256\n",
      "epoch 19, testing avg cost 28.705843, testing avg accuracy 0.570126\n"
     ]
    },
    {
     "name": "stderr",
     "output_type": "stream",
     "text": [
      "minibatch loop: 100%|██████████| 64/64 [04:07<00:00,  3.80s/it, accuracy=0.605, cost=14.5]\n",
      "testing minibatch loop: 100%|██████████| 3/3 [00:06<00:00,  2.34s/it, accuracy=0.572, cost=24.7]"
     ]
    },
    {
     "name": "stdout",
     "output_type": "stream",
     "text": [
      "epoch 20, training avg cost 14.778521, training avg accuracy 0.599138\n",
      "epoch 20, testing avg cost 28.008181, testing avg accuracy 0.565119\n"
     ]
    },
    {
     "name": "stderr",
     "output_type": "stream",
     "text": [
      "\n"
     ]
    }
   ],
   "source": [
    "for e in range(epoch):\n",
    "    pbar = tqdm(\n",
    "        range(0, len(train_X), batch_size), desc = 'minibatch loop')\n",
    "    train_cost, train_accuracy, test_cost, test_accuracy = [], [], [], []\n",
    "    for i in pbar:\n",
    "        batch_x = train_X[i : min(i + batch_size, len(train_X))]\n",
    "        y = train_Y[i : min(i + batch_size, len(train_X))]\n",
    "        batch_y = sparse_tuple_from(y)\n",
    "        batch_label, batch_len = pad_sentence_batch(y, 0)\n",
    "        _, cost, accuracy = sess.run(\n",
    "            [model.optimizer, model.cost, model.accuracy],\n",
    "            feed_dict = {model.X: batch_x, model.Y: batch_y, \n",
    "                         model.label: batch_label, model.Y_seq_len: batch_len,\n",
    "                        model.training: True},\n",
    "        )\n",
    "        train_cost.append(cost)\n",
    "        train_accuracy.append(accuracy)\n",
    "        pbar.set_postfix(cost = cost, accuracy = accuracy)\n",
    "    \n",
    "    pbar = tqdm(\n",
    "        range(0, len(test_X), batch_size), desc = 'testing minibatch loop')\n",
    "    for i in pbar:\n",
    "        batch_x = test_X[i : min(i + batch_size, len(test_X))]\n",
    "        y = test_Y[i : min(i + batch_size, len(test_X))]\n",
    "        batch_y = sparse_tuple_from(y)\n",
    "        batch_label, batch_len = pad_sentence_batch(y, 0)\n",
    "        cost, accuracy = sess.run(\n",
    "            [model.cost, model.accuracy],\n",
    "            feed_dict = {model.X: batch_x, model.Y: batch_y, \n",
    "                         model.label: batch_label, model.Y_seq_len: batch_len,\n",
    "                        model.training: True},\n",
    "        )\n",
    "        \n",
    "        test_cost.append(cost)\n",
    "        test_accuracy.append(accuracy)\n",
    "        \n",
    "        pbar.set_postfix(cost = cost, accuracy = accuracy)\n",
    "    \n",
    "    print('epoch %d, training avg cost %f, training avg accuracy %f'%(e + 1, np.mean(train_cost), \n",
    "                                                                      np.mean(train_accuracy)))\n",
    "    \n",
    "    print('epoch %d, testing avg cost %f, testing avg accuracy %f'%(e + 1, np.mean(test_cost), \n",
    "                                                                    np.mean(test_accuracy)))"
   ]
  },
  {
   "cell_type": "code",
   "execution_count": 16,
   "metadata": {},
   "outputs": [
    {
     "name": "stdout",
     "output_type": "stream",
     "text": [
      "real: sebut perkataan ambul\n",
      "predicted: se\n"
     ]
    }
   ],
   "source": [
    "import random\n",
    "\n",
    "random_index = random.randint(0, len(test_X) - 1)\n",
    "batch_x = test_X[random_index : random_index + 1]\n",
    "print(\n",
    "    'real:',\n",
    "    ''.join(\n",
    "        [idx2char[no] for no in test_Y[random_index : random_index + 1][0]]\n",
    "    ),\n",
    ")\n",
    "batch_y = sparse_tuple_from(test_Y[random_index : random_index + 1])\n",
    "pred = sess.run(model.preds, feed_dict = {model.X: batch_x, model.training: False})[0]\n",
    "print('predicted:', ''.join([idx2char[no] for no in pred]))"
   ]
  },
  {
   "cell_type": "code",
   "execution_count": null,
   "metadata": {},
   "outputs": [],
   "source": []
  }
 ],
 "metadata": {
  "kernelspec": {
   "display_name": "Python 3",
   "language": "python",
   "name": "python3"
  },
  "language_info": {
   "codemirror_mode": {
    "name": "ipython",
    "version": 3
   },
   "file_extension": ".py",
   "mimetype": "text/x-python",
   "name": "python",
   "nbconvert_exporter": "python",
   "pygments_lexer": "ipython3",
   "version": "3.6.8"
  }
 },
 "nbformat": 4,
 "nbformat_minor": 2
}
