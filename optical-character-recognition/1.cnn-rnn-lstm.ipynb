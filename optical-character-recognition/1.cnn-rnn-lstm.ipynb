{
 "cells": [
  {
   "cell_type": "code",
   "execution_count": 1,
   "metadata": {},
   "outputs": [],
   "source": [
    "import os\n",
    "import numpy as np\n",
    "import os\n",
    "import tensorflow as tf\n",
    "import matplotlib.pyplot as plt\n",
    "from scipy.misc import imresize\n",
    "import cv2"
   ]
  },
  {
   "cell_type": "code",
   "execution_count": 2,
   "metadata": {},
   "outputs": [
    {
     "data": {
      "text/plain": [
       "24301"
      ]
     },
     "execution_count": 2,
     "metadata": {},
     "output_type": "execute_result"
    }
   ],
   "source": [
    "directory = 'words/'\n",
    "images = [i for i in os.listdir(directory)]\n",
    "labels = [os.path.splitext(i)[0] for i in images]\n",
    "len(images)"
   ]
  },
  {
   "cell_type": "code",
   "execution_count": 3,
   "metadata": {},
   "outputs": [
    {
     "data": {
      "text/plain": [
       "(['kuat.png', 'recak.png', 'durian.png', 'niagakan.png', 'lelampang.png'],\n",
       " ['kuat', 'recak', 'durian', 'niagakan', 'lelampang'])"
      ]
     },
     "execution_count": 3,
     "metadata": {},
     "output_type": "execute_result"
    }
   ],
   "source": [
    "images[:5], labels[:5]"
   ]
  },
  {
   "cell_type": "code",
   "execution_count": 4,
   "metadata": {},
   "outputs": [
    {
     "data": {
      "image/png": "[encoded data removed]",
      "text/plain": [
       "<Figure size 432x288 with 1 Axes>"
      ]
     },
     "metadata": {
      "needs_background": "light"
     },
     "output_type": "display_data"
    }
   ],
   "source": [
    "plt.imshow(cv2.imread(directory+images[0], 0).astype(np.float32)/255.)\n",
    "plt.title(labels[0])\n",
    "plt.show()"
   ]
  },
  {
   "cell_type": "code",
   "execution_count": 5,
   "metadata": {},
   "outputs": [],
   "source": [
    "charset = list(set(''.join(labels)))\n",
    "num_classes = len(charset) + 2\n",
    "encode_maps = {}\n",
    "decode_maps = {}\n",
    "for i, char in enumerate(charset, 1):\n",
    "    encode_maps[char] = i\n",
    "    decode_maps[i] = char\n",
    "    \n",
    "SPACE_INDEX = 0\n",
    "SPACE_TOKEN = '<PAD>'\n",
    "encode_maps[SPACE_TOKEN] = SPACE_INDEX\n",
    "decode_maps[SPACE_INDEX] = SPACE_TOKEN"
   ]
  },
  {
   "cell_type": "code",
   "execution_count": 6,
   "metadata": {},
   "outputs": [
    {
     "data": {
      "text/plain": [
       "[10, 16, 21, 11]"
      ]
     },
     "execution_count": 6,
     "metadata": {},
     "output_type": "execute_result"
    }
   ],
   "source": [
    "[encode_maps[c] for c in labels[0]]"
   ]
  },
  {
   "cell_type": "code",
   "execution_count": 7,
   "metadata": {},
   "outputs": [],
   "source": [
    "image_height = 60\n",
    "image_width = 180\n",
    "image_channel = 1\n",
    "max_stepsize = 64\n",
    "num_hidden = 128\n",
    "epoch = 20\n",
    "batch_size = 32\n",
    "initial_learning_rate = 1e-3"
   ]
  },
  {
   "cell_type": "code",
   "execution_count": 8,
   "metadata": {},
   "outputs": [
    {
     "name": "stderr",
     "output_type": "stream",
     "text": [
      "/usr/local/lib/python3.6/dist-packages/ipykernel_launcher.py:3: DeprecationWarning: `imresize` is deprecated!\n",
      "`imresize` is deprecated in SciPy 1.0.0, and will be removed in 1.3.0.\n",
      "Use Pillow instead: ``numpy.array(Image.fromarray(arr).resize())``.\n",
      "  This is separate from the ipykernel package so we can avoid doing imports until\n"
     ]
    },
    {
     "data": {
      "image/png": "[encoded data removed]",
      "text/plain": [
       "<Figure size 432x288 with 1 Axes>"
      ]
     },
     "metadata": {
      "needs_background": "light"
     },
     "output_type": "display_data"
    }
   ],
   "source": [
    "resized = imresize((cv2.imread(directory+images[0], 0).astype(np.float32)/255.), (image_height,\n",
    "                                                                        image_width,\n",
    "                                                                        image_channel))\n",
    "plt.imshow(resized)\n",
    "plt.title(labels[0])\n",
    "plt.show()"
   ]
  },
  {
   "cell_type": "code",
   "execution_count": 9,
   "metadata": {},
   "outputs": [
    {
     "name": "stderr",
     "output_type": "stream",
     "text": [
      "  0%|          | 0/24301 [00:00<?, ?it/s]/usr/local/lib/python3.6/dist-packages/ipykernel_launcher.py:6: DeprecationWarning: `imresize` is deprecated!\n",
      "`imresize` is deprecated in SciPy 1.0.0, and will be removed in 1.3.0.\n",
      "Use Pillow instead: ``numpy.array(Image.fromarray(arr).resize())``.\n",
      "  \n",
      "100%|██████████| 24301/24301 [01:08<00:00, 359.04it/s]\n"
     ]
    }
   ],
   "source": [
    "import tqdm\n",
    "X = []\n",
    "for img in tqdm.tqdm(images):\n",
    "    resized = imresize((cv2.imread(directory+img, 0).astype(np.float32)/255.), (image_height,\n",
    "                                                                        image_width,\n",
    "                                                                        image_channel))\n",
    "    X.append(resized)"
   ]
  },
  {
   "cell_type": "code",
   "execution_count": 10,
   "metadata": {},
   "outputs": [],
   "source": [
    "from sklearn.model_selection import train_test_split"
   ]
  },
  {
   "cell_type": "code",
   "execution_count": 11,
   "metadata": {},
   "outputs": [],
   "source": [
    "Y = []\n",
    "for label in labels:\n",
    "    Y.append([encode_maps[c] for c in label])"
   ]
  },
  {
   "cell_type": "code",
   "execution_count": 12,
   "metadata": {},
   "outputs": [],
   "source": [
    "train_X, test_X, train_Y, test_Y = train_test_split(X, Y)"
   ]
  },
  {
   "cell_type": "code",
   "execution_count": 13,
   "metadata": {},
   "outputs": [
    {
     "data": {
      "text/plain": [
       "(18225, 6076)"
      ]
     },
     "execution_count": 13,
     "metadata": {},
     "output_type": "execute_result"
    }
   ],
   "source": [
    "len(train_X), len(test_X)"
   ]
  },
  {
   "cell_type": "code",
   "execution_count": 14,
   "metadata": {},
   "outputs": [],
   "source": [
    "def pad_second_dim(x, desired_size):\n",
    "    padding = tf.tile([[0]], tf.stack([tf.shape(x)[0], desired_size - tf.shape(x)[1]], 0))\n",
    "    return tf.concat([x, padding], 1)\n",
    "\n",
    "class Model:\n",
    "    def __init__(self):\n",
    "        self.X = tf.placeholder(tf.float32, [None, image_height, image_width, image_channel])\n",
    "        self.Y = tf.sparse_placeholder(tf.int32)\n",
    "        self.SEQ_LEN = tf.placeholder(tf.int32, [None])\n",
    "        self.label = tf.placeholder(tf.int32, [None, None])\n",
    "        self.Y_seq_len = tf.placeholder(tf.int32, [None])\n",
    "        batch_size = tf.shape(self.X)[0]\n",
    "        print(batch_size)\n",
    "        filters = [64, 128, 128, max_stepsize]\n",
    "        strides = [1, 2]\n",
    "        x = self.conv2d(self.X, 'cnn-1', 3, 1, filters[0], strides[0])\n",
    "        x = self.batch_norm('bn1', x)\n",
    "        x = self.leaky_relu(x, 0.01)\n",
    "        x = self.max_pool(x, 2, strides[1])\n",
    "        x = self.conv2d(x, 'cnn-2', 3, filters[0], filters[1], strides[0])\n",
    "        x = self.batch_norm('bn2', x)\n",
    "        x = self.leaky_relu(x, 0.01)\n",
    "        x = self.max_pool(x, 2, strides[1])\n",
    "        x = self.conv2d(x, 'cnn-3', 3, filters[1], filters[2], strides[0])\n",
    "        x = self.batch_norm('bn3', x)\n",
    "        x = self.leaky_relu(x, 0.01)\n",
    "        x = self.max_pool(x, 2, strides[1])\n",
    "        x = self.conv2d(x, 'cnn-4', 3, filters[2], filters[3], strides[0])\n",
    "        x = self.batch_norm('bn4', x)\n",
    "        x = self.leaky_relu(x, 0.01)\n",
    "        x = self.max_pool(x, 2, strides[1])\n",
    "        x = tf.reshape(x, [batch_size, -1, filters[3]])\n",
    "        x = tf.transpose(x, [0, 2, 1])\n",
    "        x = tf.reshape(x, [batch_size, filters[3], 48])\n",
    "        cell = tf.contrib.rnn.LSTMCell(num_hidden)\n",
    "        cell1 = tf.contrib.rnn.LSTMCell(num_hidden)\n",
    "        stack = tf.contrib.rnn.MultiRNNCell([cell, cell1])\n",
    "        outputs, _ = tf.nn.dynamic_rnn(stack, x, self.SEQ_LEN, dtype=tf.float32)\n",
    "        outputs = tf.reshape(outputs, [-1, num_hidden])\n",
    "        self.logits = tf.layers.dense(outputs, num_classes)\n",
    "        shape = tf.shape(x)\n",
    "        self.logits = tf.reshape(self.logits, [shape[0], -1, num_classes])\n",
    "        self.logits = tf.transpose(self.logits, (1, 0, 2))\n",
    "        self.global_step = tf.Variable(0, trainable=False)\n",
    "        self.loss = tf.nn.ctc_loss(labels=self.Y,\n",
    "                                   inputs=self.logits,\n",
    "                                   sequence_length=self.SEQ_LEN)\n",
    "        self.cost = tf.reduce_mean(self.loss)\n",
    "        self.optimizer = tf.train.AdamOptimizer(learning_rate=initial_learning_rate).minimize(self.cost)\n",
    "        self.decoded, self.log_prob = tf.nn.ctc_beam_search_decoder(self.logits,\n",
    "                                                                    self.SEQ_LEN,\n",
    "                                                                    merge_repeated=False)\n",
    "        decoded = tf.to_int32(self.decoded[0])\n",
    "        self.dense_decoded = tf.sparse_tensor_to_dense(decoded)\n",
    "        \n",
    "        preds = self.dense_decoded[:, :tf.reduce_max(self.Y_seq_len)]\n",
    "        masks = tf.sequence_mask(self.Y_seq_len, tf.reduce_max(self.Y_seq_len), dtype=tf.float32)\n",
    "        preds = pad_second_dim(preds, tf.reduce_max(self.Y_seq_len))\n",
    "        y_t = tf.cast(preds, tf.int32)\n",
    "        self.prediction = tf.boolean_mask(y_t, masks)\n",
    "        mask_label = tf.boolean_mask(self.label, masks)\n",
    "        self.mask_label = mask_label\n",
    "        correct_pred = tf.equal(self.prediction, mask_label)\n",
    "        correct_index = tf.cast(correct_pred, tf.float32)\n",
    "        self.accuracy = tf.reduce_mean(tf.cast(correct_pred, tf.float32))\n",
    "        \n",
    "        \n",
    "    def conv2d(self, x, name, filter_size, channel_in, channel_out, strides):\n",
    "        with tf.variable_scope(name):\n",
    "            return tf.layers.conv2d(x, channel_out, filter_size, strides, padding='SAME')\n",
    "        \n",
    "    \n",
    "    def batch_norm(self, name, x):\n",
    "        with tf.variable_scope(name):\n",
    "            params_shape = [x.get_shape()[-1]]\n",
    "            beta = tf.get_variable('beta', params_shape, tf.float32,\n",
    "                                   initializer=tf.constant_initializer(0.0, tf.float32))\n",
    "            gamma = tf.get_variable('gamma', params_shape, tf.float32,\n",
    "                                    initializer=tf.constant_initializer(1.0, tf.float32))\n",
    "            mean, variance = tf.nn.moments(x, [0, 1, 2], name='moments')\n",
    "            x_bn = tf.nn.batch_normalization(x, mean, variance, beta, gamma, 0.001)\n",
    "            x_bn.set_shape(x.get_shape())\n",
    "            return x_bn\n",
    "        \n",
    "    def leaky_relu(self, x, leak=0):\n",
    "        return tf.where(tf.less(x, 0.0), leak * x, x, name='leaky_relu')\n",
    "    \n",
    "    def max_pool(self, x, size, strides):\n",
    "        return tf.nn.max_pool(x, \n",
    "                              ksize=[1, size, size, 1],\n",
    "                              strides=[1, strides, strides, 1],\n",
    "                              padding='SAME',\n",
    "                              name='max_pool')"
   ]
  },
  {
   "cell_type": "code",
   "execution_count": 15,
   "metadata": {},
   "outputs": [],
   "source": [
    "def sparse_tuple_from_label(sequences, dtype=np.int32):\n",
    "    indices, values = [], []\n",
    "    for n, seq in enumerate(sequences):\n",
    "        indices.extend(zip([n] * len(seq), range(len(seq))))\n",
    "        values.extend(seq)\n",
    "    indices = np.asarray(indices, dtype=np.int64)\n",
    "    values = np.asarray(values, dtype=dtype)\n",
    "    shape = np.asarray([len(sequences), np.asarray(indices).max(0)[1] + 1], dtype=np.int64)\n",
    "    return indices, values, shape\n",
    "\n",
    "\n",
    "def pad_sentence_batch(sentence_batch, pad_int):\n",
    "    padded_seqs = []\n",
    "    seq_lens = []\n",
    "    max_sentence_len = max([len(sentence) for sentence in sentence_batch])\n",
    "    for sentence in sentence_batch:\n",
    "        padded_seqs.append(sentence + [pad_int] * (max_sentence_len - len(sentence)))\n",
    "        seq_lens.append(len(sentence))\n",
    "    return padded_seqs, seq_lens"
   ]
  },
  {
   "cell_type": "code",
   "execution_count": 16,
   "metadata": {},
   "outputs": [
    {
     "name": "stdout",
     "output_type": "stream",
     "text": [
      "Tensor(\"strided_slice:0\", shape=(), dtype=int32)\n",
      "WARNING:tensorflow:From /usr/local/lib/python3.6/dist-packages/tensorflow/python/ops/sparse_ops.py:1165: sparse_to_dense (from tensorflow.python.ops.sparse_ops) is deprecated and will be removed in a future version.\n",
      "Instructions for updating:\n",
      "Create a `tf.sparse.SparseTensor` and use `tf.sparse.to_dense` instead.\n"
     ]
    }
   ],
   "source": [
    "tf.reset_default_graph()\n",
    "sess = tf.InteractiveSession()\n",
    "model = Model()\n",
    "sess.run(tf.global_variables_initializer())"
   ]
  },
  {
   "cell_type": "code",
   "execution_count": 17,
   "metadata": {},
   "outputs": [],
   "source": [
    "import time\n",
    "from tqdm import tqdm"
   ]
  },
  {
   "cell_type": "code",
   "execution_count": 18,
   "metadata": {},
   "outputs": [
    {
     "name": "stderr",
     "output_type": "stream",
     "text": [
      "minibatch loop: 100%|██████████| 570/570 [04:03<00:00,  2.07it/s, accuracy=0.264, cost=12.1]  \n",
      "minibatch loop:   0%|          | 0/190 [00:00<?, ?it/s]"
     ]
    },
    {
     "name": "stdout",
     "output_type": "stream",
     "text": [
      "epoch 1, training avg loss 19.789084, training avg acc 0.064299\n"
     ]
    },
    {
     "name": "stderr",
     "output_type": "stream",
     "text": [
      "minibatch loop: 100%|██████████| 190/190 [01:21<00:00,  2.05it/s, accuracy=0.237, cost=13.7]\n",
      "minibatch loop:   0%|          | 0/570 [00:00<?, ?it/s]"
     ]
    },
    {
     "name": "stdout",
     "output_type": "stream",
     "text": [
      "epoch 1, testing avg loss 13.425713, testing avg acc 0.246836\n"
     ]
    },
    {
     "name": "stderr",
     "output_type": "stream",
     "text": [
      "minibatch loop: 100%|██████████| 570/570 [04:15<00:00,  2.54it/s, accuracy=0.655, cost=5.27]\n",
      "minibatch loop:   0%|          | 0/190 [00:00<?, ?it/s]"
     ]
    },
    {
     "name": "stdout",
     "output_type": "stream",
     "text": [
      "epoch 2, training avg loss 9.028289, training avg acc 0.463775\n"
     ]
    },
    {
     "name": "stderr",
     "output_type": "stream",
     "text": [
      "minibatch loop: 100%|██████████| 190/190 [01:23<00:00,  2.34it/s, accuracy=0.565, cost=6.22]\n",
      "minibatch loop:   0%|          | 0/570 [00:00<?, ?it/s]"
     ]
    },
    {
     "name": "stdout",
     "output_type": "stream",
     "text": [
      "epoch 2, testing avg loss 5.957848, testing avg acc 0.633889\n"
     ]
    },
    {
     "name": "stderr",
     "output_type": "stream",
     "text": [
      "minibatch loop: 100%|██████████| 570/570 [04:17<00:00,  2.44it/s, accuracy=0.836, cost=3.18]\n",
      "minibatch loop:   0%|          | 0/190 [00:00<?, ?it/s]"
     ]
    },
    {
     "name": "stdout",
     "output_type": "stream",
     "text": [
      "epoch 3, training avg loss 4.519131, training avg acc 0.697247\n"
     ]
    },
    {
     "name": "stderr",
     "output_type": "stream",
     "text": [
      "minibatch loop: 100%|██████████| 190/190 [01:24<00:00,  2.34it/s, accuracy=0.677, cost=3.96]\n",
      "minibatch loop:   0%|          | 0/570 [00:00<?, ?it/s]"
     ]
    },
    {
     "name": "stdout",
     "output_type": "stream",
     "text": [
      "epoch 3, testing avg loss 3.748554, testing avg acc 0.740846\n"
     ]
    },
    {
     "name": "stderr",
     "output_type": "stream",
     "text": [
      "minibatch loop: 100%|██████████| 570/570 [04:17<00:00,  2.52it/s, accuracy=0.855, cost=1.98]\n",
      "minibatch loop:   0%|          | 0/190 [00:00<?, ?it/s]"
     ]
    },
    {
     "name": "stdout",
     "output_type": "stream",
     "text": [
      "epoch 4, training avg loss 2.962801, training avg acc 0.785586\n"
     ]
    },
    {
     "name": "stderr",
     "output_type": "stream",
     "text": [
      "minibatch loop: 100%|██████████| 190/190 [01:24<00:00,  2.34it/s, accuracy=0.726, cost=2.78]\n",
      "minibatch loop:   0%|          | 0/570 [00:00<?, ?it/s]"
     ]
    },
    {
     "name": "stdout",
     "output_type": "stream",
     "text": [
      "epoch 4, testing avg loss 2.622751, testing avg acc 0.804624\n"
     ]
    },
    {
     "name": "stderr",
     "output_type": "stream",
     "text": [
      "minibatch loop: 100%|██████████| 570/570 [04:44<00:00,  2.17it/s, accuracy=0.809, cost=1.68] \n",
      "minibatch loop:   0%|          | 0/190 [00:00<?, ?it/s]"
     ]
    },
    {
     "name": "stdout",
     "output_type": "stream",
     "text": [
      "epoch 5, training avg loss 2.150145, training avg acc 0.833433\n"
     ]
    },
    {
     "name": "stderr",
     "output_type": "stream",
     "text": [
      "minibatch loop: 100%|██████████| 190/190 [01:32<00:00,  2.23it/s, accuracy=0.763, cost=2.57]\n",
      "minibatch loop:   0%|          | 0/570 [00:00<?, ?it/s]"
     ]
    },
    {
     "name": "stdout",
     "output_type": "stream",
     "text": [
      "epoch 5, testing avg loss 2.375447, testing avg acc 0.818894\n"
     ]
    },
    {
     "name": "stderr",
     "output_type": "stream",
     "text": [
      "minibatch loop: 100%|██████████| 570/570 [04:56<00:00,  1.97it/s, accuracy=0.827, cost=0.96] \n",
      "minibatch loop:   0%|          | 0/190 [00:00<?, ?it/s]"
     ]
    },
    {
     "name": "stdout",
     "output_type": "stream",
     "text": [
      "epoch 6, training avg loss 1.660465, training avg acc 0.865160\n"
     ]
    },
    {
     "name": "stderr",
     "output_type": "stream",
     "text": [
      "minibatch loop: 100%|██████████| 190/190 [01:30<00:00,  2.18it/s, accuracy=0.866, cost=2.04] \n",
      "minibatch loop:   0%|          | 0/570 [00:00<?, ?it/s]"
     ]
    },
    {
     "name": "stdout",
     "output_type": "stream",
     "text": [
      "epoch 6, testing avg loss 1.774771, testing avg acc 0.853771\n"
     ]
    },
    {
     "name": "stderr",
     "output_type": "stream",
     "text": [
      "minibatch loop: 100%|██████████| 570/570 [04:54<00:00,  2.27it/s, accuracy=0.909, cost=0.595]\n",
      "minibatch loop:   0%|          | 0/190 [00:00<?, ?it/s]"
     ]
    },
    {
     "name": "stdout",
     "output_type": "stream",
     "text": [
      "epoch 7, training avg loss 1.317783, training avg acc 0.887648\n"
     ]
    },
    {
     "name": "stderr",
     "output_type": "stream",
     "text": [
      "minibatch loop: 100%|██████████| 190/190 [01:30<00:00,  2.04it/s, accuracy=0.871, cost=1.92] \n",
      "minibatch loop:   0%|          | 0/570 [00:00<?, ?it/s]"
     ]
    },
    {
     "name": "stdout",
     "output_type": "stream",
     "text": [
      "epoch 7, testing avg loss 1.594641, testing avg acc 0.865021\n"
     ]
    },
    {
     "name": "stderr",
     "output_type": "stream",
     "text": [
      "minibatch loop: 100%|██████████| 570/570 [04:48<00:00,  2.55it/s, accuracy=0.955, cost=0.559]\n",
      "minibatch loop:   0%|          | 0/190 [00:00<?, ?it/s]"
     ]
    },
    {
     "name": "stdout",
     "output_type": "stream",
     "text": [
      "epoch 8, training avg loss 1.131505, training avg acc 0.900833\n"
     ]
    },
    {
     "name": "stderr",
     "output_type": "stream",
     "text": [
      "minibatch loop: 100%|██████████| 190/190 [01:28<00:00,  2.30it/s, accuracy=0.839, cost=2.05] \n",
      "minibatch loop:   0%|          | 0/570 [00:00<?, ?it/s]"
     ]
    },
    {
     "name": "stdout",
     "output_type": "stream",
     "text": [
      "epoch 8, testing avg loss 1.464068, testing avg acc 0.874039\n"
     ]
    },
    {
     "name": "stderr",
     "output_type": "stream",
     "text": [
      "minibatch loop: 100%|██████████| 570/570 [04:53<00:00,  2.11it/s, accuracy=0.982, cost=0.633]\n",
      "minibatch loop:   0%|          | 0/190 [00:00<?, ?it/s]"
     ]
    },
    {
     "name": "stdout",
     "output_type": "stream",
     "text": [
      "epoch 9, training avg loss 0.976946, training avg acc 0.912274\n"
     ]
    },
    {
     "name": "stderr",
     "output_type": "stream",
     "text": [
      "minibatch loop: 100%|██████████| 190/190 [01:31<00:00,  2.36it/s, accuracy=0.823, cost=2.22] \n",
      "minibatch loop:   0%|          | 0/570 [00:00<?, ?it/s]"
     ]
    },
    {
     "name": "stdout",
     "output_type": "stream",
     "text": [
      "epoch 9, testing avg loss 1.426495, testing avg acc 0.881239\n"
     ]
    },
    {
     "name": "stderr",
     "output_type": "stream",
     "text": [
      "minibatch loop: 100%|██████████| 570/570 [04:19<00:00,  2.54it/s, accuracy=0.918, cost=0.366]\n",
      "minibatch loop:   0%|          | 0/190 [00:00<?, ?it/s]"
     ]
    },
    {
     "name": "stdout",
     "output_type": "stream",
     "text": [
      "epoch 10, training avg loss 0.838818, training avg acc 0.921934\n"
     ]
    },
    {
     "name": "stderr",
     "output_type": "stream",
     "text": [
      "minibatch loop: 100%|██████████| 190/190 [01:22<00:00,  2.37it/s, accuracy=0.882, cost=1.85] \n",
      "minibatch loop:   0%|          | 0/570 [00:00<?, ?it/s]"
     ]
    },
    {
     "name": "stdout",
     "output_type": "stream",
     "text": [
      "epoch 10, testing avg loss 1.255062, testing avg acc 0.888256\n"
     ]
    },
    {
     "name": "stderr",
     "output_type": "stream",
     "text": [
      "minibatch loop: 100%|██████████| 570/570 [04:39<00:00,  2.14it/s, accuracy=0.918, cost=0.551]\n",
      "minibatch loop:   0%|          | 0/190 [00:00<?, ?it/s]"
     ]
    },
    {
     "name": "stdout",
     "output_type": "stream",
     "text": [
      "epoch 11, training avg loss 0.706368, training avg acc 0.932893\n"
     ]
    },
    {
     "name": "stderr",
     "output_type": "stream",
     "text": [
      "minibatch loop: 100%|██████████| 190/190 [01:30<00:00,  1.96it/s, accuracy=0.833, cost=1.8]  \n",
      "minibatch loop:   0%|          | 0/570 [00:00<?, ?it/s]"
     ]
    },
    {
     "name": "stdout",
     "output_type": "stream",
     "text": [
      "epoch 11, testing avg loss 1.199969, testing avg acc 0.895740\n"
     ]
    },
    {
     "name": "stderr",
     "output_type": "stream",
     "text": [
      "minibatch loop: 100%|██████████| 570/570 [04:53<00:00,  2.09it/s, accuracy=1, cost=0.303]    \n",
      "minibatch loop:   0%|          | 0/190 [00:00<?, ?it/s]"
     ]
    },
    {
     "name": "stdout",
     "output_type": "stream",
     "text": [
      "epoch 12, training avg loss 0.635093, training avg acc 0.940652\n"
     ]
    },
    {
     "name": "stderr",
     "output_type": "stream",
     "text": [
      "minibatch loop: 100%|██████████| 190/190 [01:29<00:00,  2.08it/s, accuracy=0.876, cost=1.92] \n",
      "minibatch loop:   0%|          | 0/570 [00:00<?, ?it/s]"
     ]
    },
    {
     "name": "stdout",
     "output_type": "stream",
     "text": [
      "epoch 12, testing avg loss 1.163361, testing avg acc 0.903659\n"
     ]
    },
    {
     "name": "stderr",
     "output_type": "stream",
     "text": [
      "minibatch loop: 100%|██████████| 570/570 [04:56<00:00,  2.31it/s, accuracy=1, cost=0.16]     \n",
      "minibatch loop:   0%|          | 0/190 [00:00<?, ?it/s]"
     ]
    },
    {
     "name": "stdout",
     "output_type": "stream",
     "text": [
      "epoch 13, training avg loss 0.577881, training avg acc 0.942031\n"
     ]
    },
    {
     "name": "stderr",
     "output_type": "stream",
     "text": [
      "minibatch loop: 100%|██████████| 190/190 [01:30<00:00,  1.90it/s, accuracy=0.882, cost=2.13] \n",
      "minibatch loop:   0%|          | 0/570 [00:00<?, ?it/s]"
     ]
    },
    {
     "name": "stdout",
     "output_type": "stream",
     "text": [
      "epoch 13, testing avg loss 1.183215, testing avg acc 0.890470\n"
     ]
    },
    {
     "name": "stderr",
     "output_type": "stream",
     "text": [
      "minibatch loop: 100%|██████████| 570/570 [04:55<00:00,  2.37it/s, accuracy=0.991, cost=0.254]\n",
      "minibatch loop:   0%|          | 0/190 [00:00<?, ?it/s]"
     ]
    },
    {
     "name": "stdout",
     "output_type": "stream",
     "text": [
      "epoch 14, training avg loss 0.490613, training avg acc 0.950228\n"
     ]
    },
    {
     "name": "stderr",
     "output_type": "stream",
     "text": [
      "minibatch loop: 100%|██████████| 190/190 [01:30<00:00,  2.13it/s, accuracy=0.871, cost=1.82] \n",
      "minibatch loop:   0%|          | 0/570 [00:00<?, ?it/s]"
     ]
    },
    {
     "name": "stdout",
     "output_type": "stream",
     "text": [
      "epoch 14, testing avg loss 1.120939, testing avg acc 0.906923\n"
     ]
    },
    {
     "name": "stderr",
     "output_type": "stream",
     "text": [
      "minibatch loop: 100%|██████████| 570/570 [04:54<00:00,  2.33it/s, accuracy=0.955, cost=0.171] \n",
      "minibatch loop:   0%|          | 0/190 [00:00<?, ?it/s]"
     ]
    },
    {
     "name": "stdout",
     "output_type": "stream",
     "text": [
      "epoch 15, training avg loss 0.443986, training avg acc 0.955645\n"
     ]
    },
    {
     "name": "stderr",
     "output_type": "stream",
     "text": [
      "minibatch loop: 100%|██████████| 190/190 [01:30<00:00,  2.19it/s, accuracy=0.882, cost=1.42] \n",
      "minibatch loop:   0%|          | 0/570 [00:00<?, ?it/s]"
     ]
    },
    {
     "name": "stdout",
     "output_type": "stream",
     "text": [
      "epoch 15, testing avg loss 1.044668, testing avg acc 0.911303\n"
     ]
    },
    {
     "name": "stderr",
     "output_type": "stream",
     "text": [
      "minibatch loop: 100%|██████████| 570/570 [04:55<00:00,  2.35it/s, accuracy=0.955, cost=0.317] \n",
      "minibatch loop:   0%|          | 0/190 [00:00<?, ?it/s]"
     ]
    },
    {
     "name": "stdout",
     "output_type": "stream",
     "text": [
      "epoch 16, training avg loss 0.399374, training avg acc 0.960159\n"
     ]
    },
    {
     "name": "stderr",
     "output_type": "stream",
     "text": [
      "minibatch loop: 100%|██████████| 190/190 [01:29<00:00,  2.34it/s, accuracy=0.935, cost=1.69] \n",
      "minibatch loop:   0%|          | 0/570 [00:00<?, ?it/s]"
     ]
    },
    {
     "name": "stdout",
     "output_type": "stream",
     "text": [
      "epoch 16, testing avg loss 1.065574, testing avg acc 0.913293\n"
     ]
    },
    {
     "name": "stderr",
     "output_type": "stream",
     "text": [
      "minibatch loop: 100%|██████████| 570/570 [04:56<00:00,  2.18it/s, accuracy=1, cost=0.0669]    \n",
      "minibatch loop:   0%|          | 0/190 [00:00<?, ?it/s]"
     ]
    },
    {
     "name": "stdout",
     "output_type": "stream",
     "text": [
      "epoch 17, training avg loss 0.372010, training avg acc 0.959865\n"
     ]
    },
    {
     "name": "stderr",
     "output_type": "stream",
     "text": [
      "minibatch loop: 100%|██████████| 190/190 [01:29<00:00,  2.38it/s, accuracy=0.935, cost=1.41] \n",
      "minibatch loop:   0%|          | 0/570 [00:00<?, ?it/s]"
     ]
    },
    {
     "name": "stdout",
     "output_type": "stream",
     "text": [
      "epoch 17, testing avg loss 1.057484, testing avg acc 0.911164\n"
     ]
    },
    {
     "name": "stderr",
     "output_type": "stream",
     "text": [
      "minibatch loop: 100%|██████████| 570/570 [04:59<00:00,  2.33it/s, accuracy=1, cost=0.177]     \n",
      "minibatch loop:   0%|          | 0/190 [00:00<?, ?it/s]"
     ]
    },
    {
     "name": "stdout",
     "output_type": "stream",
     "text": [
      "epoch 18, training avg loss 0.325466, training avg acc 0.964301\n"
     ]
    },
    {
     "name": "stderr",
     "output_type": "stream",
     "text": [
      "minibatch loop: 100%|██████████| 190/190 [01:31<00:00,  1.98it/s, accuracy=0.887, cost=1.36] \n",
      "minibatch loop:   0%|          | 0/570 [00:00<?, ?it/s]"
     ]
    },
    {
     "name": "stdout",
     "output_type": "stream",
     "text": [
      "epoch 18, testing avg loss 1.139331, testing avg acc 0.905505\n"
     ]
    },
    {
     "name": "stderr",
     "output_type": "stream",
     "text": [
      "minibatch loop: 100%|██████████| 570/570 [04:58<00:00,  2.32it/s, accuracy=0.991, cost=0.23]  \n",
      "minibatch loop:   0%|          | 0/190 [00:00<?, ?it/s]"
     ]
    },
    {
     "name": "stdout",
     "output_type": "stream",
     "text": [
      "epoch 19, training avg loss 0.284731, training avg acc 0.969491\n"
     ]
    },
    {
     "name": "stderr",
     "output_type": "stream",
     "text": [
      "minibatch loop: 100%|██████████| 190/190 [01:29<00:00,  2.26it/s, accuracy=0.844, cost=1.92] \n",
      "minibatch loop:   0%|          | 0/570 [00:00<?, ?it/s]"
     ]
    },
    {
     "name": "stdout",
     "output_type": "stream",
     "text": [
      "epoch 19, testing avg loss 1.247893, testing avg acc 0.894815\n"
     ]
    },
    {
     "name": "stderr",
     "output_type": "stream",
     "text": [
      "minibatch loop: 100%|██████████| 570/570 [04:57<00:00,  2.10it/s, accuracy=0.991, cost=0.148] \n",
      "minibatch loop:   0%|          | 0/190 [00:00<?, ?it/s]"
     ]
    },
    {
     "name": "stdout",
     "output_type": "stream",
     "text": [
      "epoch 20, training avg loss 0.285469, training avg acc 0.970238\n"
     ]
    },
    {
     "name": "stderr",
     "output_type": "stream",
     "text": [
      "minibatch loop: 100%|██████████| 190/190 [01:31<00:00,  2.14it/s, accuracy=0.86, cost=1.33]  "
     ]
    },
    {
     "name": "stdout",
     "output_type": "stream",
     "text": [
      "epoch 20, testing avg loss 1.077965, testing avg acc 0.912209\n"
     ]
    },
    {
     "name": "stderr",
     "output_type": "stream",
     "text": [
      "\n"
     ]
    }
   ],
   "source": [
    "for e in range(epoch):\n",
    "    pbar = tqdm(\n",
    "        range(0, len(train_X), batch_size), desc = 'minibatch loop')\n",
    "    total_lost, total_acc = 0, 0\n",
    "    for i in pbar:\n",
    "        index = min(i + batch_size, len(train_X))\n",
    "        batch_x = train_X[i : index]\n",
    "        batch_x = np.array(batch_x).reshape((len(batch_x), image_height, image_width,image_channel))\n",
    "        y = train_Y[i : index]\n",
    "        batch_y = sparse_tuple_from_label(y)\n",
    "        batch_label, batch_length = pad_sentence_batch(y, 0)\n",
    "        batch_len = np.asarray([max_stepsize for _ in [1]*len(batch_x)], dtype=np.int64)\n",
    "        feed = {model.X: batch_x,\n",
    "                model.Y: batch_y,\n",
    "                model.SEQ_LEN: batch_len,\n",
    "               model.label: batch_label,\n",
    "               model.Y_seq_len: batch_length}\n",
    "        accuracy, loss, _ = sess.run([model.accuracy,model.cost,model.optimizer],\n",
    "                                    feed_dict = feed)\n",
    "        total_lost += loss\n",
    "        total_acc += accuracy\n",
    "        pbar.set_postfix(cost = loss, accuracy = accuracy)\n",
    "    \n",
    "    total_lost /= (len(train_X)/batch_size)\n",
    "    total_acc /= (len(train_X)/batch_size)\n",
    "    \n",
    "    print('epoch %d, training avg loss %f, training avg acc %f'%(e+1,total_lost,total_acc))\n",
    "    \n",
    "    pbar = tqdm(\n",
    "        range(0, len(test_X), batch_size), desc = 'minibatch loop')\n",
    "    total_lost, total_acc = 0, 0\n",
    "    for i in pbar:\n",
    "        index = min(i + batch_size, len(test_X))\n",
    "        batch_x = test_X[i : index]\n",
    "        batch_x = np.array(batch_x).reshape((len(batch_x), image_height, image_width,image_channel))\n",
    "        y = test_Y[i : index]\n",
    "        batch_y = sparse_tuple_from_label(y)\n",
    "        batch_label, batch_length = pad_sentence_batch(y, 0)\n",
    "        batch_len = np.asarray([max_stepsize for _ in [1]*len(batch_x)], dtype=np.int64)\n",
    "        feed = {model.X: batch_x,\n",
    "                model.Y: batch_y,\n",
    "                model.SEQ_LEN: batch_len,\n",
    "               model.label: batch_label,\n",
    "               model.Y_seq_len: batch_length}\n",
    "        accuracy, loss = sess.run([model.accuracy,model.cost],\n",
    "                                    feed_dict = feed)\n",
    "        total_lost += loss\n",
    "        total_acc += accuracy\n",
    "        pbar.set_postfix(cost = loss, accuracy = accuracy)\n",
    "    \n",
    "    total_lost /= (len(test_X)/batch_size)\n",
    "    total_acc /= (len(test_X)/batch_size)\n",
    "    \n",
    "    print('epoch %d, testing avg loss %f, testing avg acc %f'%(e+1,total_lost,total_acc))"
   ]
  },
  {
   "cell_type": "code",
   "execution_count": 23,
   "metadata": {},
   "outputs": [
    {
     "data": {
      "image/png": "[encoded data removed]",
      "text/plain": [
       "<Figure size 432x288 with 1 Axes>"
      ]
     },
     "metadata": {
      "needs_background": "light"
     },
     "output_type": "display_data"
    }
   ],
   "source": [
    "decoded = sess.run(model.dense_decoded, feed_dict = {model.X: batch_x[:1],\n",
    "                                          model.SEQ_LEN: batch_len[:1]})\n",
    "plt.imshow(batch_x[0][:,:,0])\n",
    "plt.title(''.join([decode_maps[i] for i in decoded[0]]))\n",
    "plt.show()"
   ]
  },
  {
   "cell_type": "code",
   "execution_count": null,
   "metadata": {},
   "outputs": [],
   "source": []
  }
 ],
 "metadata": {
  "kernelspec": {
   "display_name": "Python 3",
   "language": "python",
   "name": "python3"
  },
  "language_info": {
   "codemirror_mode": {
    "name": "ipython",
    "version": 3
   },
   "file_extension": ".py",
   "mimetype": "text/x-python",
   "name": "python",
   "nbconvert_exporter": "python",
   "pygments_lexer": "ipython3",
   "version": "3.6.8"
  }
 },
 "nbformat": 4,
 "nbformat_minor": 2
}
