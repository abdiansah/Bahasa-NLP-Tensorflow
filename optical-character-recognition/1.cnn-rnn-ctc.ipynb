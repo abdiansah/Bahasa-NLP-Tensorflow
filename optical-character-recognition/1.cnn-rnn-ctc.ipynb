{
 "cells": [
  {
   "cell_type": "markdown",
   "metadata": {},
   "source": [
    "## Download dataset"
   ]
  },
  {
   "cell_type": "code",
   "execution_count": 1,
   "metadata": {},
   "outputs": [],
   "source": [
    "# !wget https://malaya-dataset.s3-ap-southeast-1.amazonaws.com/jawi-rumi.tar.gz\n",
    "# !wget https://raw.githubusercontent.com/huseinzol05/Malaya-Dataset/master/ocr/train-test-rumi-to-jawi.json\n",
    "# !tar -zxf jawi-rumi.tar.gz"
   ]
  },
  {
   "cell_type": "code",
   "execution_count": 2,
   "metadata": {},
   "outputs": [
    {
     "data": {
      "text/plain": [
       "(24840, 6211)"
      ]
     },
     "execution_count": 2,
     "metadata": {},
     "output_type": "execute_result"
    }
   ],
   "source": [
    "import json\n",
    "\n",
    "with open('train-test-rumi-to-jawi.json') as fopen:\n",
    "    dataset = json.load(fopen)\n",
    "len(dataset['train']), len(dataset['test'])"
   ]
  },
  {
   "cell_type": "code",
   "execution_count": 3,
   "metadata": {},
   "outputs": [
    {
     "name": "stderr",
     "output_type": "stream",
     "text": [
      "/home/husein/.local/lib/python3.6/site-packages/tensorflow/python/framework/dtypes.py:516: FutureWarning: Passing (type, 1) or '1type' as a synonym of type is deprecated; in a future version of numpy, it will be understood as (type, (1,)) / '(1,)type'.\n",
      "  _np_qint8 = np.dtype([(\"qint8\", np.int8, 1)])\n",
      "/home/husein/.local/lib/python3.6/site-packages/tensorflow/python/framework/dtypes.py:517: FutureWarning: Passing (type, 1) or '1type' as a synonym of type is deprecated; in a future version of numpy, it will be understood as (type, (1,)) / '(1,)type'.\n",
      "  _np_quint8 = np.dtype([(\"quint8\", np.uint8, 1)])\n",
      "/home/husein/.local/lib/python3.6/site-packages/tensorflow/python/framework/dtypes.py:518: FutureWarning: Passing (type, 1) or '1type' as a synonym of type is deprecated; in a future version of numpy, it will be understood as (type, (1,)) / '(1,)type'.\n",
      "  _np_qint16 = np.dtype([(\"qint16\", np.int16, 1)])\n",
      "/home/husein/.local/lib/python3.6/site-packages/tensorflow/python/framework/dtypes.py:519: FutureWarning: Passing (type, 1) or '1type' as a synonym of type is deprecated; in a future version of numpy, it will be understood as (type, (1,)) / '(1,)type'.\n",
      "  _np_quint16 = np.dtype([(\"quint16\", np.uint16, 1)])\n",
      "/home/husein/.local/lib/python3.6/site-packages/tensorflow/python/framework/dtypes.py:520: FutureWarning: Passing (type, 1) or '1type' as a synonym of type is deprecated; in a future version of numpy, it will be understood as (type, (1,)) / '(1,)type'.\n",
      "  _np_qint32 = np.dtype([(\"qint32\", np.int32, 1)])\n",
      "/home/husein/.local/lib/python3.6/site-packages/tensorflow/python/framework/dtypes.py:525: FutureWarning: Passing (type, 1) or '1type' as a synonym of type is deprecated; in a future version of numpy, it will be understood as (type, (1,)) / '(1,)type'.\n",
      "  np_resource = np.dtype([(\"resource\", np.ubyte, 1)])\n",
      "/home/husein/.local/lib/python3.6/site-packages/tensorboard/compat/tensorflow_stub/dtypes.py:541: FutureWarning: Passing (type, 1) or '1type' as a synonym of type is deprecated; in a future version of numpy, it will be understood as (type, (1,)) / '(1,)type'.\n",
      "  _np_qint8 = np.dtype([(\"qint8\", np.int8, 1)])\n",
      "/home/husein/.local/lib/python3.6/site-packages/tensorboard/compat/tensorflow_stub/dtypes.py:542: FutureWarning: Passing (type, 1) or '1type' as a synonym of type is deprecated; in a future version of numpy, it will be understood as (type, (1,)) / '(1,)type'.\n",
      "  _np_quint8 = np.dtype([(\"quint8\", np.uint8, 1)])\n",
      "/home/husein/.local/lib/python3.6/site-packages/tensorboard/compat/tensorflow_stub/dtypes.py:543: FutureWarning: Passing (type, 1) or '1type' as a synonym of type is deprecated; in a future version of numpy, it will be understood as (type, (1,)) / '(1,)type'.\n",
      "  _np_qint16 = np.dtype([(\"qint16\", np.int16, 1)])\n",
      "/home/husein/.local/lib/python3.6/site-packages/tensorboard/compat/tensorflow_stub/dtypes.py:544: FutureWarning: Passing (type, 1) or '1type' as a synonym of type is deprecated; in a future version of numpy, it will be understood as (type, (1,)) / '(1,)type'.\n",
      "  _np_quint16 = np.dtype([(\"quint16\", np.uint16, 1)])\n",
      "/home/husein/.local/lib/python3.6/site-packages/tensorboard/compat/tensorflow_stub/dtypes.py:545: FutureWarning: Passing (type, 1) or '1type' as a synonym of type is deprecated; in a future version of numpy, it will be understood as (type, (1,)) / '(1,)type'.\n",
      "  _np_qint32 = np.dtype([(\"qint32\", np.int32, 1)])\n",
      "/home/husein/.local/lib/python3.6/site-packages/tensorboard/compat/tensorflow_stub/dtypes.py:550: FutureWarning: Passing (type, 1) or '1type' as a synonym of type is deprecated; in a future version of numpy, it will be understood as (type, (1,)) / '(1,)type'.\n",
      "  np_resource = np.dtype([(\"resource\", np.ubyte, 1)])\n"
     ]
    }
   ],
   "source": [
    "import numpy as np\n",
    "import tensorflow as tf\n",
    "import matplotlib.pyplot as plt\n",
    "from scipy.misc import imresize\n",
    "import cv2"
   ]
  },
  {
   "cell_type": "code",
   "execution_count": 4,
   "metadata": {},
   "outputs": [],
   "source": [
    "train_labels = [f.split('/')[1].split('.')[0].lower() for f in dataset['train']]\n",
    "test_labels = [f.split('/')[1].split('.')[0].lower() for f in dataset['test']]"
   ]
  },
  {
   "cell_type": "code",
   "execution_count": 5,
   "metadata": {},
   "outputs": [
    {
     "data": {
      "image/png": "[encoded data removed]",
      "text/plain": [
       "<Figure size 432x288 with 1 Axes>"
      ]
     },
     "metadata": {
      "needs_background": "light"
     },
     "output_type": "display_data"
    }
   ],
   "source": [
    "plt.imshow(cv2.imread(dataset['train'][0], 0).astype(np.float32)/255.)\n",
    "plt.title(train_labels[0])\n",
    "plt.show()"
   ]
  },
  {
   "cell_type": "code",
   "execution_count": 6,
   "metadata": {},
   "outputs": [],
   "source": [
    "charset = list(set(''.join(train_labels + test_labels)))\n",
    "num_classes = len(charset) + 2\n",
    "encode_maps = {}\n",
    "decode_maps = {}\n",
    "for i, char in enumerate(charset, 1):\n",
    "    encode_maps[char] = i\n",
    "    decode_maps[i] = char\n",
    "    \n",
    "SPACE_INDEX = 0\n",
    "SPACE_TOKEN = '<PAD>'\n",
    "encode_maps[SPACE_TOKEN] = SPACE_INDEX\n",
    "decode_maps[SPACE_INDEX] = SPACE_TOKEN"
   ]
  },
  {
   "cell_type": "code",
   "execution_count": 7,
   "metadata": {},
   "outputs": [
    {
     "data": {
      "text/plain": [
       "{'h': 1,\n",
       " 'g': 2,\n",
       " 't': 3,\n",
       " 'n': 4,\n",
       " 'j': 5,\n",
       " 'y': 6,\n",
       " 'f': 7,\n",
       " 's': 8,\n",
       " 'a': 9,\n",
       " 'c': 10,\n",
       " '-': 11,\n",
       " 'v': 12,\n",
       " '?': 13,\n",
       " 'q': 14,\n",
       " 'e': 15,\n",
       " 'w': 16,\n",
       " ' ': 17,\n",
       " 'p': 18,\n",
       " 'o': 19,\n",
       " 'b': 20,\n",
       " 'r': 21,\n",
       " 'l': 22,\n",
       " 'i': 23,\n",
       " \"'\": 24,\n",
       " 'u': 25,\n",
       " 'k': 26,\n",
       " 'm': 27,\n",
       " 'd': 28,\n",
       " 'z': 29,\n",
       " 'x': 30,\n",
       " '<PAD>': 0}"
      ]
     },
     "execution_count": 7,
     "metadata": {},
     "output_type": "execute_result"
    }
   ],
   "source": [
    "encode_maps"
   ]
  },
  {
   "cell_type": "code",
   "execution_count": 8,
   "metadata": {},
   "outputs": [
    {
     "data": {
      "text/plain": [
       "[21, 9, 3, 9, 18, 9, 4]"
      ]
     },
     "execution_count": 8,
     "metadata": {},
     "output_type": "execute_result"
    }
   ],
   "source": [
    "[encode_maps[c] for c in train_labels[0]]"
   ]
  },
  {
   "cell_type": "code",
   "execution_count": 9,
   "metadata": {},
   "outputs": [],
   "source": [
    "image_height = 60\n",
    "image_width = 240\n",
    "image_channel = 1\n",
    "max_stepsize = 128\n",
    "num_hidden = 256\n",
    "epoch = 20\n",
    "batch_size = 128\n",
    "initial_learning_rate = 1e-3"
   ]
  },
  {
   "cell_type": "markdown",
   "metadata": {},
   "source": [
    "## Our input image after transformation"
   ]
  },
  {
   "cell_type": "code",
   "execution_count": 10,
   "metadata": {},
   "outputs": [
    {
     "name": "stderr",
     "output_type": "stream",
     "text": [
      "/home/husein/.local/lib/python3.6/site-packages/ipykernel_launcher.py:3: DeprecationWarning: `imresize` is deprecated!\n",
      "`imresize` is deprecated in SciPy 1.0.0, and will be removed in 1.3.0.\n",
      "Use Pillow instead: ``numpy.array(Image.fromarray(arr).resize())``.\n",
      "  This is separate from the ipykernel package so we can avoid doing imports until\n"
     ]
    },
    {
     "data": {
      "image/png": "[encoded data removed]",
      "text/plain": [
       "<Figure size 432x288 with 1 Axes>"
      ]
     },
     "metadata": {
      "needs_background": "light"
     },
     "output_type": "display_data"
    }
   ],
   "source": [
    "resized = imresize(cv2.flip((cv2.imread(dataset['train'][0], 0).astype(np.float32)/255.), 1), (image_height,\n",
    "                                                                        image_width,\n",
    "                                                                        image_channel))\n",
    "plt.imshow(resized)\n",
    "plt.title(train_labels[0])\n",
    "plt.show()"
   ]
  },
  {
   "cell_type": "code",
   "execution_count": 11,
   "metadata": {},
   "outputs": [
    {
     "name": "stderr",
     "output_type": "stream",
     "text": [
      "  0%|          | 0/24840 [00:00<?, ?it/s]/home/husein/.local/lib/python3.6/site-packages/ipykernel_launcher.py:6: DeprecationWarning: `imresize` is deprecated!\n",
      "`imresize` is deprecated in SciPy 1.0.0, and will be removed in 1.3.0.\n",
      "Use Pillow instead: ``numpy.array(Image.fromarray(arr).resize())``.\n",
      "  \n",
      "100%|██████████| 24840/24840 [01:02<00:00, 397.42it/s]\n"
     ]
    }
   ],
   "source": [
    "import tqdm\n",
    "train_X = []\n",
    "for img in tqdm.tqdm(dataset['train']):\n",
    "    resized = imresize(cv2.flip((cv2.imread(img, 0).astype(np.float32)/255.), 1), (image_height,\n",
    "                                                                        image_width,\n",
    "                                                                        image_channel))\n",
    "    train_X.append(resized)"
   ]
  },
  {
   "cell_type": "code",
   "execution_count": 12,
   "metadata": {},
   "outputs": [
    {
     "data": {
      "image/png": "[encoded data removed]",
      "text/plain": [
       "<Figure size 432x288 with 1 Axes>"
      ]
     },
     "metadata": {
      "needs_background": "light"
     },
     "output_type": "display_data"
    }
   ],
   "source": [
    "plt.imshow(train_X[0])\n",
    "plt.title(train_labels[0])\n",
    "plt.show()"
   ]
  },
  {
   "cell_type": "code",
   "execution_count": 13,
   "metadata": {},
   "outputs": [
    {
     "name": "stderr",
     "output_type": "stream",
     "text": [
      "  0%|          | 0/6211 [00:00<?, ?it/s]/home/husein/.local/lib/python3.6/site-packages/ipykernel_launcher.py:6: DeprecationWarning: `imresize` is deprecated!\n",
      "`imresize` is deprecated in SciPy 1.0.0, and will be removed in 1.3.0.\n",
      "Use Pillow instead: ``numpy.array(Image.fromarray(arr).resize())``.\n",
      "  \n",
      "100%|██████████| 6211/6211 [00:15<00:00, 394.32it/s]\n"
     ]
    }
   ],
   "source": [
    "import tqdm\n",
    "test_X = []\n",
    "for img in tqdm.tqdm(dataset['test']):\n",
    "    resized = imresize(cv2.flip((cv2.imread(img, 0).astype(np.float32)/255.), 1), (image_height,\n",
    "                                                                        image_width,\n",
    "                                                                        image_channel))\n",
    "    test_X.append(resized)"
   ]
  },
  {
   "cell_type": "code",
   "execution_count": 14,
   "metadata": {},
   "outputs": [],
   "source": [
    "train_Y = []\n",
    "for label in train_labels:\n",
    "    train_Y.append([encode_maps[c] for c in label])\n",
    "    \n",
    "test_Y = []\n",
    "for label in test_labels:\n",
    "    test_Y.append([encode_maps[c] for c in label])"
   ]
  },
  {
   "cell_type": "code",
   "execution_count": 15,
   "metadata": {},
   "outputs": [],
   "source": [
    "def pad_second_dim(x, desired_size):\n",
    "    padding = tf.tile([[0]], tf.stack([tf.shape(x)[0], desired_size - tf.shape(x)[1]], 0))\n",
    "    return tf.concat([x, padding], 1)\n",
    "\n",
    "class Model:\n",
    "    def __init__(self):\n",
    "        self.X = tf.placeholder(tf.float32, [None, image_height, image_width, image_channel])\n",
    "        self.Y = tf.sparse_placeholder(tf.int32)\n",
    "        self.SEQ_LEN = tf.placeholder(tf.int32, [None])\n",
    "        self.label = tf.placeholder(tf.int32, [None, None])\n",
    "        self.Y_seq_len = tf.placeholder(tf.int32, [None])\n",
    "        batch_size = tf.shape(self.X)[0]\n",
    "        filters = [64, 128, 128, max_stepsize]\n",
    "        strides = [1, 2]\n",
    "        x = self.conv2d(self.X, 'cnn-1', 3, 1, filters[0], strides[0])\n",
    "        x = self.batch_norm('bn1', x)\n",
    "        x = self.leaky_relu(x, 0.01)\n",
    "        x = self.max_pool(x, 2, strides[1])\n",
    "        x = self.conv2d(x, 'cnn-2', 3, filters[0], filters[1], strides[0])\n",
    "        x = self.batch_norm('bn2', x)\n",
    "        x = self.leaky_relu(x, 0.01)\n",
    "        x = self.max_pool(x, 2, strides[1])\n",
    "        x = self.conv2d(x, 'cnn-3', 3, filters[1], filters[2], strides[0])\n",
    "        x = self.batch_norm('bn3', x)\n",
    "        x = self.leaky_relu(x, 0.01)\n",
    "        x = self.max_pool(x, 2, strides[1])\n",
    "        x = self.conv2d(x, 'cnn-4', 3, filters[2], filters[3], strides[0])\n",
    "        x = self.batch_norm('bn4', x)\n",
    "        x = self.leaky_relu(x, 0.01)\n",
    "        x = self.max_pool(x, 2, strides[1])\n",
    "        print(x)\n",
    "        x = tf.reshape(x, [batch_size, -1, filters[3]])\n",
    "        x = tf.transpose(x, [0, 2, 1])\n",
    "        x = tf.reshape(x, [batch_size, filters[3], 4 * 15])\n",
    "        cell = tf.contrib.rnn.LSTMCell(num_hidden)\n",
    "        cell1 = tf.contrib.rnn.LSTMCell(num_hidden)\n",
    "        stack = tf.contrib.rnn.MultiRNNCell([cell, cell1])\n",
    "        outputs, _ = tf.nn.dynamic_rnn(stack, x, self.SEQ_LEN, dtype=tf.float32)\n",
    "        outputs = tf.reshape(outputs, [-1, num_hidden])\n",
    "        self.logits = tf.layers.dense(outputs, num_classes)\n",
    "        shape = tf.shape(x)\n",
    "        self.logits = tf.reshape(self.logits, [shape[0], -1, num_classes])\n",
    "        self.logits = tf.transpose(self.logits, (1, 0, 2))\n",
    "        self.global_step = tf.Variable(0, trainable=False)\n",
    "        self.loss = tf.nn.ctc_loss(labels=self.Y,\n",
    "                                   inputs=self.logits,\n",
    "                                   sequence_length=self.SEQ_LEN)\n",
    "        self.cost = tf.reduce_mean(self.loss)\n",
    "        self.optimizer = tf.train.AdamOptimizer(learning_rate=initial_learning_rate).minimize(self.cost)\n",
    "        self.decoded, self.log_prob = tf.nn.ctc_beam_search_decoder(self.logits,\n",
    "                                                                    self.SEQ_LEN,\n",
    "                                                                    merge_repeated=False)\n",
    "        decoded = tf.to_int32(self.decoded[0])\n",
    "        self.dense_decoded = tf.sparse_tensor_to_dense(decoded)\n",
    "        \n",
    "        preds = self.dense_decoded[:, :tf.reduce_max(self.Y_seq_len)]\n",
    "        masks = tf.sequence_mask(self.Y_seq_len, tf.reduce_max(self.Y_seq_len), dtype=tf.float32)\n",
    "        preds = pad_second_dim(preds, tf.reduce_max(self.Y_seq_len))\n",
    "        y_t = tf.cast(preds, tf.int32)\n",
    "        self.prediction = tf.boolean_mask(y_t, masks)\n",
    "        mask_label = tf.boolean_mask(self.label, masks)\n",
    "        self.mask_label = mask_label\n",
    "        correct_pred = tf.equal(self.prediction, mask_label)\n",
    "        correct_index = tf.cast(correct_pred, tf.float32)\n",
    "        self.accuracy = tf.reduce_mean(tf.cast(correct_pred, tf.float32))\n",
    "        \n",
    "        \n",
    "    def conv2d(self, x, name, filter_size, channel_in, channel_out, strides):\n",
    "        with tf.variable_scope(name):\n",
    "            return tf.layers.conv2d(x, channel_out, filter_size, strides, padding='SAME')\n",
    "        \n",
    "    \n",
    "    def batch_norm(self, name, x):\n",
    "        with tf.variable_scope(name):\n",
    "            params_shape = [x.get_shape()[-1]]\n",
    "            beta = tf.get_variable('beta', params_shape, tf.float32,\n",
    "                                   initializer=tf.constant_initializer(0.0, tf.float32))\n",
    "            gamma = tf.get_variable('gamma', params_shape, tf.float32,\n",
    "                                    initializer=tf.constant_initializer(1.0, tf.float32))\n",
    "            mean, variance = tf.nn.moments(x, [0, 1, 2], name='moments')\n",
    "            x_bn = tf.nn.batch_normalization(x, mean, variance, beta, gamma, 0.001)\n",
    "            x_bn.set_shape(x.get_shape())\n",
    "            return x_bn\n",
    "        \n",
    "    def leaky_relu(self, x, leak=0):\n",
    "        return tf.where(tf.less(x, 0.0), leak * x, x, name='leaky_relu')\n",
    "    \n",
    "    def max_pool(self, x, size, strides):\n",
    "        return tf.nn.max_pool(x, \n",
    "                              ksize=[1, size, size, 1],\n",
    "                              strides=[1, strides, strides, 1],\n",
    "                              padding='SAME',\n",
    "                              name='max_pool')"
   ]
  },
  {
   "cell_type": "code",
   "execution_count": 16,
   "metadata": {},
   "outputs": [],
   "source": [
    "def sparse_tuple_from_label(sequences, dtype=np.int32):\n",
    "    indices, values = [], []\n",
    "    for n, seq in enumerate(sequences):\n",
    "        indices.extend(zip([n] * len(seq), range(len(seq))))\n",
    "        values.extend(seq)\n",
    "    indices = np.asarray(indices, dtype=np.int64)\n",
    "    values = np.asarray(values, dtype=dtype)\n",
    "    shape = np.asarray([len(sequences), np.asarray(indices).max(0)[1] + 1], dtype=np.int64)\n",
    "    return indices, values, shape\n",
    "\n",
    "\n",
    "def pad_sentence_batch(sentence_batch, pad_int):\n",
    "    padded_seqs = []\n",
    "    seq_lens = []\n",
    "    max_sentence_len = max([len(sentence) for sentence in sentence_batch])\n",
    "    for sentence in sentence_batch:\n",
    "        padded_seqs.append(sentence + [pad_int] * (max_sentence_len - len(sentence)))\n",
    "        seq_lens.append(len(sentence))\n",
    "    return padded_seqs, seq_lens"
   ]
  },
  {
   "cell_type": "code",
   "execution_count": 17,
   "metadata": {},
   "outputs": [
    {
     "name": "stderr",
     "output_type": "stream",
     "text": [
      "WARNING: Logging before flag parsing goes to stderr.\n",
      "W0821 00:37:19.885069 139876468983616 deprecation.py:323] From <ipython-input-15-3fc8a36d5ad0>:70: conv2d (from tensorflow.python.layers.convolutional) is deprecated and will be removed in a future version.\n",
      "Instructions for updating:\n",
      "Use `tf.keras.layers.Conv2D` instead.\n",
      "W0821 00:37:19.890462 139876468983616 deprecation.py:506] From /home/husein/.local/lib/python3.6/site-packages/tensorflow/python/ops/init_ops.py:1251: calling VarianceScaling.__init__ (from tensorflow.python.ops.init_ops) with dtype is deprecated and will be removed in a future version.\n",
      "Instructions for updating:\n",
      "Call initializer instance with the dtype argument instead of passing it to the constructor\n",
      "W0821 00:37:20.133772 139876468983616 deprecation.py:506] From <ipython-input-15-3fc8a36d5ad0>:77: calling Constant.__init__ (from tensorflow.python.ops.init_ops) with dtype is deprecated and will be removed in a future version.\n",
      "Instructions for updating:\n",
      "Call initializer instance with the dtype argument instead of passing it to the constructor\n",
      "W0821 00:37:20.158816 139876468983616 deprecation.py:323] From <ipython-input-15-3fc8a36d5ad0>:86: add_dispatch_support.<locals>.wrapper (from tensorflow.python.ops.array_ops) is deprecated and will be removed in a future version.\n",
      "Instructions for updating:\n",
      "Use tf.where in 2.0, which has the same broadcast rule as np.where\n"
     ]
    },
    {
     "name": "stdout",
     "output_type": "stream",
     "text": [
      "Tensor(\"max_pool_3:0\", shape=(?, 4, 15, 128), dtype=float32)\n"
     ]
    },
    {
     "name": "stderr",
     "output_type": "stream",
     "text": [
      "W0821 00:37:20.951928 139876468983616 lazy_loader.py:50] \n",
      "The TensorFlow contrib module will not be included in TensorFlow 2.0.\n",
      "For more information, please see:\n",
      "  * https://github.com/tensorflow/community/blob/master/rfcs/20180907-contrib-sunset.md\n",
      "  * https://github.com/tensorflow/addons\n",
      "  * https://github.com/tensorflow/io (for I/O related ops)\n",
      "If you depend on functionality not listed there, please file an issue.\n",
      "\n",
      "W0821 00:37:20.953191 139876468983616 deprecation.py:323] From <ipython-input-15-3fc8a36d5ad0>:35: LSTMCell.__init__ (from tensorflow.python.ops.rnn_cell_impl) is deprecated and will be removed in a future version.\n",
      "Instructions for updating:\n",
      "This class is equivalent as tf.keras.layers.LSTMCell, and will be replaced by that in Tensorflow 2.0.\n",
      "W0821 00:37:20.954526 139876468983616 deprecation.py:323] From <ipython-input-15-3fc8a36d5ad0>:37: MultiRNNCell.__init__ (from tensorflow.python.ops.rnn_cell_impl) is deprecated and will be removed in a future version.\n",
      "Instructions for updating:\n",
      "This class is equivalent as tf.keras.layers.StackedRNNCells, and will be replaced by that in Tensorflow 2.0.\n",
      "W0821 00:37:20.955692 139876468983616 deprecation.py:323] From <ipython-input-15-3fc8a36d5ad0>:38: dynamic_rnn (from tensorflow.python.ops.rnn) is deprecated and will be removed in a future version.\n",
      "Instructions for updating:\n",
      "Please use `keras.layers.RNN(cell)`, which is equivalent to this API\n",
      "W0821 00:37:21.286751 139876468983616 deprecation.py:506] From /home/husein/.local/lib/python3.6/site-packages/tensorflow/python/ops/rnn_cell_impl.py:961: calling Zeros.__init__ (from tensorflow.python.ops.init_ops) with dtype is deprecated and will be removed in a future version.\n",
      "Instructions for updating:\n",
      "Call initializer instance with the dtype argument instead of passing it to the constructor\n",
      "W0821 00:37:21.960526 139876468983616 deprecation.py:323] From <ipython-input-15-3fc8a36d5ad0>:40: dense (from tensorflow.python.layers.core) is deprecated and will be removed in a future version.\n",
      "Instructions for updating:\n",
      "Use keras.layers.dense instead.\n",
      "W0821 00:37:23.446907 139876468983616 deprecation.py:323] From <ipython-input-15-3fc8a36d5ad0>:53: to_int32 (from tensorflow.python.ops.math_ops) is deprecated and will be removed in a future version.\n",
      "Instructions for updating:\n",
      "Use `tf.cast` instead.\n"
     ]
    }
   ],
   "source": [
    "tf.reset_default_graph()\n",
    "sess = tf.InteractiveSession()\n",
    "model = Model()\n",
    "sess.run(tf.global_variables_initializer())"
   ]
  },
  {
   "cell_type": "code",
   "execution_count": 18,
   "metadata": {},
   "outputs": [],
   "source": [
    "import time"
   ]
  },
  {
   "cell_type": "code",
   "execution_count": 19,
   "metadata": {},
   "outputs": [
    {
     "name": "stderr",
     "output_type": "stream",
     "text": [
      "minibatch loop: 100%|██████████| 195/195 [09:14<00:00,  2.07s/it, accuracy=0.0128, cost=29.9] \n",
      "minibatch loop: 100%|██████████| 49/49 [02:16<00:00,  2.46s/it, accuracy=0.00885, cost=25.6]\n",
      "minibatch loop:   0%|          | 0/195 [00:00<?, ?it/s]"
     ]
    },
    {
     "name": "stdout",
     "output_type": "stream",
     "text": [
      "epoch 1, training avg loss 33.120262, training avg acc 0.009927\n",
      "epoch 1, testing avg loss 28.771021, testing avg acc 0.014384\n"
     ]
    },
    {
     "name": "stderr",
     "output_type": "stream",
     "text": [
      "minibatch loop: 100%|██████████| 195/195 [09:13<00:00,  2.10s/it, accuracy=0.0256, cost=28.3] \n",
      "minibatch loop: 100%|██████████| 49/49 [02:17<00:00,  2.45s/it, accuracy=0.0248, cost=24.4]\n",
      "minibatch loop:   0%|          | 0/195 [00:00<?, ?it/s]"
     ]
    },
    {
     "name": "stdout",
     "output_type": "stream",
     "text": [
      "epoch 2, training avg loss 27.930634, training avg acc 0.016064\n",
      "epoch 2, testing avg loss 27.659239, testing avg acc 0.025133\n"
     ]
    },
    {
     "name": "stderr",
     "output_type": "stream",
     "text": [
      "minibatch loop: 100%|██████████| 195/195 [09:14<00:00,  2.08s/it, accuracy=0.103, cost=25.2] \n",
      "minibatch loop: 100%|██████████| 49/49 [02:17<00:00,  2.44s/it, accuracy=0.115, cost=21.3] \n",
      "minibatch loop:   0%|          | 0/195 [00:00<?, ?it/s]"
     ]
    },
    {
     "name": "stdout",
     "output_type": "stream",
     "text": [
      "epoch 3, training avg loss 25.574694, training avg acc 0.040293\n",
      "epoch 3, testing avg loss 24.336323, testing avg acc 0.090451\n"
     ]
    },
    {
     "name": "stderr",
     "output_type": "stream",
     "text": [
      "minibatch loop: 100%|██████████| 195/195 [09:29<00:00,  2.17s/it, accuracy=0.167, cost=20]  \n",
      "minibatch loop: 100%|██████████| 49/49 [02:25<00:00,  2.58s/it, accuracy=0.251, cost=19.6]\n",
      "minibatch loop:   0%|          | 0/195 [00:00<?, ?it/s]"
     ]
    },
    {
     "name": "stdout",
     "output_type": "stream",
     "text": [
      "epoch 4, training avg loss 21.316620, training avg acc 0.130013\n",
      "epoch 4, testing avg loss 21.977003, testing avg acc 0.201929\n"
     ]
    },
    {
     "name": "stderr",
     "output_type": "stream",
     "text": [
      "minibatch loop: 100%|██████████| 195/195 [09:48<00:00,  2.22s/it, accuracy=0.333, cost=14.7]\n",
      "minibatch loop: 100%|██████████| 49/49 [02:27<00:00,  2.61s/it, accuracy=0.304, cost=13.5]\n",
      "minibatch loop:   0%|          | 0/195 [00:00<?, ?it/s]"
     ]
    },
    {
     "name": "stdout",
     "output_type": "stream",
     "text": [
      "epoch 5, training avg loss 16.991398, training avg acc 0.233791\n",
      "epoch 5, testing avg loss 15.910910, testing avg acc 0.261684\n"
     ]
    },
    {
     "name": "stderr",
     "output_type": "stream",
     "text": [
      "minibatch loop: 100%|██████████| 195/195 [09:56<00:00,  2.25s/it, accuracy=0.372, cost=10.8]\n",
      "minibatch loop: 100%|██████████| 49/49 [02:28<00:00,  2.64s/it, accuracy=0.386, cost=10.7]\n",
      "minibatch loop:   0%|          | 0/195 [00:00<?, ?it/s]"
     ]
    },
    {
     "name": "stdout",
     "output_type": "stream",
     "text": [
      "epoch 6, training avg loss 13.614714, training avg acc 0.328867\n",
      "epoch 6, testing avg loss 12.999638, testing avg acc 0.336366\n"
     ]
    },
    {
     "name": "stderr",
     "output_type": "stream",
     "text": [
      "minibatch loop: 100%|██████████| 195/195 [09:56<00:00,  2.24s/it, accuracy=0.526, cost=8.44]\n",
      "minibatch loop: 100%|██████████| 49/49 [02:28<00:00,  2.61s/it, accuracy=0.428, cost=9.35]\n",
      "minibatch loop:   0%|          | 0/195 [00:00<?, ?it/s]"
     ]
    },
    {
     "name": "stdout",
     "output_type": "stream",
     "text": [
      "epoch 7, training avg loss 11.390049, training avg acc 0.385294\n",
      "epoch 7, testing avg loss 11.285454, testing avg acc 0.387072\n"
     ]
    },
    {
     "name": "stderr",
     "output_type": "stream",
     "text": [
      "minibatch loop: 100%|██████████| 195/195 [09:57<00:00,  2.24s/it, accuracy=0.564, cost=6.64]\n",
      "minibatch loop: 100%|██████████| 49/49 [02:29<00:00,  2.65s/it, accuracy=0.485, cost=9.06]\n",
      "minibatch loop:   0%|          | 0/195 [00:00<?, ?it/s]"
     ]
    },
    {
     "name": "stdout",
     "output_type": "stream",
     "text": [
      "epoch 8, training avg loss 9.895311, training avg acc 0.430822\n",
      "epoch 8, testing avg loss 10.571463, testing avg acc 0.445215\n"
     ]
    },
    {
     "name": "stderr",
     "output_type": "stream",
     "text": [
      "minibatch loop: 100%|██████████| 195/195 [09:57<00:00,  2.27s/it, accuracy=0.577, cost=5.2] \n",
      "minibatch loop: 100%|██████████| 49/49 [02:28<00:00,  2.63s/it, accuracy=0.473, cost=7.91]\n",
      "minibatch loop:   0%|          | 0/195 [00:00<?, ?it/s]"
     ]
    },
    {
     "name": "stdout",
     "output_type": "stream",
     "text": [
      "epoch 9, training avg loss 8.813237, training avg acc 0.467833\n",
      "epoch 9, testing avg loss 9.201124, testing avg acc 0.480846\n"
     ]
    },
    {
     "name": "stderr",
     "output_type": "stream",
     "text": [
      "minibatch loop: 100%|██████████| 195/195 [09:56<00:00,  2.25s/it, accuracy=0.59, cost=4.24] \n",
      "minibatch loop: 100%|██████████| 49/49 [02:28<00:00,  2.65s/it, accuracy=0.522, cost=7.35]\n",
      "minibatch loop:   0%|          | 0/195 [00:00<?, ?it/s]"
     ]
    },
    {
     "name": "stdout",
     "output_type": "stream",
     "text": [
      "epoch 10, training avg loss 7.991840, training avg acc 0.498266\n",
      "epoch 10, testing avg loss 8.456293, testing avg acc 0.506655\n"
     ]
    },
    {
     "name": "stderr",
     "output_type": "stream",
     "text": [
      "minibatch loop: 100%|██████████| 195/195 [09:56<00:00,  2.24s/it, accuracy=0.756, cost=2.69]\n",
      "minibatch loop: 100%|██████████| 49/49 [02:28<00:00,  2.62s/it, accuracy=0.565, cost=6.75]\n",
      "minibatch loop:   0%|          | 0/195 [00:00<?, ?it/s]"
     ]
    },
    {
     "name": "stdout",
     "output_type": "stream",
     "text": [
      "epoch 11, training avg loss 7.305476, training avg acc 0.527048\n",
      "epoch 11, testing avg loss 8.293816, testing avg acc 0.512018\n"
     ]
    },
    {
     "name": "stderr",
     "output_type": "stream",
     "text": [
      "minibatch loop: 100%|██████████| 195/195 [09:55<00:00,  2.24s/it, accuracy=0.756, cost=2.62]\n",
      "minibatch loop: 100%|██████████| 49/49 [02:27<00:00,  2.63s/it, accuracy=0.566, cost=6.28]\n",
      "minibatch loop:   0%|          | 0/195 [00:00<?, ?it/s]"
     ]
    },
    {
     "name": "stdout",
     "output_type": "stream",
     "text": [
      "epoch 12, training avg loss 6.766893, training avg acc 0.553027\n",
      "epoch 12, testing avg loss 7.907925, testing avg acc 0.504318\n"
     ]
    },
    {
     "name": "stderr",
     "output_type": "stream",
     "text": [
      "minibatch loop: 100%|██████████| 195/195 [09:56<00:00,  2.24s/it, accuracy=0.91, cost=2.41] \n",
      "minibatch loop: 100%|██████████| 49/49 [02:27<00:00,  2.62s/it, accuracy=0.561, cost=5.89]\n",
      "minibatch loop:   0%|          | 0/195 [00:00<?, ?it/s]"
     ]
    },
    {
     "name": "stdout",
     "output_type": "stream",
     "text": [
      "epoch 13, training avg loss 6.324562, training avg acc 0.575580\n",
      "epoch 13, testing avg loss 7.463841, testing avg acc 0.526623\n"
     ]
    },
    {
     "name": "stderr",
     "output_type": "stream",
     "text": [
      "minibatch loop: 100%|██████████| 195/195 [09:56<00:00,  2.23s/it, accuracy=0.974, cost=1.7] \n",
      "minibatch loop: 100%|██████████| 49/49 [02:28<00:00,  2.63s/it, accuracy=0.513, cost=6.11]\n",
      "minibatch loop:   0%|          | 0/195 [00:00<?, ?it/s]"
     ]
    },
    {
     "name": "stdout",
     "output_type": "stream",
     "text": [
      "epoch 14, training avg loss 5.962626, training avg acc 0.590173\n",
      "epoch 14, testing avg loss 7.307707, testing avg acc 0.548483\n"
     ]
    },
    {
     "name": "stderr",
     "output_type": "stream",
     "text": [
      "minibatch loop: 100%|██████████| 195/195 [09:56<00:00,  2.23s/it, accuracy=0.987, cost=1.18]\n",
      "minibatch loop: 100%|██████████| 49/49 [02:27<00:00,  2.63s/it, accuracy=0.535, cost=5.35]\n",
      "minibatch loop:   0%|          | 0/195 [00:00<?, ?it/s]"
     ]
    },
    {
     "name": "stdout",
     "output_type": "stream",
     "text": [
      "epoch 15, training avg loss 5.567712, training avg acc 0.606642\n",
      "epoch 15, testing avg loss 6.743862, testing avg acc 0.565519\n"
     ]
    },
    {
     "name": "stderr",
     "output_type": "stream",
     "text": [
      "minibatch loop: 100%|██████████| 195/195 [09:56<00:00,  2.24s/it, accuracy=0.987, cost=1.16]\n",
      "minibatch loop: 100%|██████████| 49/49 [02:27<00:00,  2.63s/it, accuracy=0.543, cost=5.35]\n",
      "minibatch loop:   0%|          | 0/195 [00:00<?, ?it/s]"
     ]
    },
    {
     "name": "stdout",
     "output_type": "stream",
     "text": [
      "epoch 16, training avg loss 5.241017, training avg acc 0.624327\n",
      "epoch 16, testing avg loss 6.719790, testing avg acc 0.560595\n"
     ]
    },
    {
     "name": "stderr",
     "output_type": "stream",
     "text": [
      "minibatch loop: 100%|██████████| 195/195 [09:55<00:00,  2.22s/it, accuracy=1, cost=1.15]    \n",
      "minibatch loop: 100%|██████████| 49/49 [02:27<00:00,  2.63s/it, accuracy=0.591, cost=5.18]\n",
      "minibatch loop:   0%|          | 0/195 [00:00<?, ?it/s]"
     ]
    },
    {
     "name": "stdout",
     "output_type": "stream",
     "text": [
      "epoch 17, training avg loss 4.994349, training avg acc 0.636391\n",
      "epoch 17, testing avg loss 6.487906, testing avg acc 0.583636\n"
     ]
    },
    {
     "name": "stderr",
     "output_type": "stream",
     "text": [
      "minibatch loop: 100%|██████████| 195/195 [09:56<00:00,  2.24s/it, accuracy=1, cost=0.821]   \n",
      "minibatch loop: 100%|██████████| 49/49 [02:27<00:00,  2.60s/it, accuracy=0.552, cost=5.19]\n",
      "minibatch loop:   0%|          | 0/195 [00:00<?, ?it/s]"
     ]
    },
    {
     "name": "stdout",
     "output_type": "stream",
     "text": [
      "epoch 18, training avg loss 4.770884, training avg acc 0.652775\n",
      "epoch 18, testing avg loss 6.568841, testing avg acc 0.582399\n"
     ]
    },
    {
     "name": "stderr",
     "output_type": "stream",
     "text": [
      "minibatch loop: 100%|██████████| 195/195 [09:56<00:00,  2.23s/it, accuracy=0.936, cost=1.07]\n",
      "minibatch loop: 100%|██████████| 49/49 [02:28<00:00,  2.61s/it, accuracy=0.625, cost=5.02]\n",
      "minibatch loop:   0%|          | 0/195 [00:00<?, ?it/s]"
     ]
    },
    {
     "name": "stdout",
     "output_type": "stream",
     "text": [
      "epoch 19, training avg loss 4.553185, training avg acc 0.659810\n",
      "epoch 19, testing avg loss 6.492169, testing avg acc 0.585613\n"
     ]
    },
    {
     "name": "stderr",
     "output_type": "stream",
     "text": [
      "minibatch loop: 100%|██████████| 195/195 [09:56<00:00,  2.24s/it, accuracy=0.987, cost=0.89]\n",
      "minibatch loop: 100%|██████████| 49/49 [02:29<00:00,  2.65s/it, accuracy=0.607, cost=5.5] "
     ]
    },
    {
     "name": "stdout",
     "output_type": "stream",
     "text": [
      "epoch 20, training avg loss 4.369586, training avg acc 0.669185\n",
      "epoch 20, testing avg loss 6.507473, testing avg acc 0.586389\n"
     ]
    },
    {
     "name": "stderr",
     "output_type": "stream",
     "text": [
      "\n"
     ]
    }
   ],
   "source": [
    "for e in range(epoch):\n",
    "    pbar = tqdm.tqdm(\n",
    "        range(0, len(train_X), batch_size), desc = 'minibatch loop')\n",
    "    train_loss, train_acc, test_loss, test_acc = [], [], [], []\n",
    "    total_lost, total_acc = 0, 0\n",
    "    for i in pbar:\n",
    "        index = min(i + batch_size, len(train_X))\n",
    "        batch_x = train_X[i : index]\n",
    "        batch_x = np.array(batch_x).reshape((len(batch_x), image_height, image_width,image_channel))\n",
    "        y = train_Y[i : index]\n",
    "        batch_y = sparse_tuple_from_label(y)\n",
    "        batch_label, batch_length = pad_sentence_batch(y, 0)\n",
    "        batch_len = np.asarray([max_stepsize for _ in [1]*len(batch_x)], dtype=np.int64)\n",
    "        feed = {model.X: batch_x,\n",
    "                model.Y: batch_y,\n",
    "                model.SEQ_LEN: batch_len,\n",
    "               model.label: batch_label,\n",
    "               model.Y_seq_len: batch_length}\n",
    "        accuracy, loss, _ = sess.run([model.accuracy,model.cost,model.optimizer],\n",
    "                                    feed_dict = feed)\n",
    "        train_loss.append(loss)\n",
    "        train_acc.append(accuracy)\n",
    "        pbar.set_postfix(cost = loss, accuracy = accuracy)\n",
    "    \n",
    "    \n",
    "    pbar = tqdm.tqdm(\n",
    "        range(0, len(test_X), batch_size), desc = 'minibatch loop')\n",
    "    for i in pbar:\n",
    "        index = min(i + batch_size, len(test_X))\n",
    "        batch_x = test_X[i : index]\n",
    "        batch_x = np.array(batch_x).reshape((len(batch_x), image_height, image_width,image_channel))\n",
    "        y = test_Y[i : index]\n",
    "        batch_y = sparse_tuple_from_label(y)\n",
    "        batch_label, batch_length = pad_sentence_batch(y, 0)\n",
    "        batch_len = np.asarray([max_stepsize for _ in [1]*len(batch_x)], dtype=np.int64)\n",
    "        feed = {model.X: batch_x,\n",
    "                model.Y: batch_y,\n",
    "                model.SEQ_LEN: batch_len,\n",
    "               model.label: batch_label,\n",
    "               model.Y_seq_len: batch_length}\n",
    "        accuracy, loss = sess.run([model.accuracy,model.cost],\n",
    "                                    feed_dict = feed)\n",
    "\n",
    "        test_loss.append(loss)\n",
    "        test_acc.append(accuracy)\n",
    "        pbar.set_postfix(cost = loss, accuracy = accuracy)\n",
    "    \n",
    "    print('epoch %d, training avg loss %f, training avg acc %f'%(e+1,\n",
    "                                                                 np.mean(train_loss),np.mean(train_acc)))\n",
    "    print('epoch %d, testing avg loss %f, testing avg acc %f'%(e+1,\n",
    "                                                              np.mean(test_loss),np.mean(test_acc)))"
   ]
  },
  {
   "cell_type": "code",
   "execution_count": 21,
   "metadata": {},
   "outputs": [
    {
     "name": "stderr",
     "output_type": "stream",
     "text": [
      "minibatch loop: 100%|██████████| 195/195 [09:56<00:00,  2.22s/it, accuracy=1, cost=0.867]   \n",
      "minibatch loop: 100%|██████████| 49/49 [02:27<00:00,  2.62s/it, accuracy=0.637, cost=4.91]\n",
      "minibatch loop:   0%|          | 0/195 [00:00<?, ?it/s]"
     ]
    },
    {
     "name": "stdout",
     "output_type": "stream",
     "text": [
      "epoch 1, training avg loss 4.212183, training avg acc 0.680620\n",
      "epoch 1, testing avg loss 5.973215, testing avg acc 0.611238\n"
     ]
    },
    {
     "name": "stderr",
     "output_type": "stream",
     "text": [
      "minibatch loop: 100%|██████████| 195/195 [09:57<00:00,  2.23s/it, accuracy=1, cost=0.583]   \n",
      "minibatch loop: 100%|██████████| 49/49 [02:26<00:00,  2.62s/it, accuracy=0.596, cost=4.93]\n",
      "minibatch loop:   0%|          | 0/195 [00:00<?, ?it/s]"
     ]
    },
    {
     "name": "stdout",
     "output_type": "stream",
     "text": [
      "epoch 2, training avg loss 3.999935, training avg acc 0.692431\n",
      "epoch 2, testing avg loss 6.162646, testing avg acc 0.588004\n"
     ]
    },
    {
     "name": "stderr",
     "output_type": "stream",
     "text": [
      "minibatch loop: 100%|██████████| 195/195 [09:56<00:00,  2.24s/it, accuracy=1, cost=0.567]   \n",
      "minibatch loop: 100%|██████████| 49/49 [02:27<00:00,  2.62s/it, accuracy=0.602, cost=5.26]\n",
      "minibatch loop:   0%|          | 0/195 [00:00<?, ?it/s]"
     ]
    },
    {
     "name": "stdout",
     "output_type": "stream",
     "text": [
      "epoch 3, training avg loss 3.797749, training avg acc 0.704135\n",
      "epoch 3, testing avg loss 6.246995, testing avg acc 0.586793\n"
     ]
    },
    {
     "name": "stderr",
     "output_type": "stream",
     "text": [
      "minibatch loop: 100%|██████████| 195/195 [09:56<00:00,  2.25s/it, accuracy=1, cost=0.595]   \n",
      "minibatch loop: 100%|██████████| 49/49 [02:27<00:00,  2.62s/it, accuracy=0.658, cost=5.04]\n",
      "minibatch loop:   0%|          | 0/195 [00:00<?, ?it/s]"
     ]
    },
    {
     "name": "stdout",
     "output_type": "stream",
     "text": [
      "epoch 4, training avg loss 3.651014, training avg acc 0.710197\n",
      "epoch 4, testing avg loss 6.173157, testing avg acc 0.598958\n"
     ]
    },
    {
     "name": "stderr",
     "output_type": "stream",
     "text": [
      "minibatch loop: 100%|██████████| 195/195 [09:56<00:00,  2.24s/it, accuracy=0.987, cost=0.71]\n",
      "minibatch loop: 100%|██████████| 49/49 [02:27<00:00,  2.62s/it, accuracy=0.646, cost=5.37]\n",
      "minibatch loop:   0%|          | 0/195 [00:00<?, ?it/s]"
     ]
    },
    {
     "name": "stdout",
     "output_type": "stream",
     "text": [
      "epoch 5, training avg loss 3.553859, training avg acc 0.715041\n",
      "epoch 5, testing avg loss 6.334903, testing avg acc 0.599753\n"
     ]
    },
    {
     "name": "stderr",
     "output_type": "stream",
     "text": [
      "minibatch loop: 100%|██████████| 195/195 [09:56<00:00,  2.25s/it, accuracy=0.756, cost=0.752]\n",
      "minibatch loop: 100%|██████████| 49/49 [02:28<00:00,  2.62s/it, accuracy=0.614, cost=4.88]\n",
      "minibatch loop:   0%|          | 0/195 [00:00<?, ?it/s]"
     ]
    },
    {
     "name": "stdout",
     "output_type": "stream",
     "text": [
      "epoch 6, training avg loss 3.470239, training avg acc 0.720273\n",
      "epoch 6, testing avg loss 6.193605, testing avg acc 0.607574\n"
     ]
    },
    {
     "name": "stderr",
     "output_type": "stream",
     "text": [
      "minibatch loop: 100%|██████████| 195/195 [09:56<00:00,  2.24s/it, accuracy=1, cost=0.409]   \n",
      "minibatch loop: 100%|██████████| 49/49 [02:28<00:00,  2.63s/it, accuracy=0.625, cost=5.23]\n",
      "minibatch loop:   0%|          | 0/195 [00:00<?, ?it/s]"
     ]
    },
    {
     "name": "stdout",
     "output_type": "stream",
     "text": [
      "epoch 7, training avg loss 3.376973, training avg acc 0.724750\n",
      "epoch 7, testing avg loss 6.256104, testing avg acc 0.615147\n"
     ]
    },
    {
     "name": "stderr",
     "output_type": "stream",
     "text": [
      "minibatch loop: 100%|██████████| 195/195 [09:56<00:00,  2.24s/it, accuracy=1, cost=0.383]   \n",
      "minibatch loop: 100%|██████████| 49/49 [02:28<00:00,  2.62s/it, accuracy=0.628, cost=5]   \n",
      "minibatch loop:   0%|          | 0/195 [00:00<?, ?it/s]"
     ]
    },
    {
     "name": "stdout",
     "output_type": "stream",
     "text": [
      "epoch 8, training avg loss 3.137635, training avg acc 0.742743\n",
      "epoch 8, testing avg loss 6.099587, testing avg acc 0.613780\n"
     ]
    },
    {
     "name": "stderr",
     "output_type": "stream",
     "text": [
      "minibatch loop: 100%|██████████| 195/195 [09:56<00:00,  2.24s/it, accuracy=0.987, cost=0.484]\n",
      "minibatch loop: 100%|██████████| 49/49 [02:27<00:00,  2.63s/it, accuracy=0.623, cost=5.12]\n",
      "minibatch loop:   0%|          | 0/195 [00:00<?, ?it/s]"
     ]
    },
    {
     "name": "stdout",
     "output_type": "stream",
     "text": [
      "epoch 9, training avg loss 2.960249, training avg acc 0.755675\n",
      "epoch 9, testing avg loss 6.254755, testing avg acc 0.606650\n"
     ]
    },
    {
     "name": "stderr",
     "output_type": "stream",
     "text": [
      "minibatch loop: 100%|██████████| 195/195 [09:56<00:00,  2.24s/it, accuracy=0.872, cost=0.445]\n",
      "minibatch loop: 100%|██████████| 49/49 [02:27<00:00,  2.62s/it, accuracy=0.628, cost=5.53]\n",
      "minibatch loop:   0%|          | 0/195 [00:00<?, ?it/s]"
     ]
    },
    {
     "name": "stdout",
     "output_type": "stream",
     "text": [
      "epoch 10, training avg loss 2.890265, training avg acc 0.759802\n",
      "epoch 10, testing avg loss 6.291328, testing avg acc 0.604859\n"
     ]
    },
    {
     "name": "stderr",
     "output_type": "stream",
     "text": [
      "minibatch loop: 100%|██████████| 195/195 [09:55<00:00,  2.23s/it, accuracy=1, cost=0.33]    \n",
      "minibatch loop: 100%|██████████| 49/49 [02:27<00:00,  2.60s/it, accuracy=0.602, cost=4.98]\n",
      "minibatch loop:   0%|          | 0/195 [00:00<?, ?it/s]"
     ]
    },
    {
     "name": "stdout",
     "output_type": "stream",
     "text": [
      "epoch 11, training avg loss 2.798285, training avg acc 0.764506\n",
      "epoch 11, testing avg loss 6.108732, testing avg acc 0.619570\n"
     ]
    },
    {
     "name": "stderr",
     "output_type": "stream",
     "text": [
      "minibatch loop: 100%|██████████| 195/195 [09:56<00:00,  2.23s/it, accuracy=1, cost=0.443]   \n",
      "minibatch loop: 100%|██████████| 49/49 [02:27<00:00,  2.61s/it, accuracy=0.674, cost=4.6] \n",
      "minibatch loop:   0%|          | 0/195 [00:00<?, ?it/s]"
     ]
    },
    {
     "name": "stdout",
     "output_type": "stream",
     "text": [
      "epoch 12, training avg loss 2.712242, training avg acc 0.768748\n",
      "epoch 12, testing avg loss 6.042776, testing avg acc 0.630663\n"
     ]
    },
    {
     "name": "stderr",
     "output_type": "stream",
     "text": [
      "minibatch loop: 100%|██████████| 195/195 [09:56<00:00,  2.24s/it, accuracy=1, cost=0.194]   \n",
      "minibatch loop: 100%|██████████| 49/49 [02:26<00:00,  2.60s/it, accuracy=0.639, cost=4.59]\n",
      "minibatch loop:   0%|          | 0/195 [00:00<?, ?it/s]"
     ]
    },
    {
     "name": "stdout",
     "output_type": "stream",
     "text": [
      "epoch 13, training avg loss 2.572402, training avg acc 0.780028\n",
      "epoch 13, testing avg loss 6.241817, testing avg acc 0.614702\n"
     ]
    },
    {
     "name": "stderr",
     "output_type": "stream",
     "text": [
      "minibatch loop: 100%|██████████| 195/195 [09:56<00:00,  2.24s/it, accuracy=1, cost=0.259]   \n",
      "minibatch loop: 100%|██████████| 49/49 [02:27<00:00,  2.62s/it, accuracy=0.665, cost=4.44]\n",
      "minibatch loop:   0%|          | 0/195 [00:00<?, ?it/s]"
     ]
    },
    {
     "name": "stdout",
     "output_type": "stream",
     "text": [
      "epoch 14, training avg loss 2.481690, training avg acc 0.785314\n",
      "epoch 14, testing avg loss 6.166565, testing avg acc 0.621831\n"
     ]
    },
    {
     "name": "stderr",
     "output_type": "stream",
     "text": [
      "minibatch loop: 100%|██████████| 195/195 [09:56<00:00,  2.25s/it, accuracy=1, cost=0.198]   \n",
      "minibatch loop: 100%|██████████| 49/49 [02:28<00:00,  2.63s/it, accuracy=0.648, cost=5.04]\n",
      "minibatch loop:   0%|          | 0/195 [00:00<?, ?it/s]"
     ]
    },
    {
     "name": "stdout",
     "output_type": "stream",
     "text": [
      "epoch 15, training avg loss 2.439349, training avg acc 0.787217\n",
      "epoch 15, testing avg loss 6.164974, testing avg acc 0.638686\n"
     ]
    },
    {
     "name": "stderr",
     "output_type": "stream",
     "text": [
      "minibatch loop: 100%|██████████| 195/195 [09:56<00:00,  2.24s/it, accuracy=1, cost=0.174]   \n",
      "minibatch loop: 100%|██████████| 49/49 [02:28<00:00,  2.63s/it, accuracy=0.646, cost=5.34]\n",
      "minibatch loop:   0%|          | 0/195 [00:00<?, ?it/s]"
     ]
    },
    {
     "name": "stdout",
     "output_type": "stream",
     "text": [
      "epoch 16, training avg loss 2.316348, training avg acc 0.794459\n",
      "epoch 16, testing avg loss 6.346829, testing avg acc 0.630829\n"
     ]
    },
    {
     "name": "stderr",
     "output_type": "stream",
     "text": [
      "minibatch loop: 100%|██████████| 195/195 [09:56<00:00,  2.23s/it, accuracy=1, cost=0.181]   \n",
      "minibatch loop: 100%|██████████| 49/49 [02:27<00:00,  2.61s/it, accuracy=0.642, cost=5.09]\n",
      "minibatch loop:   0%|          | 0/195 [00:00<?, ?it/s]"
     ]
    },
    {
     "name": "stdout",
     "output_type": "stream",
     "text": [
      "epoch 17, training avg loss 2.203645, training avg acc 0.805378\n",
      "epoch 17, testing avg loss 6.456281, testing avg acc 0.629946\n"
     ]
    },
    {
     "name": "stderr",
     "output_type": "stream",
     "text": [
      "minibatch loop: 100%|██████████| 195/195 [09:57<00:00,  2.25s/it, accuracy=0.987, cost=0.254]\n",
      "minibatch loop: 100%|██████████| 49/49 [02:27<00:00,  2.62s/it, accuracy=0.699, cost=4.48]\n",
      "minibatch loop:   0%|          | 0/195 [00:00<?, ?it/s]"
     ]
    },
    {
     "name": "stdout",
     "output_type": "stream",
     "text": [
      "epoch 18, training avg loss 2.062423, training avg acc 0.815356\n",
      "epoch 18, testing avg loss 6.392627, testing avg acc 0.629511\n"
     ]
    },
    {
     "name": "stderr",
     "output_type": "stream",
     "text": [
      "minibatch loop: 100%|██████████| 195/195 [09:57<00:00,  2.23s/it, accuracy=1, cost=0.221]   \n",
      "minibatch loop: 100%|██████████| 49/49 [02:27<00:00,  2.60s/it, accuracy=0.637, cost=5.07]\n",
      "minibatch loop:   0%|          | 0/195 [00:00<?, ?it/s]"
     ]
    },
    {
     "name": "stdout",
     "output_type": "stream",
     "text": [
      "epoch 19, training avg loss 1.946490, training avg acc 0.823843\n",
      "epoch 19, testing avg loss 6.533266, testing avg acc 0.614861\n"
     ]
    },
    {
     "name": "stderr",
     "output_type": "stream",
     "text": [
      "minibatch loop: 100%|██████████| 195/195 [09:57<00:00,  2.24s/it, accuracy=1, cost=0.232]   \n",
      "minibatch loop: 100%|██████████| 49/49 [02:27<00:00,  2.62s/it, accuracy=0.634, cost=5.11]"
     ]
    },
    {
     "name": "stdout",
     "output_type": "stream",
     "text": [
      "epoch 20, training avg loss 1.880135, training avg acc 0.831593\n",
      "epoch 20, testing avg loss 6.378660, testing avg acc 0.629094\n"
     ]
    },
    {
     "name": "stderr",
     "output_type": "stream",
     "text": [
      "\n"
     ]
    }
   ],
   "source": [
    "for e in range(epoch):\n",
    "    pbar = tqdm.tqdm(\n",
    "        range(0, len(train_X), batch_size), desc = 'minibatch loop')\n",
    "    train_loss, train_acc, test_loss, test_acc = [], [], [], []\n",
    "    total_lost, total_acc = 0, 0\n",
    "    for i in pbar:\n",
    "        index = min(i + batch_size, len(train_X))\n",
    "        batch_x = train_X[i : index]\n",
    "        batch_x = np.array(batch_x).reshape((len(batch_x), image_height, image_width,image_channel))\n",
    "        y = train_Y[i : index]\n",
    "        batch_y = sparse_tuple_from_label(y)\n",
    "        batch_label, batch_length = pad_sentence_batch(y, 0)\n",
    "        batch_len = np.asarray([max_stepsize for _ in [1]*len(batch_x)], dtype=np.int64)\n",
    "        feed = {model.X: batch_x,\n",
    "                model.Y: batch_y,\n",
    "                model.SEQ_LEN: batch_len,\n",
    "               model.label: batch_label,\n",
    "               model.Y_seq_len: batch_length}\n",
    "        accuracy, loss, _ = sess.run([model.accuracy,model.cost,model.optimizer],\n",
    "                                    feed_dict = feed)\n",
    "        train_loss.append(loss)\n",
    "        train_acc.append(accuracy)\n",
    "        pbar.set_postfix(cost = loss, accuracy = accuracy)\n",
    "    \n",
    "    \n",
    "    pbar = tqdm.tqdm(\n",
    "        range(0, len(test_X), batch_size), desc = 'minibatch loop')\n",
    "    for i in pbar:\n",
    "        index = min(i + batch_size, len(test_X))\n",
    "        batch_x = test_X[i : index]\n",
    "        batch_x = np.array(batch_x).reshape((len(batch_x), image_height, image_width,image_channel))\n",
    "        y = test_Y[i : index]\n",
    "        batch_y = sparse_tuple_from_label(y)\n",
    "        batch_label, batch_length = pad_sentence_batch(y, 0)\n",
    "        batch_len = np.asarray([max_stepsize for _ in [1]*len(batch_x)], dtype=np.int64)\n",
    "        feed = {model.X: batch_x,\n",
    "                model.Y: batch_y,\n",
    "                model.SEQ_LEN: batch_len,\n",
    "               model.label: batch_label,\n",
    "               model.Y_seq_len: batch_length}\n",
    "        accuracy, loss = sess.run([model.accuracy,model.cost],\n",
    "                                    feed_dict = feed)\n",
    "\n",
    "        test_loss.append(loss)\n",
    "        test_acc.append(accuracy)\n",
    "        pbar.set_postfix(cost = loss, accuracy = accuracy)\n",
    "    \n",
    "    print('epoch %d, training avg loss %f, training avg acc %f'%(e+1,\n",
    "                                                                 np.mean(train_loss),np.mean(train_acc)))\n",
    "    print('epoch %d, testing avg loss %f, testing avg acc %f'%(e+1,\n",
    "                                                              np.mean(test_loss),np.mean(test_acc)))"
   ]
  },
  {
   "cell_type": "markdown",
   "metadata": {},
   "source": [
    "## Test to classify one of element from test batch"
   ]
  },
  {
   "cell_type": "code",
   "execution_count": 34,
   "metadata": {},
   "outputs": [
    {
     "data": {
      "image/png": "[encoded data removed]",
      "text/plain": [
       "<Figure size 432x288 with 1 Axes>"
      ]
     },
     "metadata": {
      "needs_background": "light"
     },
     "output_type": "display_data"
    }
   ],
   "source": [
    "decoded = sess.run(model.dense_decoded, feed_dict = {model.X: batch_x[3:4],\n",
    "                                          model.SEQ_LEN: batch_len[3:4]})\n",
    "plt.imshow(cv2.flip(batch_x[3][:,:,0], 1))\n",
    "decoded = ''.join([decode_maps[i] for i in decoded[0]])\n",
    "actual = ''.join([decode_maps[i] for i in y[3]])\n",
    "plt.title('predict: %s, actual: %s'%(decoded, actual))\n",
    "plt.show()"
   ]
  },
  {
   "cell_type": "code",
   "execution_count": null,
   "metadata": {},
   "outputs": [],
   "source": []
  }
 ],
 "metadata": {
  "kernelspec": {
   "display_name": "Python 3",
   "language": "python",
   "name": "python3"
  },
  "language_info": {
   "codemirror_mode": {
    "name": "ipython",
    "version": 3
   },
   "file_extension": ".py",
   "mimetype": "text/x-python",
   "name": "python",
   "nbconvert_exporter": "python",
   "pygments_lexer": "ipython3",
   "version": "3.6.8"
  }
 },
 "nbformat": 4,
 "nbformat_minor": 2
}
