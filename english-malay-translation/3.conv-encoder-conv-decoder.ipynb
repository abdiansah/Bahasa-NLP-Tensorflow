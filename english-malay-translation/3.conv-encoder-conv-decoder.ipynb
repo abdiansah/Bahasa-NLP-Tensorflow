{
 "cells": [
  {
   "cell_type": "code",
   "execution_count": 1,
   "metadata": {},
   "outputs": [
    {
     "name": "stderr",
     "output_type": "stream",
     "text": [
      "/home/jupyter/.local/lib/python3.6/site-packages/sklearn/cross_validation.py:41: DeprecationWarning: This module was deprecated in version 0.18 in favor of the model_selection module into which all the refactored classes and functions are moved. Also note that the interface of the new CV iterators are different from that of this module. This module will be removed in 0.20.\n",
      "  \"This module will be removed in 0.20.\", DeprecationWarning)\n"
     ]
    }
   ],
   "source": [
    "import json\n",
    "import tensorflow as tf\n",
    "import numpy as np\n",
    "from sklearn.cross_validation import train_test_split"
   ]
  },
  {
   "cell_type": "code",
   "execution_count": 2,
   "metadata": {},
   "outputs": [],
   "source": [
    "with open('dictionary.json') as fopen:\n",
    "    x = json.load(fopen)\n",
    "dictionary_english = x['english']\n",
    "dictionary_bahasa = x['bahasa']"
   ]
  },
  {
   "cell_type": "code",
   "execution_count": 3,
   "metadata": {},
   "outputs": [],
   "source": [
    "with open('english-malay.json') as fopen:\n",
    "    x = json.load(fopen)\n",
    "english = x[0]\n",
    "bahasa = x[1]"
   ]
  },
  {
   "cell_type": "code",
   "execution_count": 4,
   "metadata": {},
   "outputs": [],
   "source": [
    "GO = dictionary_english['dictionary']['GO']\n",
    "PAD = dictionary_english['dictionary']['PAD']\n",
    "EOS = dictionary_english['dictionary']['EOS']\n",
    "UNK = dictionary_english['dictionary']['UNK']"
   ]
  },
  {
   "cell_type": "code",
   "execution_count": 5,
   "metadata": {},
   "outputs": [
    {
     "name": "stderr",
     "output_type": "stream",
     "text": [
      "100%|██████████| 100000/100000 [00:00<00:00, 1105174.76it/s]\n"
     ]
    }
   ],
   "source": [
    "from tqdm import tqdm\n",
    "\n",
    "for i in tqdm(range(len(bahasa))):\n",
    "    bahasa[i].append('EOS')"
   ]
  },
  {
   "cell_type": "code",
   "execution_count": 6,
   "metadata": {},
   "outputs": [],
   "source": [
    "emb_size = 256\n",
    "n_hidden = 256\n",
    "n_layers = 4\n",
    "n_attn_heads = 16\n",
    "learning_rate = 1e-4\n",
    "batch_size = 128\n",
    "epoch = 20"
   ]
  },
  {
   "cell_type": "code",
   "execution_count": 7,
   "metadata": {},
   "outputs": [],
   "source": [
    "def encoder_block(inp, n_hidden, filter_size):\n",
    "    inp = tf.expand_dims(inp, 2)\n",
    "    inp = tf.pad(inp, [[0, 0], [(filter_size[0]-1)//2, (filter_size[0]-1)//2], [0, 0], [0, 0]])\n",
    "    conv = tf.layers.conv2d(inp, n_hidden, filter_size, padding=\"VALID\", activation=None)\n",
    "    conv = tf.squeeze(conv, 2)\n",
    "    return conv\n",
    "\n",
    "def decoder_block(inp, n_hidden, filter_size):\n",
    "    inp = tf.expand_dims(inp, 2)\n",
    "    inp = tf.pad(inp, [[0, 0], [filter_size[0]-1, 0], [0, 0], [0, 0]])\n",
    "    conv = tf.layers.conv2d(inp, n_hidden, filter_size, padding=\"VALID\", activation=None)\n",
    "    conv = tf.squeeze(conv, 2)\n",
    "    return conv\n",
    "\n",
    "def glu(x):\n",
    "    return tf.multiply(x[:, :, :tf.shape(x)[2]//2], tf.sigmoid(x[:, :, tf.shape(x)[2]//2:]))\n",
    "\n",
    "def layer(inp, conv_block, kernel_width, n_hidden, residual=None):\n",
    "    z = conv_block(inp, n_hidden, (kernel_width, 1))\n",
    "    return glu(z) + (residual if residual is not None else 0)\n",
    "\n",
    "class Model:\n",
    "    def __init__(self):\n",
    "        \n",
    "        self.X = tf.placeholder(tf.int32, [None, None])\n",
    "        self.Y = tf.placeholder(tf.int32, [None, None])\n",
    "\n",
    "        self.X_seq_len = tf.count_nonzero(self.X, 1, dtype = tf.int32)\n",
    "        self.Y_seq_len = tf.count_nonzero(self.Y, 1, dtype = tf.int32)\n",
    "        batch_size = tf.shape(self.X)[0]\n",
    "        main = tf.strided_slice(self.Y, [0, 0], [batch_size, -1], [1, 1])\n",
    "        decoder_input = tf.concat([tf.fill([batch_size, 1], GO), main], 1)\n",
    "        \n",
    "        encoder_embedding = tf.Variable(tf.random_uniform([len(dictionary_english['dictionary']), emb_size], -1, 1))\n",
    "        decoder_embedding = tf.Variable(tf.random_uniform([len(dictionary_bahasa['dictionary']), emb_size], -1, 1))\n",
    "        \n",
    "        def forward(x, y,reuse=False):\n",
    "            with tf.variable_scope('forward',reuse=reuse):\n",
    "                encoder_embedded = tf.nn.embedding_lookup(encoder_embedding, x)\n",
    "                decoder_embedded = tf.nn.embedding_lookup(decoder_embedding, y)\n",
    "\n",
    "                e = tf.identity(encoder_embedded)\n",
    "\n",
    "                for i in range(n_layers):\n",
    "                    z = layer(encoder_embedded, encoder_block, 3, n_hidden * 2, encoder_embedded)\n",
    "                    encoder_embedded = z\n",
    "\n",
    "                encoder_output, output_memory = z, z + e\n",
    "                g = tf.identity(decoder_embedded)\n",
    "\n",
    "                for i in range(n_layers):\n",
    "                    attn_res = h = layer(decoder_embedded, decoder_block, 3, n_hidden * 2, \n",
    "                                         residual=tf.zeros_like(decoder_embedded))\n",
    "                    C = []\n",
    "                    for j in range(n_attn_heads):\n",
    "                        h_ = tf.layers.dense(h, n_hidden//n_attn_heads)\n",
    "                        g_ = tf.layers.dense(g, n_hidden//n_attn_heads)\n",
    "                        zu_ = tf.layers.dense(encoder_output, n_hidden//n_attn_heads)\n",
    "                        ze_ = tf.layers.dense(output_memory, n_hidden//n_attn_heads)\n",
    "\n",
    "                        d = tf.layers.dense(h_, n_hidden//n_attn_heads) + g_\n",
    "                        dz = tf.matmul(d, tf.transpose(zu_, [0, 2, 1]))\n",
    "                        a = tf.nn.softmax(dz)\n",
    "                        c_ = tf.matmul(a, ze_)\n",
    "                        C.append(c_)\n",
    "\n",
    "                    c = tf.concat(C, 2)\n",
    "                    h = tf.layers.dense(attn_res + c, n_hidden)\n",
    "                    decoder_embedded = h\n",
    "\n",
    "                return tf.layers.dense(decoder_embedded, len(dictionary_bahasa['dictionary']))\n",
    "        self.training_logits = forward(self.X, decoder_input)\n",
    "        self.logits = forward(self.X, self.Y, reuse=True)\n",
    "        self.k = tf.placeholder(dtype = tf.int32)\n",
    "        p = tf.nn.softmax(self.logits)\n",
    "        self.topk_logprobs, self.topk_ids = tf.nn.top_k(tf.log(p), self.k)\n",
    "        \n",
    "        masks = tf.sequence_mask(self.Y_seq_len, tf.reduce_max(self.Y_seq_len), dtype=tf.float32)\n",
    "        self.cost = tf.contrib.seq2seq.sequence_loss(logits = self.training_logits,\n",
    "                                                     targets = self.Y,\n",
    "                                                     weights = masks)\n",
    "        self.optimizer = tf.train.AdamOptimizer(learning_rate = learning_rate).minimize(self.cost)\n",
    "        y_t = tf.argmax(self.training_logits,axis=2)\n",
    "        y_t = tf.cast(y_t, tf.int32)\n",
    "        self.prediction = tf.boolean_mask(y_t, masks)\n",
    "        mask_label = tf.boolean_mask(self.Y, masks)\n",
    "        correct_pred = tf.equal(self.prediction, mask_label)\n",
    "        correct_index = tf.cast(correct_pred, tf.float32)\n",
    "        self.accuracy = tf.reduce_mean(tf.cast(correct_pred, tf.float32))"
   ]
  },
  {
   "cell_type": "code",
   "execution_count": 8,
   "metadata": {},
   "outputs": [
    {
     "name": "stdout",
     "output_type": "stream",
     "text": [
      "WARNING:tensorflow:From /usr/local/lib/python3.6/dist-packages/tensorflow/python/framework/op_def_library.py:263: colocate_with (from tensorflow.python.framework.ops) is deprecated and will be removed in a future version.\n",
      "Instructions for updating:\n",
      "Colocations handled automatically by placer.\n",
      "WARNING:tensorflow:From <ipython-input-7-437eef4147eb>:4: conv2d (from tensorflow.python.layers.convolutional) is deprecated and will be removed in a future version.\n",
      "Instructions for updating:\n",
      "Use keras.layers.conv2d instead.\n",
      "WARNING:tensorflow:From <ipython-input-7-437eef4147eb>:56: dense (from tensorflow.python.layers.core) is deprecated and will be removed in a future version.\n",
      "Instructions for updating:\n",
      "Use keras.layers.dense instead.\n",
      "\n",
      "WARNING: The TensorFlow contrib module will not be included in TensorFlow 2.0.\n",
      "For more information, please see:\n",
      "  * https://github.com/tensorflow/community/blob/master/rfcs/20180907-contrib-sunset.md\n",
      "  * https://github.com/tensorflow/addons\n",
      "If you depend on functionality not listed there, please file an issue.\n",
      "\n",
      "WARNING:tensorflow:From /usr/local/lib/python3.6/dist-packages/tensorflow/python/ops/array_grad.py:425: to_int32 (from tensorflow.python.ops.math_ops) is deprecated and will be removed in a future version.\n",
      "Instructions for updating:\n",
      "Use tf.cast instead.\n"
     ]
    }
   ],
   "source": [
    "tf.reset_default_graph()\n",
    "sess = tf.InteractiveSession()\n",
    "model = Model()\n",
    "sess.run(tf.global_variables_initializer())"
   ]
  },
  {
   "cell_type": "code",
   "execution_count": 9,
   "metadata": {},
   "outputs": [],
   "source": [
    "def str_idx(corpus, dic):\n",
    "    X = []\n",
    "    for i in corpus:\n",
    "        ints = []\n",
    "        for k in i:\n",
    "            ints.append(dic.get(k,UNK))\n",
    "        X.append(ints)\n",
    "    return X"
   ]
  },
  {
   "cell_type": "code",
   "execution_count": 10,
   "metadata": {},
   "outputs": [],
   "source": [
    "english = str_idx(english, dictionary_english['dictionary'])\n",
    "bahasa = str_idx(bahasa, dictionary_bahasa['dictionary'])"
   ]
  },
  {
   "cell_type": "code",
   "execution_count": 11,
   "metadata": {},
   "outputs": [],
   "source": [
    "train_X, test_X, train_Y, test_Y = train_test_split(english, bahasa, test_size = 0.2)"
   ]
  },
  {
   "cell_type": "code",
   "execution_count": 12,
   "metadata": {},
   "outputs": [],
   "source": [
    "def pad_sentence_batch(sentence_batch, pad_int):\n",
    "    padded_seqs = []\n",
    "    seq_lens = []\n",
    "    max_sentence_len = max([len(sentence) for sentence in sentence_batch])\n",
    "    for sentence in sentence_batch:\n",
    "        padded_seqs.append(sentence + [pad_int] * (max_sentence_len - len(sentence)))\n",
    "        seq_lens.append(len(sentence))\n",
    "    return padded_seqs, seq_lens"
   ]
  },
  {
   "cell_type": "code",
   "execution_count": 13,
   "metadata": {},
   "outputs": [
    {
     "name": "stderr",
     "output_type": "stream",
     "text": [
      "train minibatch loop: 100%|██████████| 625/625 [02:29<00:00,  4.31it/s, accuracy=0.122, cost=5.89] \n",
      "test minibatch loop: 100%|██████████| 157/157 [00:21<00:00,  7.20it/s, accuracy=0.11, cost=6.05]  \n",
      "train minibatch loop:   0%|          | 0/625 [00:00<?, ?it/s]"
     ]
    },
    {
     "name": "stdout",
     "output_type": "stream",
     "text": [
      "time taken: 171.5534746646881\n",
      "epoch: 0, training loss: 6.537692, training acc: 0.083362, valid loss: 6.034824, valid acc: 0.116770\n",
      "\n"
     ]
    },
    {
     "name": "stderr",
     "output_type": "stream",
     "text": [
      "train minibatch loop: 100%|██████████| 625/625 [02:23<00:00,  4.32it/s, accuracy=0.16, cost=5.43] \n",
      "test minibatch loop: 100%|██████████| 157/157 [00:19<00:00,  8.07it/s, accuracy=0.122, cost=5.69]\n",
      "train minibatch loop:   0%|          | 0/625 [00:00<?, ?it/s]"
     ]
    },
    {
     "name": "stdout",
     "output_type": "stream",
     "text": [
      "time taken: 163.3060667514801\n",
      "epoch: 1, training loss: 5.718268, training acc: 0.137435, valid loss: 5.635443, valid acc: 0.152731\n",
      "\n"
     ]
    },
    {
     "name": "stderr",
     "output_type": "stream",
     "text": [
      "train minibatch loop: 100%|██████████| 625/625 [02:23<00:00,  4.33it/s, accuracy=0.188, cost=5.13]\n",
      "test minibatch loop: 100%|██████████| 157/157 [00:19<00:00,  8.09it/s, accuracy=0.155, cost=5.5] \n",
      "train minibatch loop:   0%|          | 0/625 [00:00<?, ?it/s]"
     ]
    },
    {
     "name": "stdout",
     "output_type": "stream",
     "text": [
      "time taken: 163.10752296447754\n",
      "epoch: 2, training loss: 5.360307, training acc: 0.168204, valid loss: 5.409797, valid acc: 0.178136\n",
      "\n"
     ]
    },
    {
     "name": "stderr",
     "output_type": "stream",
     "text": [
      "train minibatch loop: 100%|██████████| 625/625 [02:23<00:00,  4.33it/s, accuracy=0.207, cost=4.92]\n",
      "test minibatch loop: 100%|██████████| 157/157 [00:19<00:00,  8.10it/s, accuracy=0.187, cost=5.38]\n",
      "train minibatch loop:   0%|          | 0/625 [00:00<?, ?it/s]"
     ]
    },
    {
     "name": "stdout",
     "output_type": "stream",
     "text": [
      "time taken: 162.8532919883728\n",
      "epoch: 3, training loss: 5.102846, training acc: 0.191015, valid loss: 5.263217, valid acc: 0.194642\n",
      "\n"
     ]
    },
    {
     "name": "stderr",
     "output_type": "stream",
     "text": [
      "train minibatch loop: 100%|██████████| 625/625 [02:23<00:00,  4.32it/s, accuracy=0.23, cost=4.69] \n",
      "test minibatch loop: 100%|██████████| 157/157 [00:19<00:00,  8.10it/s, accuracy=0.191, cost=5.27]\n",
      "train minibatch loop:   0%|          | 0/625 [00:00<?, ?it/s]"
     ]
    },
    {
     "name": "stdout",
     "output_type": "stream",
     "text": [
      "time taken: 162.508446931839\n",
      "epoch: 4, training loss: 4.897198, training acc: 0.209113, valid loss: 5.149193, valid acc: 0.210202\n",
      "\n"
     ]
    },
    {
     "name": "stderr",
     "output_type": "stream",
     "text": [
      "train minibatch loop: 100%|██████████| 625/625 [02:23<00:00,  4.34it/s, accuracy=0.245, cost=4.55]\n",
      "test minibatch loop: 100%|██████████| 157/157 [00:19<00:00,  8.11it/s, accuracy=0.203, cost=5.21]\n",
      "train minibatch loop:   0%|          | 0/625 [00:00<?, ?it/s]"
     ]
    },
    {
     "name": "stdout",
     "output_type": "stream",
     "text": [
      "time taken: 162.46776747703552\n",
      "epoch: 5, training loss: 4.718373, training acc: 0.224997, valid loss: 5.063505, valid acc: 0.223603\n",
      "\n"
     ]
    },
    {
     "name": "stderr",
     "output_type": "stream",
     "text": [
      "train minibatch loop: 100%|██████████| 625/625 [02:23<00:00,  4.31it/s, accuracy=0.253, cost=4.42]\n",
      "test minibatch loop: 100%|██████████| 157/157 [00:19<00:00,  8.12it/s, accuracy=0.217, cost=5.13]\n",
      "train minibatch loop:   0%|          | 0/625 [00:00<?, ?it/s]"
     ]
    },
    {
     "name": "stdout",
     "output_type": "stream",
     "text": [
      "time taken: 162.3607897758484\n",
      "epoch: 6, training loss: 4.562209, training acc: 0.239301, valid loss: 4.992029, valid acc: 0.234850\n",
      "\n"
     ]
    },
    {
     "name": "stderr",
     "output_type": "stream",
     "text": [
      "train minibatch loop: 100%|██████████| 625/625 [02:23<00:00,  4.32it/s, accuracy=0.276, cost=4.3] \n",
      "test minibatch loop: 100%|██████████| 157/157 [00:19<00:00,  8.12it/s, accuracy=0.214, cost=5.11]\n",
      "train minibatch loop:   0%|          | 0/625 [00:00<?, ?it/s]"
     ]
    },
    {
     "name": "stdout",
     "output_type": "stream",
     "text": [
      "time taken: 162.38609957695007\n",
      "epoch: 7, training loss: 4.425593, training acc: 0.252429, valid loss: 4.941936, valid acc: 0.244461\n",
      "\n"
     ]
    },
    {
     "name": "stderr",
     "output_type": "stream",
     "text": [
      "train minibatch loop: 100%|██████████| 625/625 [02:22<00:00,  4.35it/s, accuracy=0.286, cost=4.17]\n",
      "test minibatch loop: 100%|██████████| 157/157 [00:19<00:00,  8.11it/s, accuracy=0.229, cost=5.03]\n",
      "train minibatch loop:   0%|          | 0/625 [00:00<?, ?it/s]"
     ]
    },
    {
     "name": "stdout",
     "output_type": "stream",
     "text": [
      "time taken: 162.33119654655457\n",
      "epoch: 8, training loss: 4.302183, training acc: 0.265649, valid loss: 4.894171, valid acc: 0.252230\n",
      "\n"
     ]
    },
    {
     "name": "stderr",
     "output_type": "stream",
     "text": [
      "train minibatch loop: 100%|██████████| 625/625 [02:22<00:00,  4.33it/s, accuracy=0.298, cost=4.07]\n",
      "test minibatch loop: 100%|██████████| 157/157 [00:19<00:00,  8.15it/s, accuracy=0.234, cost=5.03]\n",
      "train minibatch loop:   0%|          | 0/625 [00:00<?, ?it/s]"
     ]
    },
    {
     "name": "stdout",
     "output_type": "stream",
     "text": [
      "time taken: 162.2186315059662\n",
      "epoch: 9, training loss: 4.195674, training acc: 0.277147, valid loss: 4.855413, valid acc: 0.257811\n",
      "\n"
     ]
    },
    {
     "name": "stderr",
     "output_type": "stream",
     "text": [
      "train minibatch loop: 100%|██████████| 625/625 [02:22<00:00,  4.35it/s, accuracy=0.304, cost=3.98]\n",
      "test minibatch loop: 100%|██████████| 157/157 [00:19<00:00,  8.15it/s, accuracy=0.227, cost=4.99]\n",
      "train minibatch loop:   0%|          | 0/625 [00:00<?, ?it/s]"
     ]
    },
    {
     "name": "stdout",
     "output_type": "stream",
     "text": [
      "time taken: 162.0120666027069\n",
      "epoch: 10, training loss: 4.098917, training acc: 0.287443, valid loss: 4.812391, valid acc: 0.265092\n",
      "\n"
     ]
    },
    {
     "name": "stderr",
     "output_type": "stream",
     "text": [
      "train minibatch loop: 100%|██████████| 625/625 [02:22<00:00,  4.32it/s, accuracy=0.31, cost=3.92] \n",
      "test minibatch loop: 100%|██████████| 157/157 [00:19<00:00,  8.10it/s, accuracy=0.23, cost=4.99] \n",
      "train minibatch loop:   0%|          | 0/625 [00:00<?, ?it/s]"
     ]
    },
    {
     "name": "stdout",
     "output_type": "stream",
     "text": [
      "time taken: 162.10736179351807\n",
      "epoch: 11, training loss: 4.012362, training acc: 0.297252, valid loss: 4.778640, valid acc: 0.270392\n",
      "\n"
     ]
    },
    {
     "name": "stderr",
     "output_type": "stream",
     "text": [
      "train minibatch loop: 100%|██████████| 625/625 [02:22<00:00,  4.34it/s, accuracy=0.321, cost=3.84]\n",
      "test minibatch loop: 100%|██████████| 157/157 [00:19<00:00,  8.17it/s, accuracy=0.24, cost=4.96] \n",
      "train minibatch loop:   0%|          | 0/625 [00:00<?, ?it/s]"
     ]
    },
    {
     "name": "stdout",
     "output_type": "stream",
     "text": [
      "time taken: 161.91348266601562\n",
      "epoch: 12, training loss: 3.926506, training acc: 0.306347, valid loss: 4.755209, valid acc: 0.275216\n",
      "\n"
     ]
    },
    {
     "name": "stderr",
     "output_type": "stream",
     "text": [
      "train minibatch loop: 100%|██████████| 625/625 [02:22<00:00,  4.35it/s, accuracy=0.325, cost=3.8] \n",
      "test minibatch loop: 100%|██████████| 157/157 [00:19<00:00,  8.17it/s, accuracy=0.249, cost=4.88]\n",
      "train minibatch loop:   0%|          | 0/625 [00:00<?, ?it/s]"
     ]
    },
    {
     "name": "stdout",
     "output_type": "stream",
     "text": [
      "time taken: 162.0905864238739\n",
      "epoch: 13, training loss: 3.854247, training acc: 0.314571, valid loss: 4.729507, valid acc: 0.280167\n",
      "\n"
     ]
    },
    {
     "name": "stderr",
     "output_type": "stream",
     "text": [
      "train minibatch loop: 100%|██████████| 625/625 [02:22<00:00,  4.36it/s, accuracy=0.324, cost=3.73]\n",
      "test minibatch loop: 100%|██████████| 157/157 [00:19<00:00,  8.17it/s, accuracy=0.26, cost=4.84] \n",
      "train minibatch loop:   0%|          | 0/625 [00:00<?, ?it/s]"
     ]
    },
    {
     "name": "stdout",
     "output_type": "stream",
     "text": [
      "time taken: 161.60906338691711\n",
      "epoch: 14, training loss: 3.784988, training acc: 0.322622, valid loss: 4.696328, valid acc: 0.284120\n",
      "\n"
     ]
    },
    {
     "name": "stderr",
     "output_type": "stream",
     "text": [
      "train minibatch loop: 100%|██████████| 625/625 [02:22<00:00,  4.36it/s, accuracy=0.342, cost=3.65]\n",
      "test minibatch loop: 100%|██████████| 157/157 [00:19<00:00,  8.19it/s, accuracy=0.264, cost=4.83]\n",
      "train minibatch loop:   0%|          | 0/625 [00:00<?, ?it/s]"
     ]
    },
    {
     "name": "stdout",
     "output_type": "stream",
     "text": [
      "time taken: 161.60375428199768\n",
      "epoch: 15, training loss: 3.724188, training acc: 0.329533, valid loss: 4.663269, valid acc: 0.289800\n",
      "\n"
     ]
    },
    {
     "name": "stderr",
     "output_type": "stream",
     "text": [
      "train minibatch loop: 100%|██████████| 625/625 [02:23<00:00,  4.31it/s, accuracy=0.349, cost=3.58]\n",
      "test minibatch loop: 100%|██████████| 157/157 [00:19<00:00,  8.11it/s, accuracy=0.254, cost=4.83]\n",
      "train minibatch loop:   0%|          | 0/625 [00:00<?, ?it/s]"
     ]
    },
    {
     "name": "stdout",
     "output_type": "stream",
     "text": [
      "time taken: 162.7857267856598\n",
      "epoch: 16, training loss: 3.657729, training acc: 0.337056, valid loss: 4.629069, valid acc: 0.296313\n",
      "\n"
     ]
    },
    {
     "name": "stderr",
     "output_type": "stream",
     "text": [
      "train minibatch loop: 100%|██████████| 625/625 [02:22<00:00,  4.36it/s, accuracy=0.342, cost=3.54]\n",
      "test minibatch loop: 100%|██████████| 157/157 [00:19<00:00,  8.18it/s, accuracy=0.257, cost=4.83]\n",
      "train minibatch loop:   0%|          | 0/625 [00:00<?, ?it/s]"
     ]
    },
    {
     "name": "stdout",
     "output_type": "stream",
     "text": [
      "time taken: 162.06868386268616\n",
      "epoch: 17, training loss: 3.599673, training acc: 0.344293, valid loss: 4.619375, valid acc: 0.298722\n",
      "\n"
     ]
    },
    {
     "name": "stderr",
     "output_type": "stream",
     "text": [
      "train minibatch loop: 100%|██████████| 625/625 [02:22<00:00,  4.35it/s, accuracy=0.356, cost=3.48]\n",
      "test minibatch loop: 100%|██████████| 157/157 [00:19<00:00,  8.17it/s, accuracy=0.254, cost=4.85]\n",
      "train minibatch loop:   0%|          | 0/625 [00:00<?, ?it/s]"
     ]
    },
    {
     "name": "stdout",
     "output_type": "stream",
     "text": [
      "time taken: 161.62545585632324\n",
      "epoch: 18, training loss: 3.541353, training acc: 0.351798, valid loss: 4.602534, valid acc: 0.302699\n",
      "\n"
     ]
    },
    {
     "name": "stderr",
     "output_type": "stream",
     "text": [
      "train minibatch loop: 100%|██████████| 625/625 [02:22<00:00,  4.34it/s, accuracy=0.374, cost=3.43]\n",
      "test minibatch loop: 100%|██████████| 157/157 [00:19<00:00,  8.17it/s, accuracy=0.269, cost=4.8] "
     ]
    },
    {
     "name": "stdout",
     "output_type": "stream",
     "text": [
      "time taken: 161.6322410106659\n",
      "epoch: 19, training loss: 3.484283, training acc: 0.358929, valid loss: 4.561511, valid acc: 0.306542\n",
      "\n"
     ]
    },
    {
     "name": "stderr",
     "output_type": "stream",
     "text": [
      "\n"
     ]
    }
   ],
   "source": [
    "import time\n",
    "\n",
    "for EPOCH in range(20):\n",
    "    lasttime = time.time()\n",
    "\n",
    "    train_acc, train_loss, test_acc, test_loss = 0, 0, 0, 0\n",
    "    pbar = tqdm(\n",
    "        range(0, len(train_X), batch_size), desc = 'train minibatch loop'\n",
    "    )\n",
    "    for i in pbar:\n",
    "        index = min(i + batch_size, len(train_X))\n",
    "        batch_x, _ = pad_sentence_batch(train_X[i : index], PAD)\n",
    "        batch_y, _ = pad_sentence_batch(train_Y[i : index], PAD)\n",
    "        acc, cost, _ = sess.run(\n",
    "            [model.accuracy, model.cost, model.optimizer],\n",
    "            feed_dict = {\n",
    "                model.Y: batch_y,\n",
    "                model.X: batch_x\n",
    "            },\n",
    "        )\n",
    "        assert not np.isnan(cost)\n",
    "        train_loss += cost\n",
    "        train_acc += acc\n",
    "        pbar.set_postfix(cost = cost, accuracy = acc)\n",
    "        \n",
    "    pbar = tqdm(range(0, len(test_X), batch_size), desc = 'test minibatch loop')\n",
    "    for i in pbar:\n",
    "        index = min(i + batch_size, len(test_X))\n",
    "        batch_x, _ = pad_sentence_batch(test_X[i : index], PAD)\n",
    "        batch_y, _ = pad_sentence_batch(test_Y[i : index], PAD)\n",
    "        acc, cost = sess.run(\n",
    "            [model.accuracy, model.cost],\n",
    "            feed_dict = {\n",
    "                model.Y: batch_y,\n",
    "                model.X: batch_x\n",
    "            },\n",
    "        )\n",
    "        test_loss += cost\n",
    "        test_acc += acc\n",
    "        pbar.set_postfix(cost = cost, accuracy = acc)\n",
    "\n",
    "    train_loss /= len(train_X) / batch_size\n",
    "    train_acc /= len(train_X) / batch_size\n",
    "    test_loss /= len(test_X) / batch_size\n",
    "    test_acc /= len(test_X) / batch_size\n",
    "        \n",
    "    print('time taken:', time.time() - lasttime)\n",
    "    print(\n",
    "        'epoch: %d, training loss: %f, training acc: %f, valid loss: %f, valid acc: %f\\n'\n",
    "        % (EPOCH, train_loss, train_acc, test_loss, test_acc)\n",
    "    )"
   ]
  },
  {
   "cell_type": "code",
   "execution_count": null,
   "metadata": {},
   "outputs": [],
   "source": []
  }
 ],
 "metadata": {
  "kernelspec": {
   "display_name": "Python 3",
   "language": "python",
   "name": "python3"
  },
  "language_info": {
   "codemirror_mode": {
    "name": "ipython",
    "version": 3
   },
   "file_extension": ".py",
   "mimetype": "text/x-python",
   "name": "python",
   "nbconvert_exporter": "python",
   "pygments_lexer": "ipython3",
   "version": "3.6.8"
  }
 },
 "nbformat": 4,
 "nbformat_minor": 2
}
