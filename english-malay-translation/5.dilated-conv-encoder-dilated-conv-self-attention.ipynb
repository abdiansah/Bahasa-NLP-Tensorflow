{
 "cells": [
  {
   "cell_type": "code",
   "execution_count": 1,
   "metadata": {},
   "outputs": [
    {
     "name": "stderr",
     "output_type": "stream",
     "text": [
      "/home/jupyter/.local/lib/python3.6/site-packages/sklearn/cross_validation.py:41: DeprecationWarning: This module was deprecated in version 0.18 in favor of the model_selection module into which all the refactored classes and functions are moved. Also note that the interface of the new CV iterators are different from that of this module. This module will be removed in 0.20.\n",
      "  \"This module will be removed in 0.20.\", DeprecationWarning)\n"
     ]
    },
    {
     "name": "stdout",
     "output_type": "stream",
     "text": [
      "\n",
      "WARNING: The TensorFlow contrib module will not be included in TensorFlow 2.0.\n",
      "For more information, please see:\n",
      "  * https://github.com/tensorflow/community/blob/master/rfcs/20180907-contrib-sunset.md\n",
      "  * https://github.com/tensorflow/addons\n",
      "If you depend on functionality not listed there, please file an issue.\n",
      "\n"
     ]
    }
   ],
   "source": [
    "import json\n",
    "import tensorflow as tf\n",
    "import numpy as np\n",
    "from sklearn.cross_validation import train_test_split\n",
    "from tensor2tensor.utils import beam_search"
   ]
  },
  {
   "cell_type": "code",
   "execution_count": 2,
   "metadata": {},
   "outputs": [],
   "source": [
    "with open('dictionary.json') as fopen:\n",
    "    x = json.load(fopen)\n",
    "dictionary_english = x['english']\n",
    "dictionary_bahasa = x['bahasa']"
   ]
  },
  {
   "cell_type": "code",
   "execution_count": 3,
   "metadata": {},
   "outputs": [],
   "source": [
    "with open('english-malay.json') as fopen:\n",
    "    x = json.load(fopen)\n",
    "english = x[0]\n",
    "bahasa = x[1]"
   ]
  },
  {
   "cell_type": "code",
   "execution_count": 4,
   "metadata": {},
   "outputs": [],
   "source": [
    "GO = dictionary_english['dictionary']['GO']\n",
    "PAD = dictionary_english['dictionary']['PAD']\n",
    "EOS = dictionary_english['dictionary']['EOS']\n",
    "UNK = dictionary_english['dictionary']['UNK']"
   ]
  },
  {
   "cell_type": "code",
   "execution_count": 5,
   "metadata": {},
   "outputs": [
    {
     "name": "stderr",
     "output_type": "stream",
     "text": [
      "100%|██████████| 100000/100000 [00:00<00:00, 1075509.45it/s]\n"
     ]
    }
   ],
   "source": [
    "from tqdm import tqdm\n",
    "\n",
    "for i in tqdm(range(len(bahasa))):\n",
    "    bahasa[i].append('EOS')"
   ]
  },
  {
   "cell_type": "code",
   "execution_count": 10,
   "metadata": {},
   "outputs": [],
   "source": [
    "def embed_seq(x, vocab_sz, embed_dim, name, zero_pad=True): \n",
    "    embedding = tf.get_variable(name, [vocab_sz, embed_dim]) \n",
    "    if zero_pad:\n",
    "        embedding = tf.concat([tf.zeros([1, embed_dim]), embedding[1:, :]], 0) \n",
    "    x = tf.nn.embedding_lookup(embedding, x)\n",
    "    return x\n",
    "\n",
    "def position_encoding(inputs):\n",
    "    T = tf.shape(inputs)[1]\n",
    "    repr_dim = inputs.get_shape()[-1].value\n",
    "    pos = tf.reshape(tf.range(0.0, tf.to_float(T), dtype=tf.float32), [-1, 1])\n",
    "    i = np.arange(0, repr_dim, 2, np.float32)\n",
    "    denom = np.reshape(np.power(10000.0, i / repr_dim), [1, -1])\n",
    "    enc = tf.expand_dims(tf.concat([tf.sin(pos / denom), tf.cos(pos / denom)], 1), 0)\n",
    "    return tf.tile(enc, [tf.shape(inputs)[0], 1, 1])\n",
    "\n",
    "def layer_norm(inputs, epsilon=1e-8):\n",
    "    mean, variance = tf.nn.moments(inputs, [-1], keep_dims=True)\n",
    "    normalized = (inputs - mean) / (tf.sqrt(variance + epsilon))\n",
    "    params_shape = inputs.get_shape()[-1:]\n",
    "    gamma = tf.get_variable('gamma', params_shape, tf.float32, tf.ones_initializer())\n",
    "    beta = tf.get_variable('beta', params_shape, tf.float32, tf.zeros_initializer())\n",
    "    return gamma * normalized + beta\n",
    "\n",
    "def cnn_block(x, dilation_rate, pad_sz, hidden_dim, kernel_size):\n",
    "    x = layer_norm(x)\n",
    "    pad = tf.zeros([tf.shape(x)[0], pad_sz, hidden_dim])\n",
    "    x =  tf.layers.conv1d(inputs = tf.concat([pad, x, pad], 1),\n",
    "                          filters = hidden_dim,\n",
    "                          kernel_size = kernel_size,\n",
    "                          dilation_rate = dilation_rate)\n",
    "    x = x[:, :-pad_sz, :]\n",
    "    x = tf.nn.relu(x)\n",
    "    return x\n",
    "\n",
    "def Attention(Q, inputs, num_units, num_heads = 8, activation = None):\n",
    "    inputs = tf.layers.dropout(inputs, 0.1, training=True)\n",
    "    T_q = tf.shape(Q)[1]\n",
    "    T_k = tf.shape(inputs)[1]\n",
    "    K_V = tf.layers.dense(inputs, 2*num_units, activation)\n",
    "    K, V = tf.split(K_V, 2, -1)\n",
    "    Q_ = tf.concat(tf.split(Q, num_heads, axis=2), 0)\n",
    "    K_ = tf.concat(tf.split(K, num_heads, axis=2), 0)\n",
    "    V_ = tf.concat(tf.split(V, num_heads, axis=2), 0)\n",
    "    p_gen = tf.layers.dense(K * V, 1)\n",
    "    p_gen = tf.sigmoid(p_gen)\n",
    "    align = tf.matmul(Q_, K_, transpose_b=True)\n",
    "    align *= tf.rsqrt(tf.to_float(K_.get_shape()[-1].value))\n",
    "    paddings = tf.fill(tf.shape(align), float('-inf'))\n",
    "    lower_tri = tf.ones([T_q, T_k])\n",
    "    lower_tri = tf.linalg.LinearOperatorLowerTriangular(lower_tri).to_dense()\n",
    "    masks = tf.tile(tf.expand_dims(lower_tri,0), [tf.shape(align)[0],1,1])\n",
    "    align = tf.where(tf.equal(masks, 0), paddings, align)\n",
    "    align = tf.nn.softmax(align)\n",
    "    alignments = tf.transpose(align, [0, 2, 1]) \n",
    "    x = tf.matmul(align, V_)\n",
    "    x = tf.concat(tf.split(x, num_heads, axis=0), 2)\n",
    "    x += Q\n",
    "    x = layer_norm(x)\n",
    "    return x, alignments, p_gen\n",
    "\n",
    "class Model:\n",
    "    def __init__(self, size_layer, num_layers, embedded_size, \n",
    "                 from_dict_size, to_dict_size, learning_rate, \n",
    "                 kernel_size = 2, n_attn_heads = 16):\n",
    "\n",
    "        self.X = tf.placeholder(tf.int32, [None, None])\n",
    "        self.Y = tf.placeholder(tf.int32, [None, None])\n",
    "\n",
    "        self.X_seq_len = tf.count_nonzero(self.X, 1, dtype = tf.int32)\n",
    "        self.Y_seq_len = tf.count_nonzero(self.Y, 1, dtype = tf.int32)\n",
    "        batch_size = tf.shape(self.X)[0]\n",
    "        self.batch_size = batch_size\n",
    "        main = tf.strided_slice(self.Y, [0, 0], [batch_size, -1], [1, 1])\n",
    "        decoder_input = tf.concat([tf.fill([batch_size, 1], GO), main], 1)\n",
    "        self.encoder_embedding = tf.Variable(tf.random_uniform([from_dict_size, embedded_size], -1, 1))\n",
    "        self.decoder_embedding = tf.Variable(tf.random_uniform([to_dict_size, embedded_size], -1, 1))\n",
    "        \n",
    "        self.num_layers = num_layers\n",
    "        self.kernel_size = kernel_size\n",
    "        self.size_layer = size_layer\n",
    "        self.n_attn_heads = n_attn_heads\n",
    "        self.dict_size = to_dict_size\n",
    "        \n",
    "        self.training_logits = self.forward(self.X, decoder_input)\n",
    "\n",
    "        masks = tf.sequence_mask(self.Y_seq_len, tf.reduce_max(self.Y_seq_len), dtype=tf.float32)\n",
    "        self.cost = tf.contrib.seq2seq.sequence_loss(logits = self.training_logits,\n",
    "                                                     targets = self.Y,\n",
    "                                                     weights = masks)\n",
    "        self.optimizer = tf.train.AdamOptimizer(learning_rate = learning_rate).minimize(self.cost)\n",
    "        y_t = tf.argmax(self.training_logits,axis=2)\n",
    "        y_t = tf.cast(y_t, tf.int32)\n",
    "        self.prediction = tf.boolean_mask(y_t, masks)\n",
    "        mask_label = tf.boolean_mask(self.Y, masks)\n",
    "        correct_pred = tf.equal(self.prediction, mask_label)\n",
    "        correct_index = tf.cast(correct_pred, tf.float32)\n",
    "        self.accuracy = tf.reduce_mean(tf.cast(correct_pred, tf.float32))\n",
    "        \n",
    "    def forward(self, x, y, reuse = False):\n",
    "        with tf.variable_scope('forward',reuse=reuse):\n",
    "            with tf.variable_scope('forward',reuse=reuse):\n",
    "                encoder_embedded = tf.nn.embedding_lookup(self.encoder_embedding, x)\n",
    "                decoder_embedded = tf.nn.embedding_lookup(self.decoder_embedding, y)\n",
    "                encoder_embedded += position_encoding(encoder_embedded)\n",
    "\n",
    "                for i in range(self.num_layers): \n",
    "                    dilation_rate = 2 ** i\n",
    "                    pad_sz = (self.kernel_size - 1) * dilation_rate \n",
    "                    with tf.variable_scope('block_%d'%i,reuse=reuse):\n",
    "                        encoder_embedded += cnn_block(encoder_embedded, dilation_rate, \n",
    "                                                      pad_sz, self.size_layer, self.kernel_size)\n",
    "\n",
    "                g = tf.identity(decoder_embedded)\n",
    "                for i in range(self.num_layers):\n",
    "                    dilation_rate = 2 ** i\n",
    "                    pad_sz = (self.kernel_size - 1) * dilation_rate\n",
    "                    with tf.variable_scope('decode_%d'%i,reuse=reuse):\n",
    "                        attn_res = h = cnn_block(decoder_embedded, dilation_rate, \n",
    "                                                 pad_sz, self.size_layer, self.kernel_size)\n",
    "                        with tf.variable_scope('attention_%d'%i,reuse=reuse):\n",
    "                            h, alignment, p_gen = Attention(attn_res, encoder_embedded, self.size_layer)\n",
    "                        \n",
    "                        vocab_dist = tf.nn.softmax(encoder_embedded) * p_gen\n",
    "                        alignments = alignment[0] * (1 - p_gen)\n",
    "                        encoder_embedded += vocab_dist\n",
    "                        decoder_embedded += h\n",
    "\n",
    "                return tf.layers.dense(decoder_embedded, self.dict_size)"
   ]
  },
  {
   "cell_type": "code",
   "execution_count": 11,
   "metadata": {},
   "outputs": [],
   "source": [
    "size_layer = 256\n",
    "num_layers = 4\n",
    "embedded_size = 256\n",
    "learning_rate = 1e-3\n",
    "batch_size = 128\n",
    "epoch = 20"
   ]
  },
  {
   "cell_type": "code",
   "execution_count": 12,
   "metadata": {},
   "outputs": [],
   "source": [
    "def beam_search_decoding(length = 20, beam_width = 5):\n",
    "    initial_ids = tf.fill([model.batch_size], GO)\n",
    "    \n",
    "    def symbols_to_logits(ids):\n",
    "        x = tf.contrib.seq2seq.tile_batch(model.X, beam_width)\n",
    "        logits = model.forward(x, ids, reuse = True)\n",
    "        return logits[:, tf.shape(ids)[1]-1, :]\n",
    "\n",
    "    final_ids, final_probs, _ = beam_search.beam_search(\n",
    "        symbols_to_logits,\n",
    "        initial_ids,\n",
    "        beam_width,\n",
    "        length,\n",
    "        len(dictionary_bahasa['dictionary']),\n",
    "        0.0,\n",
    "        eos_id = EOS)\n",
    "    \n",
    "    return final_ids"
   ]
  },
  {
   "cell_type": "code",
   "execution_count": 13,
   "metadata": {},
   "outputs": [
    {
     "name": "stdout",
     "output_type": "stream",
     "text": [
      "WARNING:tensorflow:From <ipython-input-10-d087cf610d9e>:11: to_float (from tensorflow.python.ops.math_ops) is deprecated and will be removed in a future version.\n",
      "Instructions for updating:\n",
      "Use tf.cast instead.\n",
      "WARNING:tensorflow:From <ipython-input-10-d087cf610d9e>:31: conv1d (from tensorflow.python.layers.convolutional) is deprecated and will be removed in a future version.\n",
      "Instructions for updating:\n",
      "Use keras.layers.conv1d instead.\n"
     ]
    },
    {
     "name": "stderr",
     "output_type": "stream",
     "text": [
      "/usr/local/lib/python3.6/dist-packages/tensorflow/python/client/session.py:1702: UserWarning: An interactive session is already active. This can cause out-of-memory errors in some cases. You must explicitly call `InteractiveSession.close()` to release resources held by the other session(s).\n",
      "  warnings.warn('An interactive session is already active. This can '\n"
     ]
    },
    {
     "name": "stdout",
     "output_type": "stream",
     "text": [
      "WARNING:tensorflow:From <ipython-input-10-d087cf610d9e>:37: dropout (from tensorflow.python.layers.core) is deprecated and will be removed in a future version.\n",
      "Instructions for updating:\n",
      "Use keras.layers.dropout instead.\n",
      "WARNING:tensorflow:From /usr/local/lib/python3.6/dist-packages/tensorflow/python/keras/layers/core.py:143: calling dropout (from tensorflow.python.ops.nn_ops) with keep_prob is deprecated and will be removed in a future version.\n",
      "Instructions for updating:\n",
      "Please use `rate` instead of `keep_prob`. Rate should be set to `rate = 1 - keep_prob`.\n",
      "WARNING:tensorflow:From <ipython-input-10-d087cf610d9e>:40: dense (from tensorflow.python.layers.core) is deprecated and will be removed in a future version.\n",
      "Instructions for updating:\n",
      "Use keras.layers.dense instead.\n",
      "WARNING:tensorflow:From /usr/local/lib/python3.6/dist-packages/tensorflow/python/ops/math_ops.py:3066: to_int32 (from tensorflow.python.ops.math_ops) is deprecated and will be removed in a future version.\n",
      "Instructions for updating:\n",
      "Use tf.cast instead.\n"
     ]
    }
   ],
   "source": [
    "tf.reset_default_graph()\n",
    "sess = tf.InteractiveSession()\n",
    "model = Model(size_layer, num_layers, embedded_size, \n",
    "                len(dictionary_english['dictionary']), len(dictionary_bahasa['dictionary']),\n",
    "                                                           learning_rate)\n",
    "model.generate = beam_search_decoding()\n",
    "sess.run(tf.global_variables_initializer())"
   ]
  },
  {
   "cell_type": "code",
   "execution_count": 14,
   "metadata": {},
   "outputs": [],
   "source": [
    "def str_idx(corpus, dic):\n",
    "    X = []\n",
    "    for i in corpus:\n",
    "        ints = []\n",
    "        for k in i:\n",
    "            ints.append(dic.get(k,UNK))\n",
    "        X.append(ints)\n",
    "    return X"
   ]
  },
  {
   "cell_type": "code",
   "execution_count": 15,
   "metadata": {},
   "outputs": [],
   "source": [
    "english = str_idx(english, dictionary_english['dictionary'])\n",
    "bahasa = str_idx(bahasa, dictionary_bahasa['dictionary'])"
   ]
  },
  {
   "cell_type": "code",
   "execution_count": 16,
   "metadata": {},
   "outputs": [],
   "source": [
    "train_X, test_X, train_Y, test_Y = train_test_split(english, bahasa, test_size = 0.2)"
   ]
  },
  {
   "cell_type": "code",
   "execution_count": 17,
   "metadata": {},
   "outputs": [],
   "source": [
    "def pad_sentence_batch(sentence_batch, pad_int):\n",
    "    padded_seqs = []\n",
    "    seq_lens = []\n",
    "    max_sentence_len = max([len(sentence) for sentence in sentence_batch])\n",
    "    for sentence in sentence_batch:\n",
    "        padded_seqs.append(sentence + [pad_int] * (max_sentence_len - len(sentence)))\n",
    "        seq_lens.append(len(sentence))\n",
    "    return padded_seqs, seq_lens"
   ]
  },
  {
   "cell_type": "code",
   "execution_count": 18,
   "metadata": {},
   "outputs": [
    {
     "name": "stderr",
     "output_type": "stream",
     "text": [
      "train minibatch loop: 100%|██████████| 625/625 [01:18<00:00,  8.63it/s, accuracy=0.316, cost=4.51]\n",
      "test minibatch loop: 100%|██████████| 157/157 [00:08<00:00, 15.96it/s, accuracy=0.323, cost=4.26]\n",
      "train minibatch loop:   0%|          | 2/625 [00:00<00:58, 10.73it/s, accuracy=0.344, cost=4.03]"
     ]
    },
    {
     "name": "stdout",
     "output_type": "stream",
     "text": [
      "time taken: 87.67448663711548\n",
      "epoch: 0, training loss: 5.059138, training acc: 0.247874, valid loss: 4.379347, valid acc: 0.322134\n",
      "\n"
     ]
    },
    {
     "name": "stderr",
     "output_type": "stream",
     "text": [
      "train minibatch loop: 100%|██████████| 625/625 [01:11<00:00,  8.68it/s, accuracy=0.362, cost=3.85]\n",
      "test minibatch loop: 100%|██████████| 157/157 [00:08<00:00, 18.47it/s, accuracy=0.357, cost=3.88]\n",
      "train minibatch loop:   0%|          | 2/625 [00:00<00:57, 10.87it/s, accuracy=0.408, cost=3.46]"
     ]
    },
    {
     "name": "stdout",
     "output_type": "stream",
     "text": [
      "time taken: 79.96844244003296\n",
      "epoch: 1, training loss: 3.928127, training acc: 0.350812, valid loss: 4.117769, valid acc: 0.356321\n",
      "\n"
     ]
    },
    {
     "name": "stderr",
     "output_type": "stream",
     "text": [
      "train minibatch loop: 100%|██████████| 625/625 [01:11<00:00,  8.58it/s, accuracy=0.39, cost=3.45] \n",
      "test minibatch loop: 100%|██████████| 157/157 [00:08<00:00, 18.39it/s, accuracy=0.389, cost=3.75]\n",
      "train minibatch loop:   0%|          | 2/625 [00:00<00:57, 10.84it/s, accuracy=0.444, cost=3.1]"
     ]
    },
    {
     "name": "stdout",
     "output_type": "stream",
     "text": [
      "time taken: 80.02571749687195\n",
      "epoch: 2, training loss: 3.450537, training acc: 0.395320, valid loss: 4.045568, valid acc: 0.371021\n",
      "\n"
     ]
    },
    {
     "name": "stderr",
     "output_type": "stream",
     "text": [
      "train minibatch loop: 100%|██████████| 625/625 [01:11<00:00,  8.69it/s, accuracy=0.422, cost=3.18]\n",
      "test minibatch loop: 100%|██████████| 157/157 [00:08<00:00, 18.39it/s, accuracy=0.398, cost=3.69]\n",
      "train minibatch loop:   0%|          | 2/625 [00:00<00:57, 10.78it/s, accuracy=0.475, cost=2.85]"
     ]
    },
    {
     "name": "stdout",
     "output_type": "stream",
     "text": [
      "time taken: 80.14065098762512\n",
      "epoch: 3, training loss: 3.150977, training acc: 0.428740, valid loss: 4.048513, valid acc: 0.377453\n",
      "\n"
     ]
    },
    {
     "name": "stderr",
     "output_type": "stream",
     "text": [
      "train minibatch loop: 100%|██████████| 625/625 [01:11<00:00,  8.63it/s, accuracy=0.451, cost=2.97]\n",
      "test minibatch loop: 100%|██████████| 157/157 [00:08<00:00, 18.41it/s, accuracy=0.404, cost=3.69]\n",
      "train minibatch loop:   0%|          | 2/625 [00:00<00:57, 10.86it/s, accuracy=0.489, cost=2.67]"
     ]
    },
    {
     "name": "stdout",
     "output_type": "stream",
     "text": [
      "time taken: 80.11900758743286\n",
      "epoch: 4, training loss: 2.944015, training acc: 0.452977, valid loss: 4.086657, valid acc: 0.379737\n",
      "\n"
     ]
    },
    {
     "name": "stderr",
     "output_type": "stream",
     "text": [
      "train minibatch loop: 100%|██████████| 625/625 [01:11<00:00,  8.60it/s, accuracy=0.467, cost=2.83]\n",
      "test minibatch loop: 100%|██████████| 157/157 [00:08<00:00, 18.41it/s, accuracy=0.419, cost=3.69]\n",
      "train minibatch loop:   0%|          | 2/625 [00:00<00:58, 10.70it/s, accuracy=0.51, cost=2.52]"
     ]
    },
    {
     "name": "stdout",
     "output_type": "stream",
     "text": [
      "time taken: 80.13013553619385\n",
      "epoch: 5, training loss: 2.784935, training acc: 0.472029, valid loss: 4.096932, valid acc: 0.381295\n",
      "\n"
     ]
    },
    {
     "name": "stderr",
     "output_type": "stream",
     "text": [
      "train minibatch loop: 100%|██████████| 625/625 [01:11<00:00,  8.64it/s, accuracy=0.485, cost=2.71]\n",
      "test minibatch loop: 100%|██████████| 157/157 [00:08<00:00, 18.42it/s, accuracy=0.408, cost=3.72]\n",
      "train minibatch loop:   0%|          | 2/625 [00:00<00:59, 10.42it/s, accuracy=0.526, cost=2.4]"
     ]
    },
    {
     "name": "stdout",
     "output_type": "stream",
     "text": [
      "time taken: 80.1951367855072\n",
      "epoch: 6, training loss: 2.651179, training acc: 0.488709, valid loss: 4.162971, valid acc: 0.382808\n",
      "\n"
     ]
    },
    {
     "name": "stderr",
     "output_type": "stream",
     "text": [
      "train minibatch loop: 100%|██████████| 625/625 [01:11<00:00,  8.61it/s, accuracy=0.495, cost=2.6] \n",
      "test minibatch loop: 100%|██████████| 157/157 [00:08<00:00, 18.41it/s, accuracy=0.432, cost=3.79]\n",
      "train minibatch loop:   0%|          | 2/625 [00:00<00:57, 10.91it/s, accuracy=0.533, cost=2.29]"
     ]
    },
    {
     "name": "stdout",
     "output_type": "stream",
     "text": [
      "time taken: 80.17341542243958\n",
      "epoch: 7, training loss: 2.537494, training acc: 0.503534, valid loss: 4.277043, valid acc: 0.382131\n",
      "\n"
     ]
    },
    {
     "name": "stderr",
     "output_type": "stream",
     "text": [
      "train minibatch loop: 100%|██████████| 625/625 [01:11<00:00,  8.61it/s, accuracy=0.507, cost=2.48]\n",
      "test minibatch loop: 100%|██████████| 157/157 [00:08<00:00, 18.39it/s, accuracy=0.417, cost=3.92]\n",
      "train minibatch loop:   0%|          | 2/625 [00:00<00:57, 10.85it/s, accuracy=0.56, cost=2.18]"
     ]
    },
    {
     "name": "stdout",
     "output_type": "stream",
     "text": [
      "time taken: 80.15221095085144\n",
      "epoch: 8, training loss: 2.442362, training acc: 0.515564, valid loss: 4.352755, valid acc: 0.380341\n",
      "\n"
     ]
    },
    {
     "name": "stderr",
     "output_type": "stream",
     "text": [
      "train minibatch loop: 100%|██████████| 625/625 [01:11<00:00,  8.60it/s, accuracy=0.513, cost=2.42]\n",
      "test minibatch loop: 100%|██████████| 157/157 [00:08<00:00, 18.40it/s, accuracy=0.417, cost=3.95]\n",
      "train minibatch loop:   0%|          | 2/625 [00:00<00:58, 10.70it/s, accuracy=0.561, cost=2.11]"
     ]
    },
    {
     "name": "stdout",
     "output_type": "stream",
     "text": [
      "time taken: 80.12931489944458\n",
      "epoch: 9, training loss: 2.361503, training acc: 0.526305, valid loss: 4.418226, valid acc: 0.381198\n",
      "\n"
     ]
    },
    {
     "name": "stderr",
     "output_type": "stream",
     "text": [
      "train minibatch loop: 100%|██████████| 625/625 [01:11<00:00,  8.64it/s, accuracy=0.525, cost=2.33]\n",
      "test minibatch loop: 100%|██████████| 157/157 [00:08<00:00, 18.42it/s, accuracy=0.42, cost=4.06] \n",
      "train minibatch loop:   0%|          | 2/625 [00:00<00:58, 10.72it/s, accuracy=0.569, cost=2.08]"
     ]
    },
    {
     "name": "stdout",
     "output_type": "stream",
     "text": [
      "time taken: 80.1283028125763\n",
      "epoch: 10, training loss: 2.285442, training acc: 0.536582, valid loss: 4.555112, valid acc: 0.378575\n",
      "\n"
     ]
    },
    {
     "name": "stderr",
     "output_type": "stream",
     "text": [
      "train minibatch loop: 100%|██████████| 625/625 [01:11<00:00,  8.67it/s, accuracy=0.537, cost=2.25]\n",
      "test minibatch loop: 100%|██████████| 157/157 [00:08<00:00, 18.39it/s, accuracy=0.422, cost=4.1] \n",
      "train minibatch loop:   0%|          | 2/625 [00:00<00:58, 10.67it/s, accuracy=0.583, cost=1.98]"
     ]
    },
    {
     "name": "stdout",
     "output_type": "stream",
     "text": [
      "time taken: 80.20693373680115\n",
      "epoch: 11, training loss: 2.214438, training acc: 0.546864, valid loss: 4.634794, valid acc: 0.373202\n",
      "\n"
     ]
    },
    {
     "name": "stderr",
     "output_type": "stream",
     "text": [
      "train minibatch loop: 100%|██████████| 625/625 [01:11<00:00,  8.61it/s, accuracy=0.543, cost=2.2] \n",
      "test minibatch loop: 100%|██████████| 157/157 [00:08<00:00, 18.41it/s, accuracy=0.416, cost=4.02]\n",
      "train minibatch loop:   0%|          | 2/625 [00:00<00:57, 10.85it/s, accuracy=0.591, cost=1.93]"
     ]
    },
    {
     "name": "stdout",
     "output_type": "stream",
     "text": [
      "time taken: 80.12020611763\n",
      "epoch: 12, training loss: 2.147626, training acc: 0.556629, valid loss: 4.609940, valid acc: 0.374454\n",
      "\n"
     ]
    },
    {
     "name": "stderr",
     "output_type": "stream",
     "text": [
      "train minibatch loop: 100%|██████████| 625/625 [01:11<00:00,  8.63it/s, accuracy=0.555, cost=2.14]\n",
      "test minibatch loop: 100%|██████████| 157/157 [00:08<00:00, 18.41it/s, accuracy=0.425, cost=4.14]\n",
      "train minibatch loop:   0%|          | 2/625 [00:00<00:57, 10.78it/s, accuracy=0.607, cost=1.82]"
     ]
    },
    {
     "name": "stdout",
     "output_type": "stream",
     "text": [
      "time taken: 80.10643601417542\n",
      "epoch: 13, training loss: 2.086922, training acc: 0.565635, valid loss: 4.667553, valid acc: 0.374049\n",
      "\n"
     ]
    },
    {
     "name": "stderr",
     "output_type": "stream",
     "text": [
      "train minibatch loop: 100%|██████████| 625/625 [01:11<00:00,  8.58it/s, accuracy=0.562, cost=2.08]\n",
      "test minibatch loop: 100%|██████████| 157/157 [00:08<00:00, 18.28it/s, accuracy=0.42, cost=4.11] \n",
      "train minibatch loop:   0%|          | 2/625 [00:00<00:58, 10.65it/s, accuracy=0.614, cost=1.77]"
     ]
    },
    {
     "name": "stdout",
     "output_type": "stream",
     "text": [
      "time taken: 80.40616846084595\n",
      "epoch: 14, training loss: 2.030220, training acc: 0.574083, valid loss: 4.689450, valid acc: 0.370665\n",
      "\n"
     ]
    },
    {
     "name": "stderr",
     "output_type": "stream",
     "text": [
      "train minibatch loop: 100%|██████████| 625/625 [01:12<00:00,  8.50it/s, accuracy=0.575, cost=2.02]\n",
      "test minibatch loop: 100%|██████████| 157/157 [00:08<00:00, 18.35it/s, accuracy=0.416, cost=4.22]\n",
      "train minibatch loop:   0%|          | 2/625 [00:00<00:57, 10.81it/s, accuracy=0.62, cost=1.76]"
     ]
    },
    {
     "name": "stdout",
     "output_type": "stream",
     "text": [
      "time taken: 80.64563536643982\n",
      "epoch: 15, training loss: 1.982707, training acc: 0.580981, valid loss: 4.774679, valid acc: 0.367956\n",
      "\n"
     ]
    },
    {
     "name": "stderr",
     "output_type": "stream",
     "text": [
      "train minibatch loop: 100%|██████████| 625/625 [01:11<00:00,  8.58it/s, accuracy=0.578, cost=2.01]\n",
      "test minibatch loop: 100%|██████████| 157/157 [00:08<00:00, 18.33it/s, accuracy=0.43, cost=4.12] \n",
      "train minibatch loop:   0%|          | 2/625 [00:00<00:57, 10.92it/s, accuracy=0.619, cost=1.7]"
     ]
    },
    {
     "name": "stdout",
     "output_type": "stream",
     "text": [
      "time taken: 80.52817678451538\n",
      "epoch: 16, training loss: 1.936099, training acc: 0.588024, valid loss: 4.746588, valid acc: 0.371647\n",
      "\n"
     ]
    },
    {
     "name": "stderr",
     "output_type": "stream",
     "text": [
      "train minibatch loop: 100%|██████████| 625/625 [01:11<00:00,  8.60it/s, accuracy=0.565, cost=1.99]\n",
      "test minibatch loop: 100%|██████████| 157/157 [00:08<00:00, 18.37it/s, accuracy=0.422, cost=4.26]\n",
      "train minibatch loop:   0%|          | 2/625 [00:00<00:58, 10.61it/s, accuracy=0.631, cost=1.67]"
     ]
    },
    {
     "name": "stdout",
     "output_type": "stream",
     "text": [
      "time taken: 80.38998436927795\n",
      "epoch: 17, training loss: 1.893885, training acc: 0.594640, valid loss: 4.814614, valid acc: 0.371967\n",
      "\n"
     ]
    },
    {
     "name": "stderr",
     "output_type": "stream",
     "text": [
      "train minibatch loop: 100%|██████████| 625/625 [01:11<00:00,  8.59it/s, accuracy=0.602, cost=1.88]\n",
      "test minibatch loop: 100%|██████████| 157/157 [00:08<00:00, 18.39it/s, accuracy=0.398, cost=4.32]\n",
      "train minibatch loop:   0%|          | 2/625 [00:00<00:57, 10.76it/s, accuracy=0.631, cost=1.64]"
     ]
    },
    {
     "name": "stdout",
     "output_type": "stream",
     "text": [
      "time taken: 80.34107398986816\n",
      "epoch: 18, training loss: 1.852196, training acc: 0.600806, valid loss: 4.868435, valid acc: 0.368715\n",
      "\n"
     ]
    },
    {
     "name": "stderr",
     "output_type": "stream",
     "text": [
      "train minibatch loop: 100%|██████████| 625/625 [01:11<00:00,  8.60it/s, accuracy=0.6, cost=1.87]  \n",
      "test minibatch loop: 100%|██████████| 157/157 [00:08<00:00, 18.43it/s, accuracy=0.404, cost=4.31]"
     ]
    },
    {
     "name": "stdout",
     "output_type": "stream",
     "text": [
      "time taken: 80.15598678588867\n",
      "epoch: 19, training loss: 1.810724, training acc: 0.607612, valid loss: 4.894094, valid acc: 0.365983\n",
      "\n"
     ]
    },
    {
     "name": "stderr",
     "output_type": "stream",
     "text": [
      "\n"
     ]
    }
   ],
   "source": [
    "import time\n",
    "\n",
    "for EPOCH in range(20):\n",
    "    lasttime = time.time()\n",
    "\n",
    "    train_acc, train_loss, test_acc, test_loss = 0, 0, 0, 0\n",
    "    pbar = tqdm(\n",
    "        range(0, len(train_X), batch_size), desc = 'train minibatch loop'\n",
    "    )\n",
    "    for i in pbar:\n",
    "        index = min(i + batch_size, len(train_X))\n",
    "        batch_x, _ = pad_sentence_batch(train_X[i : index], PAD)\n",
    "        batch_y, _ = pad_sentence_batch(train_Y[i : index], PAD)\n",
    "        acc, cost, _ = sess.run(\n",
    "            [model.accuracy, model.cost, model.optimizer],\n",
    "            feed_dict = {\n",
    "                model.Y: batch_y,\n",
    "                model.X: batch_x\n",
    "            },\n",
    "        )\n",
    "        assert not np.isnan(cost)\n",
    "        train_loss += cost\n",
    "        train_acc += acc\n",
    "        pbar.set_postfix(cost = cost, accuracy = acc)\n",
    "        \n",
    "    pbar = tqdm(range(0, len(test_X), batch_size), desc = 'test minibatch loop')\n",
    "    for i in pbar:\n",
    "        index = min(i + batch_size, len(test_X))\n",
    "        batch_x, _ = pad_sentence_batch(test_X[i : index], PAD)\n",
    "        batch_y, _ = pad_sentence_batch(test_Y[i : index], PAD)\n",
    "        acc, cost = sess.run(\n",
    "            [model.accuracy, model.cost],\n",
    "            feed_dict = {\n",
    "                model.Y: batch_y,\n",
    "                model.X: batch_x\n",
    "            },\n",
    "        )\n",
    "        test_loss += cost\n",
    "        test_acc += acc\n",
    "        pbar.set_postfix(cost = cost, accuracy = acc)\n",
    "\n",
    "    train_loss /= len(train_X) / batch_size\n",
    "    train_acc /= len(train_X) / batch_size\n",
    "    test_loss /= len(test_X) / batch_size\n",
    "    test_acc /= len(test_X) / batch_size\n",
    "        \n",
    "    print('time taken:', time.time() - lasttime)\n",
    "    print(\n",
    "        'epoch: %d, training loss: %f, training acc: %f, valid loss: %f, valid acc: %f\\n'\n",
    "        % (EPOCH, train_loss, train_acc, test_loss, test_acc)\n",
    "    )"
   ]
  },
  {
   "cell_type": "code",
   "execution_count": 24,
   "metadata": {},
   "outputs": [],
   "source": [
    "dictionary_bahasa['rev_dictionary'] = {int(k): v for k, v in dictionary_bahasa['rev_dictionary'].items()}\n",
    "dictionary_english['rev_dictionary'] = {int(k): v for k, v in dictionary_english['rev_dictionary'].items()}"
   ]
  },
  {
   "cell_type": "markdown",
   "metadata": {},
   "source": [
    "### Let we test our beam search"
   ]
  },
  {
   "cell_type": "markdown",
   "metadata": {},
   "source": [
    "This is our english string,"
   ]
  },
  {
   "cell_type": "code",
   "execution_count": 26,
   "metadata": {},
   "outputs": [
    {
     "data": {
      "text/plain": [
       "'from the taliban point of view that was their number one mistake last time'"
      ]
     },
     "execution_count": 26,
     "metadata": {},
     "output_type": "execute_result"
    }
   ],
   "source": [
    "' '.join([dictionary_english['rev_dictionary'][i] for i in test_X[0]])"
   ]
  },
  {
   "cell_type": "markdown",
   "metadata": {},
   "source": [
    "Predicted bahasa translation from english string,"
   ]
  },
  {
   "cell_type": "code",
   "execution_count": 17,
   "metadata": {},
   "outputs": [],
   "source": [
    "t = sess.run(model.generate, feed_dict = {model.X: [test_X[0]]})[0,0,:]"
   ]
  },
  {
   "cell_type": "code",
   "execution_count": 23,
   "metadata": {},
   "outputs": [
    {
     "data": {
      "text/plain": [
       "'GO dari taliban menetapkan pandangan yang saya adalah nombor yang ditimbulkan sepanjang masa satu kali terakhir EOS PAD PAD'"
      ]
     },
     "execution_count": 23,
     "metadata": {},
     "output_type": "execute_result"
    }
   ],
   "source": [
    "' '.join([dictionary_bahasa['rev_dictionary'][i] for i in t])"
   ]
  },
  {
   "cell_type": "markdown",
   "metadata": {},
   "source": [
    "Actual translation,"
   ]
  },
  {
   "cell_type": "code",
   "execution_count": 27,
   "metadata": {},
   "outputs": [
    {
     "data": {
      "text/plain": [
       "'dari sudut pandang taliban apos itulah kesilapan nombor satu mereka kali terakhir EOS'"
      ]
     },
     "execution_count": 27,
     "metadata": {},
     "output_type": "execute_result"
    }
   ],
   "source": [
    "' '.join([dictionary_bahasa['rev_dictionary'][i] for i in test_Y[0]])"
   ]
  }
 ],
 "metadata": {
  "kernelspec": {
   "display_name": "Python 3",
   "language": "python",
   "name": "python3"
  },
  "language_info": {
   "codemirror_mode": {
    "name": "ipython",
    "version": 3
   },
   "file_extension": ".py",
   "mimetype": "text/x-python",
   "name": "python",
   "nbconvert_exporter": "python",
   "pygments_lexer": "ipython3",
   "version": "3.6.8"
  }
 },
 "nbformat": 4,
 "nbformat_minor": 2
}
